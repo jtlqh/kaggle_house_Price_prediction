{
 "cells": [
  {
   "cell_type": "code",
   "execution_count": 138,
   "metadata": {},
   "outputs": [],
   "source": [
    "# import ML models\n",
    "import numpy as np\n",
    "import pandas as pd\n",
    "from sklearn.linear_model import Ridge, Lasso, ElasticNet, LinearRegression\n",
    "%matplotlib inline\n",
    "import matplotlib.pyplot as plt\n",
    "from sklearn.metrics import r2_score\n",
    "import seaborn as sns"
   ]
  },
  {
   "cell_type": "code",
   "execution_count": 139,
   "metadata": {},
   "outputs": [],
   "source": [
    "plt.rcParams['figure.figsize']= [14.0, 4.0]"
   ]
  },
  {
   "cell_type": "code",
   "execution_count": 140,
   "metadata": {},
   "outputs": [],
   "source": [
    "import os\n",
    "os.chdir(r\"C:\\Users\\jtlqh\\bootcamp\\my_projects\\machine_learning\")"
   ]
  },
  {
   "cell_type": "code",
   "execution_count": 141,
   "metadata": {
    "scrolled": false
   },
   "outputs": [
    {
     "name": "stdout",
     "output_type": "stream",
     "text": [
      "Index(['Id', 'MSSubClass', 'MSZoning', 'LotFrontage', 'LotArea', 'Street',\n",
      "       'Alley', 'LotShape', 'LandContour', 'Utilities', 'LotConfig',\n",
      "       'LandSlope', 'Neighborhood', 'Condition1', 'Condition2', 'BldgType',\n",
      "       'HouseStyle', 'OverallQual', 'OverallCond', 'YearBuilt', 'YearRemodAdd',\n",
      "       'RoofStyle', 'RoofMatl', 'Exterior1st', 'Exterior2nd', 'MasVnrType',\n",
      "       'MasVnrArea', 'ExterQual', 'ExterCond', 'Foundation', 'BsmtQual',\n",
      "       'BsmtCond', 'BsmtExposure', 'BsmtFinType1', 'BsmtFinSF1',\n",
      "       'BsmtFinType2', 'BsmtFinSF2', 'BsmtUnfSF', 'TotalBsmtSF', 'Heating',\n",
      "       'HeatingQC', 'CentralAir', 'Electrical', '1stFlrSF', '2ndFlrSF',\n",
      "       'LowQualFinSF', 'GrLivArea', 'BsmtFullBath', 'BsmtHalfBath', 'FullBath',\n",
      "       'HalfBath', 'BedroomAbvGr', 'KitchenAbvGr', 'KitchenQual',\n",
      "       'TotRmsAbvGrd', 'Functional', 'Fireplaces', 'FireplaceQu', 'GarageType',\n",
      "       'GarageYrBlt', 'GarageFinish', 'GarageCars', 'GarageArea', 'GarageQual',\n",
      "       'GarageCond', 'PavedDrive', 'WoodDeckSF', 'OpenPorchSF',\n",
      "       'EnclosedPorch', '3SsnPorch', 'ScreenPorch', 'PoolArea', 'PoolQC',\n",
      "       'Fence', 'MiscFeature', 'MiscVal', 'MoSold', 'YrSold', 'SaleType',\n",
      "       'SaleCondition', 'SalePrice'],\n",
      "      dtype='object')\n",
      "<class 'pandas.core.frame.DataFrame'>\n",
      "RangeIndex: 1460 entries, 0 to 1459\n",
      "Data columns (total 81 columns):\n",
      "Id               1460 non-null int64\n",
      "MSSubClass       1460 non-null int64\n",
      "MSZoning         1460 non-null object\n",
      "LotFrontage      1201 non-null float64\n",
      "LotArea          1460 non-null int64\n",
      "Street           1460 non-null object\n",
      "Alley            91 non-null object\n",
      "LotShape         1460 non-null object\n",
      "LandContour      1460 non-null object\n",
      "Utilities        1460 non-null object\n",
      "LotConfig        1460 non-null object\n",
      "LandSlope        1460 non-null object\n",
      "Neighborhood     1460 non-null object\n",
      "Condition1       1460 non-null object\n",
      "Condition2       1460 non-null object\n",
      "BldgType         1460 non-null object\n",
      "HouseStyle       1460 non-null object\n",
      "OverallQual      1460 non-null int64\n",
      "OverallCond      1460 non-null int64\n",
      "YearBuilt        1460 non-null int64\n",
      "YearRemodAdd     1460 non-null int64\n",
      "RoofStyle        1460 non-null object\n",
      "RoofMatl         1460 non-null object\n",
      "Exterior1st      1460 non-null object\n",
      "Exterior2nd      1460 non-null object\n",
      "MasVnrType       1452 non-null object\n",
      "MasVnrArea       1452 non-null float64\n",
      "ExterQual        1460 non-null object\n",
      "ExterCond        1460 non-null object\n",
      "Foundation       1460 non-null object\n",
      "BsmtQual         1423 non-null object\n",
      "BsmtCond         1423 non-null object\n",
      "BsmtExposure     1422 non-null object\n",
      "BsmtFinType1     1423 non-null object\n",
      "BsmtFinSF1       1460 non-null int64\n",
      "BsmtFinType2     1422 non-null object\n",
      "BsmtFinSF2       1460 non-null int64\n",
      "BsmtUnfSF        1460 non-null int64\n",
      "TotalBsmtSF      1460 non-null int64\n",
      "Heating          1460 non-null object\n",
      "HeatingQC        1460 non-null object\n",
      "CentralAir       1460 non-null object\n",
      "Electrical       1459 non-null object\n",
      "1stFlrSF         1460 non-null int64\n",
      "2ndFlrSF         1460 non-null int64\n",
      "LowQualFinSF     1460 non-null int64\n",
      "GrLivArea        1460 non-null int64\n",
      "BsmtFullBath     1460 non-null int64\n",
      "BsmtHalfBath     1460 non-null int64\n",
      "FullBath         1460 non-null int64\n",
      "HalfBath         1460 non-null int64\n",
      "BedroomAbvGr     1460 non-null int64\n",
      "KitchenAbvGr     1460 non-null int64\n",
      "KitchenQual      1460 non-null object\n",
      "TotRmsAbvGrd     1460 non-null int64\n",
      "Functional       1460 non-null object\n",
      "Fireplaces       1460 non-null int64\n",
      "FireplaceQu      770 non-null object\n",
      "GarageType       1379 non-null object\n",
      "GarageYrBlt      1379 non-null float64\n",
      "GarageFinish     1379 non-null object\n",
      "GarageCars       1460 non-null int64\n",
      "GarageArea       1460 non-null int64\n",
      "GarageQual       1379 non-null object\n",
      "GarageCond       1379 non-null object\n",
      "PavedDrive       1460 non-null object\n",
      "WoodDeckSF       1460 non-null int64\n",
      "OpenPorchSF      1460 non-null int64\n",
      "EnclosedPorch    1460 non-null int64\n",
      "3SsnPorch        1460 non-null int64\n",
      "ScreenPorch      1460 non-null int64\n",
      "PoolArea         1460 non-null int64\n",
      "PoolQC           7 non-null object\n",
      "Fence            281 non-null object\n",
      "MiscFeature      54 non-null object\n",
      "MiscVal          1460 non-null int64\n",
      "MoSold           1460 non-null int64\n",
      "YrSold           1460 non-null int64\n",
      "SaleType         1460 non-null object\n",
      "SaleCondition    1460 non-null object\n",
      "SalePrice        1460 non-null int64\n",
      "dtypes: float64(3), int64(35), object(43)\n",
      "memory usage: 924.0+ KB\n"
     ]
    }
   ],
   "source": [
    "#numeric_df=pd.read_csv(\"./numerical.csv\")\n",
    "#numeric_df=numeric_df.drop(numeric_df.columns[[0]], axis=1)\n",
    "#cat_df=pd.read_csv(\"./categorical.csv\")\n",
    "#cat_df=cat_df.drop(cat_df.columns[[0]], axis=1)\n",
    "#features = pd.concat([numeric_df,cat_df], axis=1)\n",
    "train = pd.read_csv(\"./train.csv\")\n",
    "test=pd.read_csv(\"./test.csv\")\n",
    "print(train.columns)\n",
    "train.info()"
   ]
  },
  {
   "cell_type": "code",
   "execution_count": 142,
   "metadata": {},
   "outputs": [
    {
     "name": "stdout",
     "output_type": "stream",
     "text": [
      "(1460, 81)\n",
      "(1459, 80)\n"
     ]
    }
   ],
   "source": [
    "print(train.shape)\n",
    "print(test.shape)\n"
   ]
  },
  {
   "cell_type": "code",
   "execution_count": 143,
   "metadata": {},
   "outputs": [
    {
     "data": {
      "text/plain": [
       "(2919, 80)"
      ]
     },
     "execution_count": 143,
     "metadata": {},
     "output_type": "execute_result"
    }
   ],
   "source": [
    "df=pd.concat([train.iloc[:,:-1],test])\n",
    "df.shape"
   ]
  },
  {
   "cell_type": "code",
   "execution_count": 144,
   "metadata": {},
   "outputs": [],
   "source": [
    "numeric_feat=['Id','MSSubClass','LotFrontage','LotArea','OverallQual','OverallCond','YearBuilt','YearRemodAdd',\\\n",
    "'MasVnrArea','BsmtFinSF1','BsmtFinSF2','BsmtUnfSF','TotalBsmtSF','1stFlrSF','2ndFlrSF','LowQualFinSF','GrLivArea',\\\n",
    "'BsmtFullBath','BsmtHalfBath','FullBath','HalfBath','BedroomAbvGr','KitchenAbvGr','TotRmsAbvGrd','Fireplaces',\\\n",
    "'GarageYrBlt','GarageCars','GarageArea','WoodDeckSF','OpenPorchSF','EnclosedPorch','3SsnPorch','ScreenPorch',\\\n",
    "'PoolArea','MiscVal','MoSold','YrSold']\n",
    "\n",
    "categorical_feat=['MSZoning','Street','Alley','LotShape','LandContour','Utilities',\\\n",
    "'LotConfig','LandSlope','Neighborhood','Condition1','Condition2','BldgType','HouseStyle',\\\n",
    "'RoofStyle','RoofMatl','Exterior1st','Exterior2nd','MasVnrType','ExterQual','ExterCond',\\\n",
    "'Foundation','BsmtQual','BsmtCond','BsmtExposure','BsmtFinType1','BsmtFinType2','Heating',\\\n",
    "'HeatingQC','CentralAir','Electrical','KitchenQual','Functional','FireplaceQu','GarageType',\\\n",
    "'GarageFinish','GarageQual','GarageCond','PavedDrive','PoolQC','Fence','MiscFeature',\\\n",
    "'SaleType','SaleCondition']"
   ]
  },
  {
   "cell_type": "code",
   "execution_count": 146,
   "metadata": {},
   "outputs": [
    {
     "data": {
      "text/html": [
       "<div>\n",
       "<style scoped>\n",
       "    .dataframe tbody tr th:only-of-type {\n",
       "        vertical-align: middle;\n",
       "    }\n",
       "\n",
       "    .dataframe tbody tr th {\n",
       "        vertical-align: top;\n",
       "    }\n",
       "\n",
       "    .dataframe thead th {\n",
       "        text-align: right;\n",
       "    }\n",
       "</style>\n",
       "<table border=\"1\" class=\"dataframe\">\n",
       "  <thead>\n",
       "    <tr style=\"text-align: right;\">\n",
       "      <th></th>\n",
       "      <th>Id</th>\n",
       "      <th>MSSubClass</th>\n",
       "      <th>MSZoning</th>\n",
       "      <th>LotFrontage</th>\n",
       "      <th>LotArea</th>\n",
       "      <th>Street</th>\n",
       "      <th>Alley</th>\n",
       "      <th>LotShape</th>\n",
       "      <th>LandContour</th>\n",
       "      <th>Utilities</th>\n",
       "      <th>...</th>\n",
       "      <th>ScreenPorch</th>\n",
       "      <th>PoolArea</th>\n",
       "      <th>PoolQC</th>\n",
       "      <th>Fence</th>\n",
       "      <th>MiscFeature</th>\n",
       "      <th>MiscVal</th>\n",
       "      <th>MoSold</th>\n",
       "      <th>YrSold</th>\n",
       "      <th>SaleType</th>\n",
       "      <th>SaleCondition</th>\n",
       "    </tr>\n",
       "  </thead>\n",
       "  <tbody>\n",
       "    <tr>\n",
       "      <th>0</th>\n",
       "      <td>1</td>\n",
       "      <td>60</td>\n",
       "      <td>RL</td>\n",
       "      <td>65.0</td>\n",
       "      <td>8450</td>\n",
       "      <td>Pave</td>\n",
       "      <td>NaN</td>\n",
       "      <td>Reg</td>\n",
       "      <td>Lvl</td>\n",
       "      <td>AllPub</td>\n",
       "      <td>...</td>\n",
       "      <td>0</td>\n",
       "      <td>0</td>\n",
       "      <td>NaN</td>\n",
       "      <td>NaN</td>\n",
       "      <td>NaN</td>\n",
       "      <td>0</td>\n",
       "      <td>2</td>\n",
       "      <td>2008</td>\n",
       "      <td>WD</td>\n",
       "      <td>Normal</td>\n",
       "    </tr>\n",
       "    <tr>\n",
       "      <th>1</th>\n",
       "      <td>2</td>\n",
       "      <td>20</td>\n",
       "      <td>RL</td>\n",
       "      <td>80.0</td>\n",
       "      <td>9600</td>\n",
       "      <td>Pave</td>\n",
       "      <td>NaN</td>\n",
       "      <td>Reg</td>\n",
       "      <td>Lvl</td>\n",
       "      <td>AllPub</td>\n",
       "      <td>...</td>\n",
       "      <td>0</td>\n",
       "      <td>0</td>\n",
       "      <td>NaN</td>\n",
       "      <td>NaN</td>\n",
       "      <td>NaN</td>\n",
       "      <td>0</td>\n",
       "      <td>5</td>\n",
       "      <td>2007</td>\n",
       "      <td>WD</td>\n",
       "      <td>Normal</td>\n",
       "    </tr>\n",
       "    <tr>\n",
       "      <th>2</th>\n",
       "      <td>3</td>\n",
       "      <td>60</td>\n",
       "      <td>RL</td>\n",
       "      <td>68.0</td>\n",
       "      <td>11250</td>\n",
       "      <td>Pave</td>\n",
       "      <td>NaN</td>\n",
       "      <td>IR1</td>\n",
       "      <td>Lvl</td>\n",
       "      <td>AllPub</td>\n",
       "      <td>...</td>\n",
       "      <td>0</td>\n",
       "      <td>0</td>\n",
       "      <td>NaN</td>\n",
       "      <td>NaN</td>\n",
       "      <td>NaN</td>\n",
       "      <td>0</td>\n",
       "      <td>9</td>\n",
       "      <td>2008</td>\n",
       "      <td>WD</td>\n",
       "      <td>Normal</td>\n",
       "    </tr>\n",
       "    <tr>\n",
       "      <th>3</th>\n",
       "      <td>4</td>\n",
       "      <td>70</td>\n",
       "      <td>RL</td>\n",
       "      <td>60.0</td>\n",
       "      <td>9550</td>\n",
       "      <td>Pave</td>\n",
       "      <td>NaN</td>\n",
       "      <td>IR1</td>\n",
       "      <td>Lvl</td>\n",
       "      <td>AllPub</td>\n",
       "      <td>...</td>\n",
       "      <td>0</td>\n",
       "      <td>0</td>\n",
       "      <td>NaN</td>\n",
       "      <td>NaN</td>\n",
       "      <td>NaN</td>\n",
       "      <td>0</td>\n",
       "      <td>2</td>\n",
       "      <td>2006</td>\n",
       "      <td>WD</td>\n",
       "      <td>Abnorml</td>\n",
       "    </tr>\n",
       "    <tr>\n",
       "      <th>4</th>\n",
       "      <td>5</td>\n",
       "      <td>60</td>\n",
       "      <td>RL</td>\n",
       "      <td>84.0</td>\n",
       "      <td>14260</td>\n",
       "      <td>Pave</td>\n",
       "      <td>NaN</td>\n",
       "      <td>IR1</td>\n",
       "      <td>Lvl</td>\n",
       "      <td>AllPub</td>\n",
       "      <td>...</td>\n",
       "      <td>0</td>\n",
       "      <td>0</td>\n",
       "      <td>NaN</td>\n",
       "      <td>NaN</td>\n",
       "      <td>NaN</td>\n",
       "      <td>0</td>\n",
       "      <td>12</td>\n",
       "      <td>2008</td>\n",
       "      <td>WD</td>\n",
       "      <td>Normal</td>\n",
       "    </tr>\n",
       "  </tbody>\n",
       "</table>\n",
       "<p>5 rows × 80 columns</p>\n",
       "</div>"
      ],
      "text/plain": [
       "   Id  MSSubClass MSZoning  LotFrontage  LotArea Street Alley LotShape  \\\n",
       "0   1          60       RL         65.0     8450   Pave   NaN      Reg   \n",
       "1   2          20       RL         80.0     9600   Pave   NaN      Reg   \n",
       "2   3          60       RL         68.0    11250   Pave   NaN      IR1   \n",
       "3   4          70       RL         60.0     9550   Pave   NaN      IR1   \n",
       "4   5          60       RL         84.0    14260   Pave   NaN      IR1   \n",
       "\n",
       "  LandContour Utilities      ...       ScreenPorch PoolArea PoolQC Fence  \\\n",
       "0         Lvl    AllPub      ...                 0        0    NaN   NaN   \n",
       "1         Lvl    AllPub      ...                 0        0    NaN   NaN   \n",
       "2         Lvl    AllPub      ...                 0        0    NaN   NaN   \n",
       "3         Lvl    AllPub      ...                 0        0    NaN   NaN   \n",
       "4         Lvl    AllPub      ...                 0        0    NaN   NaN   \n",
       "\n",
       "  MiscFeature MiscVal MoSold  YrSold  SaleType  SaleCondition  \n",
       "0         NaN       0      2    2008        WD         Normal  \n",
       "1         NaN       0      5    2007        WD         Normal  \n",
       "2         NaN       0      9    2008        WD         Normal  \n",
       "3         NaN       0      2    2006        WD        Abnorml  \n",
       "4         NaN       0     12    2008        WD         Normal  \n",
       "\n",
       "[5 rows x 80 columns]"
      ]
     },
     "execution_count": 146,
     "metadata": {},
     "output_type": "execute_result"
    }
   ],
   "source": [
    "df.head(5)"
   ]
  },
  {
   "cell_type": "code",
   "execution_count": 147,
   "metadata": {},
   "outputs": [
    {
     "data": {
      "text/plain": [
       "<matplotlib.axes._subplots.AxesSubplot at 0x1a4c3540e10>"
      ]
     },
     "execution_count": 147,
     "metadata": {},
     "output_type": "execute_result"
    },
    {
     "data": {
      "image/png": "[encoded data removed]",
      "text/plain": [
       "<Figure size 1008x288 with 1 Axes>"
      ]
     },
     "metadata": {
      "needs_background": "light"
     },
     "output_type": "display_data"
    }
   ],
   "source": [
    "missing=df.isna().sum().sort_values(ascending=False)\n",
    "missing[missing>0].plot(kind='bar')\n"
   ]
  },
  {
   "cell_type": "code",
   "execution_count": 148,
   "metadata": {},
   "outputs": [],
   "source": [
    "missing_asNone=['MiscFeature','Fence','PoolQC','Alley','FireplaceQu','FireplaceQu']\n",
    "missing_asMode=['GarageCond','GarageQual','GarageYrBlt','GarageFinish','GarageType','BsmtCond','BsmtExposure','BsmtQual',\\\n",
    "                'BsmtFinType2','BsmtFinType1','MasVnrType','MasVnrArea','MSZoning','BsmtHalfBath','Utilities',\\\n",
    "                'Functional','BsmtFullBath','BsmtFinSF1','Exterior1st','Exterior2nd','BsmtFinSF2','BsmtUnfSF',\\\n",
    "                'TotalBsmtSF','SaleType','Electrical','KitchenQual','GarageArea','GarageCars']"
   ]
  },
  {
   "cell_type": "code",
   "execution_count": 149,
   "metadata": {},
   "outputs": [],
   "source": [
    "df[missing_asNone] = df[missing_asNone].fillna('None')"
   ]
  },
  {
   "cell_type": "code",
   "execution_count": 150,
   "metadata": {},
   "outputs": [],
   "source": [
    "groupby = df[missing_asMode+['Neighborhood']].groupby('Neighborhood')\n",
    "mode_df=[]\n",
    "neighborhood = []\n",
    "for g,sub_df in groupby:\n",
    "    a=sub_df.mode()\n",
    "    mode_df.append(a.iloc[0,:])\n",
    "    neighborhood.append(g)\n",
    "mode_df=pd.DataFrame(mode_df, index=neighborhood)\n",
    "#print(mode_df)\n",
    "\n",
    "def fillna_wMode(x, mode):\n",
    "    if pd.isnull(x[0]):\n",
    "        return (mode[x[1]])  # mode value (most frequent) based on neighborhood\n",
    "    else: return x[0]  \n",
    "for i in missing_asMode:    \n",
    "    df[i] = df[[i,'Neighborhood']].apply(lambda x: fillna_wMode(x, mode_df[i]), axis=1)\n",
    "\n"
   ]
  },
  {
   "cell_type": "code",
   "execution_count": 151,
   "metadata": {},
   "outputs": [],
   "source": [
    "\n",
    "lotFrontage_median=df.groupby('Neighborhood').median()['LotFrontage']\n",
    "def fillna_median(x):\n",
    "    if pd.isnull(x['LotFrontage']):\n",
    "        return lotFrontage_median[x['Neighborhood']]\n",
    "    else: return x['LotFrontage']\n",
    "    \n",
    "df['LotFrontage']=df[['Neighborhood','LotFrontage']].apply(fillna_median, axis=1)"
   ]
  },
  {
   "cell_type": "code",
   "execution_count": 152,
   "metadata": {},
   "outputs": [
    {
     "name": "stdout",
     "output_type": "stream",
     "text": [
      "<class 'pandas.core.frame.DataFrame'>\n",
      "Int64Index: 2919 entries, 0 to 1458\n",
      "Data columns (total 80 columns):\n",
      "Id               2919 non-null int64\n",
      "MSSubClass       2919 non-null int64\n",
      "MSZoning         2919 non-null object\n",
      "LotFrontage      2919 non-null float64\n",
      "LotArea          2919 non-null int64\n",
      "Street           2919 non-null object\n",
      "Alley            2919 non-null object\n",
      "LotShape         2919 non-null object\n",
      "LandContour      2919 non-null object\n",
      "Utilities        2919 non-null object\n",
      "LotConfig        2919 non-null object\n",
      "LandSlope        2919 non-null object\n",
      "Neighborhood     2919 non-null object\n",
      "Condition1       2919 non-null object\n",
      "Condition2       2919 non-null object\n",
      "BldgType         2919 non-null object\n",
      "HouseStyle       2919 non-null object\n",
      "OverallQual      2919 non-null int64\n",
      "OverallCond      2919 non-null int64\n",
      "YearBuilt        2919 non-null int64\n",
      "YearRemodAdd     2919 non-null int64\n",
      "RoofStyle        2919 non-null object\n",
      "RoofMatl         2919 non-null object\n",
      "Exterior1st      2919 non-null object\n",
      "Exterior2nd      2919 non-null object\n",
      "MasVnrType       2919 non-null object\n",
      "MasVnrArea       2919 non-null float64\n",
      "ExterQual        2919 non-null object\n",
      "ExterCond        2919 non-null object\n",
      "Foundation       2919 non-null object\n",
      "BsmtQual         2919 non-null object\n",
      "BsmtCond         2919 non-null object\n",
      "BsmtExposure     2919 non-null object\n",
      "BsmtFinType1     2919 non-null object\n",
      "BsmtFinSF1       2919 non-null float64\n",
      "BsmtFinType2     2919 non-null object\n",
      "BsmtFinSF2       2919 non-null float64\n",
      "BsmtUnfSF        2919 non-null float64\n",
      "TotalBsmtSF      2919 non-null float64\n",
      "Heating          2919 non-null object\n",
      "HeatingQC        2919 non-null object\n",
      "CentralAir       2919 non-null object\n",
      "Electrical       2919 non-null object\n",
      "1stFlrSF         2919 non-null int64\n",
      "2ndFlrSF         2919 non-null int64\n",
      "LowQualFinSF     2919 non-null int64\n",
      "GrLivArea        2919 non-null int64\n",
      "BsmtFullBath     2919 non-null float64\n",
      "BsmtHalfBath     2919 non-null float64\n",
      "FullBath         2919 non-null int64\n",
      "HalfBath         2919 non-null int64\n",
      "BedroomAbvGr     2919 non-null int64\n",
      "KitchenAbvGr     2919 non-null int64\n",
      "KitchenQual      2919 non-null object\n",
      "TotRmsAbvGrd     2919 non-null int64\n",
      "Functional       2919 non-null object\n",
      "Fireplaces       2919 non-null int64\n",
      "FireplaceQu      2919 non-null object\n",
      "GarageType       2919 non-null object\n",
      "GarageYrBlt      2919 non-null float64\n",
      "GarageFinish     2919 non-null object\n",
      "GarageCars       2919 non-null float64\n",
      "GarageArea       2919 non-null float64\n",
      "GarageQual       2919 non-null object\n",
      "GarageCond       2919 non-null object\n",
      "PavedDrive       2919 non-null object\n",
      "WoodDeckSF       2919 non-null int64\n",
      "OpenPorchSF      2919 non-null int64\n",
      "EnclosedPorch    2919 non-null int64\n",
      "3SsnPorch        2919 non-null int64\n",
      "ScreenPorch      2919 non-null int64\n",
      "PoolArea         2919 non-null int64\n",
      "PoolQC           2919 non-null object\n",
      "Fence            2919 non-null object\n",
      "MiscFeature      2919 non-null object\n",
      "MiscVal          2919 non-null int64\n",
      "MoSold           2919 non-null int64\n",
      "YrSold           2919 non-null int64\n",
      "SaleType         2919 non-null object\n",
      "SaleCondition    2919 non-null object\n",
      "dtypes: float64(11), int64(26), object(43)\n",
      "memory usage: 1.8+ MB\n"
     ]
    }
   ],
   "source": [
    "df.info()"
   ]
  },
  {
   "cell_type": "code",
   "execution_count": 153,
   "metadata": {},
   "outputs": [],
   "source": [
    "cat_df=df[categorical_feat]\n",
    "numeric_df=df[numeric_feat]"
   ]
  },
  {
   "cell_type": "code",
   "execution_count": 154,
   "metadata": {},
   "outputs": [
    {
     "data": {
      "text/html": [
       "<div>\n",
       "<style scoped>\n",
       "    .dataframe tbody tr th:only-of-type {\n",
       "        vertical-align: middle;\n",
       "    }\n",
       "\n",
       "    .dataframe tbody tr th {\n",
       "        vertical-align: top;\n",
       "    }\n",
       "\n",
       "    .dataframe thead th {\n",
       "        text-align: right;\n",
       "    }\n",
       "</style>\n",
       "<table border=\"1\" class=\"dataframe\">\n",
       "  <thead>\n",
       "    <tr style=\"text-align: right;\">\n",
       "      <th></th>\n",
       "      <th>MSZoning_C (all)</th>\n",
       "      <th>MSZoning_FV</th>\n",
       "      <th>MSZoning_RH</th>\n",
       "      <th>MSZoning_RL</th>\n",
       "      <th>MSZoning_RM</th>\n",
       "      <th>Street_Grvl</th>\n",
       "      <th>Street_Pave</th>\n",
       "      <th>Alley_Grvl</th>\n",
       "      <th>Alley_None</th>\n",
       "      <th>Alley_Pave</th>\n",
       "      <th>...</th>\n",
       "      <th>SaleType_ConLw</th>\n",
       "      <th>SaleType_New</th>\n",
       "      <th>SaleType_Oth</th>\n",
       "      <th>SaleType_WD</th>\n",
       "      <th>SaleCondition_Abnorml</th>\n",
       "      <th>SaleCondition_AdjLand</th>\n",
       "      <th>SaleCondition_Alloca</th>\n",
       "      <th>SaleCondition_Family</th>\n",
       "      <th>SaleCondition_Normal</th>\n",
       "      <th>SaleCondition_Partial</th>\n",
       "    </tr>\n",
       "  </thead>\n",
       "  <tbody>\n",
       "    <tr>\n",
       "      <th>0</th>\n",
       "      <td>0</td>\n",
       "      <td>0</td>\n",
       "      <td>0</td>\n",
       "      <td>1</td>\n",
       "      <td>0</td>\n",
       "      <td>0</td>\n",
       "      <td>1</td>\n",
       "      <td>0</td>\n",
       "      <td>1</td>\n",
       "      <td>0</td>\n",
       "      <td>...</td>\n",
       "      <td>0</td>\n",
       "      <td>0</td>\n",
       "      <td>0</td>\n",
       "      <td>1</td>\n",
       "      <td>0</td>\n",
       "      <td>0</td>\n",
       "      <td>0</td>\n",
       "      <td>0</td>\n",
       "      <td>1</td>\n",
       "      <td>0</td>\n",
       "    </tr>\n",
       "    <tr>\n",
       "      <th>1</th>\n",
       "      <td>0</td>\n",
       "      <td>0</td>\n",
       "      <td>0</td>\n",
       "      <td>1</td>\n",
       "      <td>0</td>\n",
       "      <td>0</td>\n",
       "      <td>1</td>\n",
       "      <td>0</td>\n",
       "      <td>1</td>\n",
       "      <td>0</td>\n",
       "      <td>...</td>\n",
       "      <td>0</td>\n",
       "      <td>0</td>\n",
       "      <td>0</td>\n",
       "      <td>1</td>\n",
       "      <td>0</td>\n",
       "      <td>0</td>\n",
       "      <td>0</td>\n",
       "      <td>0</td>\n",
       "      <td>1</td>\n",
       "      <td>0</td>\n",
       "    </tr>\n",
       "    <tr>\n",
       "      <th>2</th>\n",
       "      <td>0</td>\n",
       "      <td>0</td>\n",
       "      <td>0</td>\n",
       "      <td>1</td>\n",
       "      <td>0</td>\n",
       "      <td>0</td>\n",
       "      <td>1</td>\n",
       "      <td>0</td>\n",
       "      <td>1</td>\n",
       "      <td>0</td>\n",
       "      <td>...</td>\n",
       "      <td>0</td>\n",
       "      <td>0</td>\n",
       "      <td>0</td>\n",
       "      <td>1</td>\n",
       "      <td>0</td>\n",
       "      <td>0</td>\n",
       "      <td>0</td>\n",
       "      <td>0</td>\n",
       "      <td>1</td>\n",
       "      <td>0</td>\n",
       "    </tr>\n",
       "    <tr>\n",
       "      <th>3</th>\n",
       "      <td>0</td>\n",
       "      <td>0</td>\n",
       "      <td>0</td>\n",
       "      <td>1</td>\n",
       "      <td>0</td>\n",
       "      <td>0</td>\n",
       "      <td>1</td>\n",
       "      <td>0</td>\n",
       "      <td>1</td>\n",
       "      <td>0</td>\n",
       "      <td>...</td>\n",
       "      <td>0</td>\n",
       "      <td>0</td>\n",
       "      <td>0</td>\n",
       "      <td>1</td>\n",
       "      <td>1</td>\n",
       "      <td>0</td>\n",
       "      <td>0</td>\n",
       "      <td>0</td>\n",
       "      <td>0</td>\n",
       "      <td>0</td>\n",
       "    </tr>\n",
       "    <tr>\n",
       "      <th>4</th>\n",
       "      <td>0</td>\n",
       "      <td>0</td>\n",
       "      <td>0</td>\n",
       "      <td>1</td>\n",
       "      <td>0</td>\n",
       "      <td>0</td>\n",
       "      <td>1</td>\n",
       "      <td>0</td>\n",
       "      <td>1</td>\n",
       "      <td>0</td>\n",
       "      <td>...</td>\n",
       "      <td>0</td>\n",
       "      <td>0</td>\n",
       "      <td>0</td>\n",
       "      <td>1</td>\n",
       "      <td>0</td>\n",
       "      <td>0</td>\n",
       "      <td>0</td>\n",
       "      <td>0</td>\n",
       "      <td>1</td>\n",
       "      <td>0</td>\n",
       "    </tr>\n",
       "  </tbody>\n",
       "</table>\n",
       "<p>5 rows × 257 columns</p>\n",
       "</div>"
      ],
      "text/plain": [
       "   MSZoning_C (all)  MSZoning_FV  MSZoning_RH  MSZoning_RL  MSZoning_RM  \\\n",
       "0                 0            0            0            1            0   \n",
       "1                 0            0            0            1            0   \n",
       "2                 0            0            0            1            0   \n",
       "3                 0            0            0            1            0   \n",
       "4                 0            0            0            1            0   \n",
       "\n",
       "   Street_Grvl  Street_Pave  Alley_Grvl  Alley_None  Alley_Pave  \\\n",
       "0            0            1           0           1           0   \n",
       "1            0            1           0           1           0   \n",
       "2            0            1           0           1           0   \n",
       "3            0            1           0           1           0   \n",
       "4            0            1           0           1           0   \n",
       "\n",
       "           ...            SaleType_ConLw  SaleType_New  SaleType_Oth  \\\n",
       "0          ...                         0             0             0   \n",
       "1          ...                         0             0             0   \n",
       "2          ...                         0             0             0   \n",
       "3          ...                         0             0             0   \n",
       "4          ...                         0             0             0   \n",
       "\n",
       "   SaleType_WD  SaleCondition_Abnorml  SaleCondition_AdjLand  \\\n",
       "0            1                      0                      0   \n",
       "1            1                      0                      0   \n",
       "2            1                      0                      0   \n",
       "3            1                      1                      0   \n",
       "4            1                      0                      0   \n",
       "\n",
       "   SaleCondition_Alloca  SaleCondition_Family  SaleCondition_Normal  \\\n",
       "0                     0                     0                     1   \n",
       "1                     0                     0                     1   \n",
       "2                     0                     0                     1   \n",
       "3                     0                     0                     0   \n",
       "4                     0                     0                     1   \n",
       "\n",
       "   SaleCondition_Partial  \n",
       "0                      0  \n",
       "1                      0  \n",
       "2                      0  \n",
       "3                      0  \n",
       "4                      0  \n",
       "\n",
       "[5 rows x 257 columns]"
      ]
     },
     "execution_count": 154,
     "metadata": {},
     "output_type": "execute_result"
    }
   ],
   "source": [
    "pd.get_dummies(cat_df).head()"
   ]
  },
  {
   "cell_type": "code",
   "execution_count": 155,
   "metadata": {},
   "outputs": [
    {
     "data": {
      "text/html": [
       "<div>\n",
       "<style scoped>\n",
       "    .dataframe tbody tr th:only-of-type {\n",
       "        vertical-align: middle;\n",
       "    }\n",
       "\n",
       "    .dataframe tbody tr th {\n",
       "        vertical-align: top;\n",
       "    }\n",
       "\n",
       "    .dataframe thead th {\n",
       "        text-align: right;\n",
       "    }\n",
       "</style>\n",
       "<table border=\"1\" class=\"dataframe\">\n",
       "  <thead>\n",
       "    <tr style=\"text-align: right;\">\n",
       "      <th></th>\n",
       "      <th>MSZoning</th>\n",
       "      <th>Street</th>\n",
       "      <th>Alley</th>\n",
       "      <th>LotShape</th>\n",
       "      <th>LandContour</th>\n",
       "      <th>Utilities</th>\n",
       "      <th>LotConfig</th>\n",
       "      <th>LandSlope</th>\n",
       "      <th>Neighborhood</th>\n",
       "      <th>Condition1</th>\n",
       "      <th>...</th>\n",
       "      <th>GarageType</th>\n",
       "      <th>GarageFinish</th>\n",
       "      <th>GarageQual</th>\n",
       "      <th>GarageCond</th>\n",
       "      <th>PavedDrive</th>\n",
       "      <th>PoolQC</th>\n",
       "      <th>Fence</th>\n",
       "      <th>MiscFeature</th>\n",
       "      <th>SaleType</th>\n",
       "      <th>SaleCondition</th>\n",
       "    </tr>\n",
       "  </thead>\n",
       "  <tbody>\n",
       "    <tr>\n",
       "      <th>count</th>\n",
       "      <td>2919</td>\n",
       "      <td>2919</td>\n",
       "      <td>2919</td>\n",
       "      <td>2919</td>\n",
       "      <td>2919</td>\n",
       "      <td>2919</td>\n",
       "      <td>2919</td>\n",
       "      <td>2919</td>\n",
       "      <td>2919</td>\n",
       "      <td>2919</td>\n",
       "      <td>...</td>\n",
       "      <td>2919</td>\n",
       "      <td>2919</td>\n",
       "      <td>2919</td>\n",
       "      <td>2919</td>\n",
       "      <td>2919</td>\n",
       "      <td>2919</td>\n",
       "      <td>2919</td>\n",
       "      <td>2919</td>\n",
       "      <td>2919</td>\n",
       "      <td>2919</td>\n",
       "    </tr>\n",
       "    <tr>\n",
       "      <th>unique</th>\n",
       "      <td>5</td>\n",
       "      <td>2</td>\n",
       "      <td>3</td>\n",
       "      <td>4</td>\n",
       "      <td>4</td>\n",
       "      <td>2</td>\n",
       "      <td>5</td>\n",
       "      <td>3</td>\n",
       "      <td>25</td>\n",
       "      <td>9</td>\n",
       "      <td>...</td>\n",
       "      <td>6</td>\n",
       "      <td>3</td>\n",
       "      <td>5</td>\n",
       "      <td>5</td>\n",
       "      <td>3</td>\n",
       "      <td>4</td>\n",
       "      <td>5</td>\n",
       "      <td>5</td>\n",
       "      <td>9</td>\n",
       "      <td>6</td>\n",
       "    </tr>\n",
       "    <tr>\n",
       "      <th>top</th>\n",
       "      <td>RL</td>\n",
       "      <td>Pave</td>\n",
       "      <td>None</td>\n",
       "      <td>Reg</td>\n",
       "      <td>Lvl</td>\n",
       "      <td>AllPub</td>\n",
       "      <td>Inside</td>\n",
       "      <td>Gtl</td>\n",
       "      <td>NAmes</td>\n",
       "      <td>Norm</td>\n",
       "      <td>...</td>\n",
       "      <td>Attchd</td>\n",
       "      <td>Unf</td>\n",
       "      <td>TA</td>\n",
       "      <td>TA</td>\n",
       "      <td>Y</td>\n",
       "      <td>None</td>\n",
       "      <td>None</td>\n",
       "      <td>None</td>\n",
       "      <td>WD</td>\n",
       "      <td>Normal</td>\n",
       "    </tr>\n",
       "    <tr>\n",
       "      <th>freq</th>\n",
       "      <td>2266</td>\n",
       "      <td>2907</td>\n",
       "      <td>2721</td>\n",
       "      <td>1859</td>\n",
       "      <td>2622</td>\n",
       "      <td>2918</td>\n",
       "      <td>2133</td>\n",
       "      <td>2778</td>\n",
       "      <td>443</td>\n",
       "      <td>2511</td>\n",
       "      <td>...</td>\n",
       "      <td>1770</td>\n",
       "      <td>1379</td>\n",
       "      <td>2763</td>\n",
       "      <td>2813</td>\n",
       "      <td>2641</td>\n",
       "      <td>2909</td>\n",
       "      <td>2348</td>\n",
       "      <td>2814</td>\n",
       "      <td>2526</td>\n",
       "      <td>2402</td>\n",
       "    </tr>\n",
       "  </tbody>\n",
       "</table>\n",
       "<p>4 rows × 43 columns</p>\n",
       "</div>"
      ],
      "text/plain": [
       "       MSZoning Street Alley LotShape LandContour Utilities LotConfig  \\\n",
       "count      2919   2919  2919     2919        2919      2919      2919   \n",
       "unique        5      2     3        4           4         2         5   \n",
       "top          RL   Pave  None      Reg         Lvl    AllPub    Inside   \n",
       "freq       2266   2907  2721     1859        2622      2918      2133   \n",
       "\n",
       "       LandSlope Neighborhood Condition1      ...      GarageType  \\\n",
       "count       2919         2919       2919      ...            2919   \n",
       "unique         3           25          9      ...               6   \n",
       "top          Gtl        NAmes       Norm      ...          Attchd   \n",
       "freq        2778          443       2511      ...            1770   \n",
       "\n",
       "       GarageFinish GarageQual GarageCond PavedDrive PoolQC Fence MiscFeature  \\\n",
       "count          2919       2919       2919       2919   2919  2919        2919   \n",
       "unique            3          5          5          3      4     5           5   \n",
       "top             Unf         TA         TA          Y   None  None        None   \n",
       "freq           1379       2763       2813       2641   2909  2348        2814   \n",
       "\n",
       "       SaleType SaleCondition  \n",
       "count      2919          2919  \n",
       "unique        9             6  \n",
       "top          WD        Normal  \n",
       "freq       2526          2402  \n",
       "\n",
       "[4 rows x 43 columns]"
      ]
     },
     "execution_count": 155,
     "metadata": {},
     "output_type": "execute_result"
    }
   ],
   "source": [
    "cat_df.describe()"
   ]
  },
  {
   "cell_type": "code",
   "execution_count": 156,
   "metadata": {},
   "outputs": [
    {
     "data": {
      "text/plain": [
       "Index(['Id', 'MSSubClass', 'LotFrontage', 'LotArea', 'OverallQual',\n",
       "       'OverallCond', 'YearBuilt', 'YearRemodAdd', 'MasVnrArea', 'BsmtFinSF1',\n",
       "       'BsmtFinSF2', 'BsmtUnfSF', 'TotalBsmtSF', '1stFlrSF', '2ndFlrSF',\n",
       "       'LowQualFinSF', 'GrLivArea', 'BsmtFullBath', 'BsmtHalfBath', 'FullBath',\n",
       "       'HalfBath', 'BedroomAbvGr', 'KitchenAbvGr', 'TotRmsAbvGrd',\n",
       "       'Fireplaces', 'GarageYrBlt', 'GarageCars', 'GarageArea', 'WoodDeckSF',\n",
       "       'OpenPorchSF', 'EnclosedPorch', '3SsnPorch', 'ScreenPorch', 'PoolArea',\n",
       "       'MiscVal', 'MoSold', 'YrSold'],\n",
       "      dtype='object')"
      ]
     },
     "execution_count": 156,
     "metadata": {},
     "output_type": "execute_result"
    }
   ],
   "source": [
    "numeric_df.columns"
   ]
  },
  {
   "cell_type": "code",
   "execution_count": 157,
   "metadata": {},
   "outputs": [
    {
     "data": {
      "text/plain": [
       "(2919, 43)"
      ]
     },
     "execution_count": 157,
     "metadata": {},
     "output_type": "execute_result"
    }
   ],
   "source": [
    "numeric_df['TotalSF']=numeric_df[['1stFlrSF', '2ndFlrSF','TotalBsmtSF']].apply(np.sum, axis=1)\n",
    "\n",
    "numeric_df['Bath']=numeric_df[['FullBath','BsmtFullBath']].apply(np.sum,axis=1) + \\\n",
    "    numeric_df[['HalfBath','BsmtHalfBath']].apply(lambda x: 0.5*np.sum(x), axis=1)\n",
    "numeric_df['BsmtFin'] = numeric_df[['BsmtFinSF1','BsmtFinSF2']].apply(np.sum, axis=1)\n",
    "numeric_df['Porch'] = numeric_df[['ScreenPorch','3SsnPorch','EnclosedPorch','OpenPorchSF','WoodDeckSF']].apply(np.sum, axis=1)\n",
    "numeric_df['Grarage']=numeric_df[['GarageYrBlt', 'GarageCars', 'GarageArea']].apply(np.sum, axis=1)\n",
    "numeric_df['YearBuiltModeled']=numeric_df[['YearBuilt', 'YearRemodAdd']].apply(np.sum,axis=1)\n",
    "numeric_df.shape"
   ]
  },
  {
   "cell_type": "code",
   "execution_count": 159,
   "metadata": {},
   "outputs": [],
   "source": [
    "\n",
    "col_to_drop = ['Id','1stFlrSF', '2ndFlrSF','TotalBsmtSF','FullBath','BsmtFullBath','HalfBath','BsmtHalfBath',\\\n",
    "               'BsmtFinSF1','BsmtFinSF2','ScreenPorch','3SsnPorch','EnclosedPorch','OpenPorchSF','WoodDeckSF',\\\n",
    "               'GarageYrBlt', 'GarageCars', 'GarageArea','YearBuilt', 'YearRemodAdd']"
   ]
  },
  {
   "cell_type": "code",
   "execution_count": 160,
   "metadata": {},
   "outputs": [],
   "source": [
    "# log transform \n",
    "numeric_df=numeric_df.apply(lambda x: np.add(x,1), axis=0).apply(np.log, axis=0)\n",
    "train['SalePrice'] = train['SalePrice'].apply(np.log)"
   ]
  },
  {
   "cell_type": "code",
   "execution_count": 161,
   "metadata": {},
   "outputs": [
    {
     "data": {
      "text/plain": [
       "array([[<matplotlib.axes._subplots.AxesSubplot object at 0x000001A4E4518B38>,\n",
       "        <matplotlib.axes._subplots.AxesSubplot object at 0x000001A4E4649BE0>,\n",
       "        <matplotlib.axes._subplots.AxesSubplot object at 0x000001A4E0929550>,\n",
       "        <matplotlib.axes._subplots.AxesSubplot object at 0x000001A4DFC0AA90>,\n",
       "        <matplotlib.axes._subplots.AxesSubplot object at 0x000001A4DF3D3240>,\n",
       "        <matplotlib.axes._subplots.AxesSubplot object at 0x000001A4E4581C50>,\n",
       "        <matplotlib.axes._subplots.AxesSubplot object at 0x000001A4E462BC18>],\n",
       "       [<matplotlib.axes._subplots.AxesSubplot object at 0x000001A4E465A208>,\n",
       "        <matplotlib.axes._subplots.AxesSubplot object at 0x000001A4E465A240>,\n",
       "        <matplotlib.axes._subplots.AxesSubplot object at 0x000001A4E24DDCC0>,\n",
       "        <matplotlib.axes._subplots.AxesSubplot object at 0x000001A4E24FC278>,\n",
       "        <matplotlib.axes._subplots.AxesSubplot object at 0x000001A4E251B7F0>,\n",
       "        <matplotlib.axes._subplots.AxesSubplot object at 0x000001A4E253DD68>,\n",
       "        <matplotlib.axes._subplots.AxesSubplot object at 0x000001A4E256B320>],\n",
       "       [<matplotlib.axes._subplots.AxesSubplot object at 0x000001A4E258E898>,\n",
       "        <matplotlib.axes._subplots.AxesSubplot object at 0x000001A4E25B2E10>,\n",
       "        <matplotlib.axes._subplots.AxesSubplot object at 0x000001A4E25DF3C8>,\n",
       "        <matplotlib.axes._subplots.AxesSubplot object at 0x000001A4E4672940>,\n",
       "        <matplotlib.axes._subplots.AxesSubplot object at 0x000001A4E4696EB8>,\n",
       "        <matplotlib.axes._subplots.AxesSubplot object at 0x000001A4E46C2470>,\n",
       "        <matplotlib.axes._subplots.AxesSubplot object at 0x000001A4E46E59E8>],\n",
       "       [<matplotlib.axes._subplots.AxesSubplot object at 0x000001A4E470AF60>,\n",
       "        <matplotlib.axes._subplots.AxesSubplot object at 0x000001A4E4738518>,\n",
       "        <matplotlib.axes._subplots.AxesSubplot object at 0x000001A4E475DA90>,\n",
       "        <matplotlib.axes._subplots.AxesSubplot object at 0x000001A4E4789048>,\n",
       "        <matplotlib.axes._subplots.AxesSubplot object at 0x000001A4E47AE5C0>,\n",
       "        <matplotlib.axes._subplots.AxesSubplot object at 0x000001A4E47D3B38>,\n",
       "        <matplotlib.axes._subplots.AxesSubplot object at 0x000001A4E4CA10F0>],\n",
       "       [<matplotlib.axes._subplots.AxesSubplot object at 0x000001A4E4CC5668>,\n",
       "        <matplotlib.axes._subplots.AxesSubplot object at 0x000001A4E4CE8BE0>,\n",
       "        <matplotlib.axes._subplots.AxesSubplot object at 0x000001A4E4D18198>,\n",
       "        <matplotlib.axes._subplots.AxesSubplot object at 0x000001A4E4D39710>,\n",
       "        <matplotlib.axes._subplots.AxesSubplot object at 0x000001A4E4D5DC88>,\n",
       "        <matplotlib.axes._subplots.AxesSubplot object at 0x000001A4E4D8C240>,\n",
       "        <matplotlib.axes._subplots.AxesSubplot object at 0x000001A4E4DAF7B8>],\n",
       "       [<matplotlib.axes._subplots.AxesSubplot object at 0x000001A4E4DD4D30>,\n",
       "        <matplotlib.axes._subplots.AxesSubplot object at 0x000001A4E4E032E8>,\n",
       "        <matplotlib.axes._subplots.AxesSubplot object at 0x000001A4E4E25860>,\n",
       "        <matplotlib.axes._subplots.AxesSubplot object at 0x000001A4E4E4BDD8>,\n",
       "        <matplotlib.axes._subplots.AxesSubplot object at 0x000001A4E4E79390>,\n",
       "        <matplotlib.axes._subplots.AxesSubplot object at 0x000001A4E4E9D908>,\n",
       "        <matplotlib.axes._subplots.AxesSubplot object at 0x000001A4E4EC5E80>],\n",
       "       [<matplotlib.axes._subplots.AxesSubplot object at 0x000001A4E4EF4438>,\n",
       "        <matplotlib.axes._subplots.AxesSubplot object at 0x000001A4E4F1B9B0>,\n",
       "        <matplotlib.axes._subplots.AxesSubplot object at 0x000001A4E4F45F28>,\n",
       "        <matplotlib.axes._subplots.AxesSubplot object at 0x000001A4E4F744E0>,\n",
       "        <matplotlib.axes._subplots.AxesSubplot object at 0x000001A4E4F9CA58>,\n",
       "        <matplotlib.axes._subplots.AxesSubplot object at 0x000001A4E4FC5FD0>,\n",
       "        <matplotlib.axes._subplots.AxesSubplot object at 0x000001A4E4FF4588>]],\n",
       "      dtype=object)"
      ]
     },
     "execution_count": 161,
     "metadata": {},
     "output_type": "execute_result"
    },
    {
     "data": {
      "image/png": "[encoded data removed]",
      "text/plain": [
       "<Figure size 1008x288 with 49 Axes>"
      ]
     },
     "metadata": {
      "needs_background": "light"
     },
     "output_type": "display_data"
    }
   ],
   "source": [
    "numeric_df.hist()"
   ]
  },
  {
   "cell_type": "code",
   "execution_count": 162,
   "metadata": {},
   "outputs": [
    {
     "data": {
      "text/plain": [
       "<matplotlib.axes._subplots.AxesSubplot at 0x1a4e55e15f8>"
      ]
     },
     "execution_count": 162,
     "metadata": {},
     "output_type": "execute_result"
    },
    {
     "data": {
      "image/png": "[encoded data removed]",
      "text/plain": [
       "<Figure size 1008x288 with 1 Axes>"
      ]
     },
     "metadata": {
      "needs_background": "light"
     },
     "output_type": "display_data"
    }
   ],
   "source": [
    "train['SalePrice'].hist()\n"
   ]
  },
  {
   "cell_type": "code",
   "execution_count": 163,
   "metadata": {},
   "outputs": [
    {
     "data": {
      "text/plain": [
       "<matplotlib.axes._subplots.AxesSubplot at 0x1a4e592a630>"
      ]
     },
     "execution_count": 163,
     "metadata": {},
     "output_type": "execute_result"
    },
    {
     "data": {
      "image/png": "[encoded data removed]",
      "text/plain": [
       "<Figure size 1008x288 with 2 Axes>"
      ]
     },
     "metadata": {
      "needs_background": "light"
     },
     "output_type": "display_data"
    }
   ],
   "source": [
    "numeric_df.drop(columns=col_to_drop,inplace=True)\n",
    "num_cor = numeric_df.corr().apply(abs)\n",
    "sns.heatmap(num_cor)\n"
   ]
  },
  {
   "cell_type": "code",
   "execution_count": 164,
   "metadata": {},
   "outputs": [
    {
     "data": {
      "text/plain": [
       "(2919, 66)"
      ]
     },
     "execution_count": 164,
     "metadata": {},
     "output_type": "execute_result"
    }
   ],
   "source": [
    "# make another dataframe without dummify, but using labelEncoder for catgorical\n",
    "from sklearn.preprocessing import LabelEncoder\n",
    "lencoder = LabelEncoder()\n",
    "\n",
    "def get_label(categorical_column):\n",
    "    return lencoder.fit_transform(categorical_column).reshape((-1,1))\n",
    "\n",
    "labels = pd.DataFrame(index=cat_df.index)\n",
    "for i in cat_df.columns:\n",
    "    labels[i] = get_label(cat_df[i])\n",
    "\n",
    "features = pd.concat([labels, numeric_df], axis=1)\n",
    "features.shape"
   ]
  },
  {
   "cell_type": "code",
   "execution_count": 165,
   "metadata": {},
   "outputs": [
    {
     "data": {
      "text/html": [
       "<div>\n",
       "<style scoped>\n",
       "    .dataframe tbody tr th:only-of-type {\n",
       "        vertical-align: middle;\n",
       "    }\n",
       "\n",
       "    .dataframe tbody tr th {\n",
       "        vertical-align: top;\n",
       "    }\n",
       "\n",
       "    .dataframe thead th {\n",
       "        text-align: right;\n",
       "    }\n",
       "</style>\n",
       "<table border=\"1\" class=\"dataframe\">\n",
       "  <thead>\n",
       "    <tr style=\"text-align: right;\">\n",
       "      <th></th>\n",
       "      <th>MSSubClass</th>\n",
       "      <th>LotFrontage</th>\n",
       "      <th>LotArea</th>\n",
       "      <th>OverallQual</th>\n",
       "      <th>OverallCond</th>\n",
       "      <th>MasVnrArea</th>\n",
       "      <th>BsmtUnfSF</th>\n",
       "      <th>LowQualFinSF</th>\n",
       "      <th>GrLivArea</th>\n",
       "      <th>BedroomAbvGr</th>\n",
       "      <th>...</th>\n",
       "      <th>SaleType_ConLw</th>\n",
       "      <th>SaleType_New</th>\n",
       "      <th>SaleType_Oth</th>\n",
       "      <th>SaleType_WD</th>\n",
       "      <th>SaleCondition_Abnorml</th>\n",
       "      <th>SaleCondition_AdjLand</th>\n",
       "      <th>SaleCondition_Alloca</th>\n",
       "      <th>SaleCondition_Family</th>\n",
       "      <th>SaleCondition_Normal</th>\n",
       "      <th>SaleCondition_Partial</th>\n",
       "    </tr>\n",
       "  </thead>\n",
       "  <tbody>\n",
       "    <tr>\n",
       "      <th>0</th>\n",
       "      <td>4.110874</td>\n",
       "      <td>4.189655</td>\n",
       "      <td>9.042040</td>\n",
       "      <td>2.079442</td>\n",
       "      <td>1.791759</td>\n",
       "      <td>5.283204</td>\n",
       "      <td>5.017280</td>\n",
       "      <td>0.0</td>\n",
       "      <td>7.444833</td>\n",
       "      <td>1.386294</td>\n",
       "      <td>...</td>\n",
       "      <td>0</td>\n",
       "      <td>0</td>\n",
       "      <td>0</td>\n",
       "      <td>1</td>\n",
       "      <td>0</td>\n",
       "      <td>0</td>\n",
       "      <td>0</td>\n",
       "      <td>0</td>\n",
       "      <td>1</td>\n",
       "      <td>0</td>\n",
       "    </tr>\n",
       "    <tr>\n",
       "      <th>1</th>\n",
       "      <td>3.044522</td>\n",
       "      <td>4.394449</td>\n",
       "      <td>9.169623</td>\n",
       "      <td>1.945910</td>\n",
       "      <td>2.197225</td>\n",
       "      <td>0.000000</td>\n",
       "      <td>5.652489</td>\n",
       "      <td>0.0</td>\n",
       "      <td>7.141245</td>\n",
       "      <td>1.386294</td>\n",
       "      <td>...</td>\n",
       "      <td>0</td>\n",
       "      <td>0</td>\n",
       "      <td>0</td>\n",
       "      <td>1</td>\n",
       "      <td>0</td>\n",
       "      <td>0</td>\n",
       "      <td>0</td>\n",
       "      <td>0</td>\n",
       "      <td>1</td>\n",
       "      <td>0</td>\n",
       "    </tr>\n",
       "    <tr>\n",
       "      <th>2</th>\n",
       "      <td>4.110874</td>\n",
       "      <td>4.234107</td>\n",
       "      <td>9.328212</td>\n",
       "      <td>2.079442</td>\n",
       "      <td>1.791759</td>\n",
       "      <td>5.093750</td>\n",
       "      <td>6.075346</td>\n",
       "      <td>0.0</td>\n",
       "      <td>7.488294</td>\n",
       "      <td>1.386294</td>\n",
       "      <td>...</td>\n",
       "      <td>0</td>\n",
       "      <td>0</td>\n",
       "      <td>0</td>\n",
       "      <td>1</td>\n",
       "      <td>0</td>\n",
       "      <td>0</td>\n",
       "      <td>0</td>\n",
       "      <td>0</td>\n",
       "      <td>1</td>\n",
       "      <td>0</td>\n",
       "    </tr>\n",
       "    <tr>\n",
       "      <th>3</th>\n",
       "      <td>4.262680</td>\n",
       "      <td>4.110874</td>\n",
       "      <td>9.164401</td>\n",
       "      <td>2.079442</td>\n",
       "      <td>1.791759</td>\n",
       "      <td>0.000000</td>\n",
       "      <td>6.293419</td>\n",
       "      <td>0.0</td>\n",
       "      <td>7.448916</td>\n",
       "      <td>1.386294</td>\n",
       "      <td>...</td>\n",
       "      <td>0</td>\n",
       "      <td>0</td>\n",
       "      <td>0</td>\n",
       "      <td>1</td>\n",
       "      <td>1</td>\n",
       "      <td>0</td>\n",
       "      <td>0</td>\n",
       "      <td>0</td>\n",
       "      <td>0</td>\n",
       "      <td>0</td>\n",
       "    </tr>\n",
       "    <tr>\n",
       "      <th>4</th>\n",
       "      <td>4.110874</td>\n",
       "      <td>4.442651</td>\n",
       "      <td>9.565284</td>\n",
       "      <td>2.197225</td>\n",
       "      <td>1.791759</td>\n",
       "      <td>5.860786</td>\n",
       "      <td>6.196444</td>\n",
       "      <td>0.0</td>\n",
       "      <td>7.695758</td>\n",
       "      <td>1.609438</td>\n",
       "      <td>...</td>\n",
       "      <td>0</td>\n",
       "      <td>0</td>\n",
       "      <td>0</td>\n",
       "      <td>1</td>\n",
       "      <td>0</td>\n",
       "      <td>0</td>\n",
       "      <td>0</td>\n",
       "      <td>0</td>\n",
       "      <td>1</td>\n",
       "      <td>0</td>\n",
       "    </tr>\n",
       "  </tbody>\n",
       "</table>\n",
       "<p>5 rows × 280 columns</p>\n",
       "</div>"
      ],
      "text/plain": [
       "   MSSubClass  LotFrontage   LotArea  OverallQual  OverallCond  MasVnrArea  \\\n",
       "0    4.110874     4.189655  9.042040     2.079442     1.791759    5.283204   \n",
       "1    3.044522     4.394449  9.169623     1.945910     2.197225    0.000000   \n",
       "2    4.110874     4.234107  9.328212     2.079442     1.791759    5.093750   \n",
       "3    4.262680     4.110874  9.164401     2.079442     1.791759    0.000000   \n",
       "4    4.110874     4.442651  9.565284     2.197225     1.791759    5.860786   \n",
       "\n",
       "   BsmtUnfSF  LowQualFinSF  GrLivArea  BedroomAbvGr          ...            \\\n",
       "0   5.017280           0.0   7.444833      1.386294          ...             \n",
       "1   5.652489           0.0   7.141245      1.386294          ...             \n",
       "2   6.075346           0.0   7.488294      1.386294          ...             \n",
       "3   6.293419           0.0   7.448916      1.386294          ...             \n",
       "4   6.196444           0.0   7.695758      1.609438          ...             \n",
       "\n",
       "   SaleType_ConLw  SaleType_New  SaleType_Oth  SaleType_WD  \\\n",
       "0               0             0             0            1   \n",
       "1               0             0             0            1   \n",
       "2               0             0             0            1   \n",
       "3               0             0             0            1   \n",
       "4               0             0             0            1   \n",
       "\n",
       "   SaleCondition_Abnorml  SaleCondition_AdjLand  SaleCondition_Alloca  \\\n",
       "0                      0                      0                     0   \n",
       "1                      0                      0                     0   \n",
       "2                      0                      0                     0   \n",
       "3                      1                      0                     0   \n",
       "4                      0                      0                     0   \n",
       "\n",
       "   SaleCondition_Family  SaleCondition_Normal  SaleCondition_Partial  \n",
       "0                     0                     1                      0  \n",
       "1                     0                     1                      0  \n",
       "2                     0                     1                      0  \n",
       "3                     0                     0                      0  \n",
       "4                     0                     1                      0  \n",
       "\n",
       "[5 rows x 280 columns]"
      ]
     },
     "execution_count": 165,
     "metadata": {},
     "output_type": "execute_result"
    }
   ],
   "source": [
    "feature_dummy = pd.concat([numeric_df, cat_df],axis=1) #.drop(columns=col_to_drop)\n",
    "feature_dummy = pd.get_dummies(feature_dummy)\n",
    "feature_dummy.head()"
   ]
  },
  {
   "cell_type": "code",
   "execution_count": 166,
   "metadata": {},
   "outputs": [],
   "source": [
    "\n",
    "ridge = Ridge()\n",
    "lasso = Lasso()\n",
    "net   = ElasticNet()"
   ]
  },
  {
   "cell_type": "code",
   "execution_count": 167,
   "metadata": {},
   "outputs": [],
   "source": [
    "def get_error(X_train,y_train,X_test,y_test, model, show = True, refit = True):\n",
    "    if refit: model.fit(X_train, y_train)\n",
    "    train_error = 1 - r2_score(y_train, model.predict(X_train))\n",
    "    test_error = 1 - r2_score(y_test,model.predict(X_test))\n",
    "    if show:\n",
    "        print(\"train error \", train_error)\n",
    "        print(\"test error\", test_error)\n",
    "    return [train_error, test_error]\n",
    "\n"
   ]
  },
  {
   "cell_type": "code",
   "execution_count": 168,
   "metadata": {},
   "outputs": [],
   "source": [
    "import sklearn.model_selection as ms\n",
    "X_train, X_test, y_train, y_test = ms.train_test_split(feature_dummy.iloc[train.index,:], train['SalePrice'], test_size=0.2, random_state=108)\n",
    "\n",
    "Xf_train, Xf_test, yf_train, yf_test = ms.train_test_split(features.iloc[train.index,:], train['SalePrice'], test_size=0.2, random_state=108)\n"
   ]
  },
  {
   "cell_type": "markdown",
   "metadata": {},
   "source": [
    "### Ridge Regression"
   ]
  },
  {
   "cell_type": "code",
   "execution_count": 169,
   "metadata": {},
   "outputs": [
    {
     "name": "stdout",
     "output_type": "stream",
     "text": [
      "{'alpha': 1.0, 'copy_X': True, 'fit_intercept': True, 'max_iter': None, 'normalize': False, 'random_state': None, 'solver': 'auto', 'tol': 0.001}\n",
      "Fitting 5 folds for each of 39 candidates, totalling 195 fits\n"
     ]
    },
    {
     "name": "stderr",
     "output_type": "stream",
     "text": [
      "[Parallel(n_jobs=-1)]: Using backend LokyBackend with 12 concurrent workers.\n",
      "[Parallel(n_jobs=-1)]: Done  17 tasks      | elapsed:    2.9s\n"
     ]
    },
    {
     "name": "stdout",
     "output_type": "stream",
     "text": [
      "Wall time: 3.59 s\n",
      "Ridge(alpha=5, copy_X=True, fit_intercept=True, max_iter=None,\n",
      "   normalize=False, random_state=108, solver='auto', tol=0.0001)\n",
      "train error  0.06645762255387533\n",
      "test error 0.10170968391678537\n"
     ]
    },
    {
     "name": "stderr",
     "output_type": "stream",
     "text": [
      "[Parallel(n_jobs=-1)]: Done 195 out of 195 | elapsed:    3.5s finished\n"
     ]
    },
    {
     "data": {
      "text/plain": [
       "[0.06645762255387533, 0.10170968391678537]"
      ]
     },
     "execution_count": 169,
     "metadata": {},
     "output_type": "execute_result"
    }
   ],
   "source": [
    "#run a grid search to find error rates for max_depths ranging 1-30\n",
    "print(ridge.get_params())\n",
    "grid_para = dict(alpha = range(1,40))\n",
    "ridge.set_params(random_state=108, tol=0.0001)\n",
    "# create and fit a ridge regression model, testing each alpha\n",
    "grid_search_ridge = ms.GridSearchCV(ridge,  cv=5, param_grid=grid_para, n_jobs=-1, verbose=2)\n",
    "%time grid_search_ridge.fit(X_train,y_train)  # What to call to trigger the gridSearchCV\n",
    "ridge=grid_search_ridge.best_estimator_\n",
    "print(ridge)\n",
    "get_error(X_train,y_train,X_test,y_test,ridge)      "
   ]
  },
  {
   "cell_type": "markdown",
   "metadata": {},
   "source": [
    "### Lasso Regression"
   ]
  },
  {
   "cell_type": "code",
   "execution_count": 170,
   "metadata": {},
   "outputs": [
    {
     "name": "stdout",
     "output_type": "stream",
     "text": [
      "Wall time: 460 ms\n",
      "Lasso(alpha=0.00046415888336127773, copy_X=True, fit_intercept=True,\n",
      "   max_iter=1000, normalize=False, positive=False, precompute=False,\n",
      "   random_state=108, selection='cyclic', tol=0.0001, warm_start=False)\n",
      "train error  0.06628941395693877\n",
      "test error 0.09576504321485335\n"
     ]
    },
    {
     "data": {
      "text/plain": [
       "[0.06628941395693877, 0.09576504321485335]"
      ]
     },
     "execution_count": 170,
     "metadata": {},
     "output_type": "execute_result"
    }
   ],
   "source": [
    "#run a grid search to find error rates for max_depths ranging 1-30\n",
    "grid_para = dict(alpha = np.logspace(-4,-2,10))\n",
    "lasso.set_params(random_state=108)\n",
    "# create and fit a ridge regression model, testing each alpha\n",
    "grid_search_lasso = ms.GridSearchCV(lasso,  cv=5, param_grid=grid_para, n_jobs=-1)\n",
    "%time grid_search_lasso.fit(X_train,y_train)  # What to call to trigger the gridSearchCV\n",
    "lasso=grid_search_lasso.best_estimator_\n",
    "print(lasso)\n",
    "get_error(X_train,y_train,X_test,y_test,lasso)  "
   ]
  },
  {
   "cell_type": "markdown",
   "metadata": {},
   "source": [
    "### Elastic Net Regression"
   ]
  },
  {
   "cell_type": "code",
   "execution_count": 171,
   "metadata": {
    "scrolled": true
   },
   "outputs": [
    {
     "name": "stdout",
     "output_type": "stream",
     "text": [
      "Fitting 5 folds for each of 50 candidates, totalling 250 fits\n"
     ]
    },
    {
     "name": "stderr",
     "output_type": "stream",
     "text": [
      "[Parallel(n_jobs=-1)]: Using backend LokyBackend with 12 concurrent workers.\n",
      "[Parallel(n_jobs=-1)]: Done  17 tasks      | elapsed:    0.4s\n"
     ]
    },
    {
     "name": "stdout",
     "output_type": "stream",
     "text": [
      "Wall time: 2.12 s\n",
      "ElasticNet(alpha=0.0016681005372000592, copy_X=True, fit_intercept=True,\n",
      "      l1_ratio=0.31622776601683794, max_iter=1000, normalize=False,\n",
      "      positive=False, precompute=False, random_state=108,\n",
      "      selection='cyclic', tol=0.0001, warm_start=False)\n",
      "train error  0.07414610563885049\n",
      "test error 0.0991032393324931\n"
     ]
    },
    {
     "name": "stderr",
     "output_type": "stream",
     "text": [
      "[Parallel(n_jobs=-1)]: Done 250 out of 250 | elapsed:    2.0s finished\n"
     ]
    },
    {
     "data": {
      "text/plain": [
       "[0.07414610563885049, 0.0991032393324931]"
      ]
     },
     "execution_count": 171,
     "metadata": {},
     "output_type": "execute_result"
    }
   ],
   "source": [
    "#run a grid search to find error rates for max_depths ranging 1-30\n",
    "grid_para = dict(alpha = np.logspace(-3,-1,10),\n",
    "                l1_ratio =np.logspace(-2,0,5))\n",
    "net.set_params(random_state=108)\n",
    "# create and fit a ridge regression model, testing each alpha\n",
    "grid_search_net = ms.GridSearchCV(net,  cv=5, param_grid=grid_para, n_jobs=-1, verbose=2)\n",
    "%time grid_search_net.fit(X_train,y_train)  # What to call to trigger the gridSearchCV\n",
    "net=grid_search_net.best_estimator_\n",
    "print(net)\n",
    "get_error(X_train,y_train,X_test,y_test,net)  "
   ]
  },
  {
   "cell_type": "markdown",
   "metadata": {},
   "source": [
    "### Random Forest"
   ]
  },
  {
   "cell_type": "code",
   "execution_count": 185,
   "metadata": {},
   "outputs": [
    {
     "name": "stdout",
     "output_type": "stream",
     "text": [
      "Parameters currently in use:\n",
      "\n",
      "{'bootstrap': False,\n",
      " 'criterion': 'mse',\n",
      " 'max_depth': 12,\n",
      " 'max_features': 10,\n",
      " 'max_leaf_nodes': None,\n",
      " 'min_impurity_decrease': 0.0,\n",
      " 'min_impurity_split': None,\n",
      " 'min_samples_leaf': 1,\n",
      " 'min_samples_split': 2,\n",
      " 'min_weight_fraction_leaf': 0.0,\n",
      " 'n_estimators': 50,\n",
      " 'n_jobs': None,\n",
      " 'oob_score': False,\n",
      " 'random_state': 108,\n",
      " 'verbose': 0,\n",
      " 'warm_start': False}\n",
      "train error  0.002504217816991061\n",
      "test error 0.12707261902433808\n"
     ]
    },
    {
     "data": {
      "text/plain": [
       "[0.002504217816991061, 0.12707261902433808]"
      ]
     },
     "execution_count": 185,
     "metadata": {},
     "output_type": "execute_result"
    }
   ],
   "source": [
    "from sklearn.ensemble import RandomForestRegressor\n",
    "rf = RandomForestRegressor(bootstrap=False, criterion='mse', max_depth=12,\n",
    "           max_features=10, max_leaf_nodes=None, min_impurity_decrease=0.0,\n",
    "           min_impurity_split=None, min_samples_leaf=1,\n",
    "           min_samples_split=2, min_weight_fraction_leaf=0.0,\n",
    "           n_estimators=50, n_jobs=None, oob_score=False, random_state=108,\n",
    "           verbose=0, warm_start=False)\n",
    "from pprint import pprint\n",
    "# Look at parameters used by our current forest\n",
    "print('Parameters currently in use:\\n')\n",
    "pprint(rf.get_params())\n",
    "rf.fit(Xf_train,yf_train)\n",
    "get_error(Xf_train,yf_train,Xf_test,yf_test,rf)\n"
   ]
  },
  {
   "cell_type": "code",
   "execution_count": 50,
   "metadata": {},
   "outputs": [
    {
     "name": "stdout",
     "output_type": "stream",
     "text": [
      "Wall time: 1.19 s\n",
      "RandomForestRegressor(bootstrap=False, criterion='mse', max_depth=12,\n",
      "           max_features=10, max_leaf_nodes=None, min_impurity_decrease=0.0,\n",
      "           min_impurity_split=None, min_samples_leaf=1,\n",
      "           min_samples_split=2, min_weight_fraction_leaf=0.0,\n",
      "           n_estimators=50, n_jobs=None, oob_score=False, random_state=108,\n",
      "           verbose=0, warm_start=False)\n",
      "train error  0.002504217816991061\n",
      "test error 0.12707261902433808\n"
     ]
    },
    {
     "data": {
      "text/plain": [
       "<matplotlib.axes._subplots.AxesSubplot at 0x1a4cba984e0>"
      ]
     },
     "execution_count": 50,
     "metadata": {},
     "output_type": "execute_result"
    },
    {
     "data": {
      "image/png": "[encoded data removed]",
      "text/plain": [
       "<Figure size 1152x432 with 1 Axes>"
      ]
     },
     "metadata": {
      "needs_background": "light"
     },
     "output_type": "display_data"
    }
   ],
   "source": [
    "# use dummy dataframe for tree models\n",
    "\n",
    "# Create the random grid\n",
    "random_grid = {\n",
    "               'max_features': [10,12,14],\n",
    "               'max_depth': [10,12,14],\n",
    "               'min_samples_split': [2,3,4],\n",
    "               'min_samples_leaf': [1,2,3,4],\n",
    "                'n_estimators': [10,20,30,40,50],\n",
    "              'min_weight_fraction_leaf':[0.0,0.0001,0.001,0.01],\n",
    "              'min_impurity_decrease':[0.0,0.0001,0.001]}\n",
    "#pprint(random_grid)\n",
    "\n",
    "grid_search_forest = ms.RandomizedSearchCV(rf, random_grid, cv = 10, verbose=0, n_jobs = -1, random_state=108)\n",
    "#grid_search_forest = RandomizedSearchCV(rf, random_grid, cv=5, n_jobs=-1)\n",
    "%time grid_search_forest.fit(Xf_train, yf_train)   # %time     is ipython magic command to measure the execution timebest_net=grid_search_net.best_estimator_\n",
    "rf = grid_search_forest.best_estimator_\n",
    "print(rf)\n",
    "get_error(Xf_train,yf_train,Xf_test,yf_test,rf)  \n",
    "importance_forest=(pd.DataFrame(sorted(zip(Xf_train.columns, rf.feature_importances_), key=lambda x: x[1], reverse=True)))\n",
    "\n",
    "importance_forest[:25].plot(kind='barh', x=0, y=1)"
   ]
  },
  {
   "cell_type": "markdown",
   "metadata": {},
   "source": [
    "### Gradient Boosting Machine"
   ]
  },
  {
   "cell_type": "code",
   "execution_count": 173,
   "metadata": {},
   "outputs": [],
   "source": [
    "from sklearn.ensemble import GradientBoostingRegressor\n"
   ]
  },
  {
   "cell_type": "code",
   "execution_count": 174,
   "metadata": {},
   "outputs": [
    {
     "name": "stdout",
     "output_type": "stream",
     "text": [
      "train error  0.032378830555742644\n",
      "test error 0.09103126014866492\n"
     ]
    },
    {
     "data": {
      "text/plain": [
       "[0.032378830555742644, 0.09103126014866492]"
      ]
     },
     "execution_count": 174,
     "metadata": {},
     "output_type": "execute_result"
    }
   ],
   "source": [
    "# gradient boosting on label dataframe\n",
    "gbmr = GradientBoostingRegressor()\n",
    "interval=1000\n",
    "n_estimators=41 * interval\n",
    "gbmr.set_params(alpha=0.8, criterion='mse', init=None,\n",
    "             learning_rate=0.005, loss='ls', max_depth=3, max_features=4,\n",
    "             max_leaf_nodes=None, min_impurity_decrease=0.0,\n",
    "             min_impurity_split=None, min_samples_leaf=2,\n",
    "             min_samples_split=2, min_weight_fraction_leaf=0.0,\n",
    "             n_estimators=4200, n_iter_no_change=None, presort='auto',\n",
    "             random_state=108, subsample=0.9, tol=0.1,\n",
    "             validation_fraction=0.2, verbose=0, warm_start=False)\n",
    "gbmr.fit(Xf_train,yf_train)\n",
    "get_error(Xf_train,yf_train,Xf_test,yf_test,gbmr)"
   ]
  },
  {
   "cell_type": "code",
   "execution_count": 175,
   "metadata": {},
   "outputs": [
    {
     "name": "stdout",
     "output_type": "stream",
     "text": [
      "Wall time: 16.8 s\n",
      "GradientBoostingRegressor(alpha=0.8, criterion='mse', init=None,\n",
      "             learning_rate=0.005, loss='ls', max_depth=3, max_features=4,\n",
      "             max_leaf_nodes=None, min_impurity_decrease=0.0,\n",
      "             min_impurity_split=None, min_samples_leaf=2,\n",
      "             min_samples_split=2, min_weight_fraction_leaf=0.0,\n",
      "             n_estimators=4200, n_iter_no_change=None, presort='auto',\n",
      "             random_state=108, subsample=0.9, tol=0.1,\n",
      "             validation_fraction=0.2, verbose=0, warm_start=False)\n",
      "train error  0.032378830555742644\n",
      "test error 0.09103126014866492\n",
      "[0.032378830555742644, 0.09103126014866492]\n"
     ]
    },
    {
     "data": {
      "text/plain": [
       "<matplotlib.axes._subplots.AxesSubplot at 0x1a4c61de2e8>"
      ]
     },
     "execution_count": 175,
     "metadata": {},
     "output_type": "execute_result"
    },
    {
     "data": {
      "image/png": "[encoded data removed]",
      "text/plain": [
       "<Figure size 1008x288 with 1 Axes>"
      ]
     },
     "metadata": {
      "needs_background": "light"
     },
     "output_type": "display_data"
    }
   ],
   "source": [
    "param_grid = {'n_estimators': [4100,4200],\n",
    "               'max_features': range(4,5,5),\n",
    "               'max_depth': [2,3],\n",
    "               'min_samples_split': [2,4],\n",
    "               'min_samples_leaf': [2,3],\n",
    "               'learning_rate': [0.005],\n",
    "                'subsample':[0.9]}\n",
    "grid_search_gbmr =ms.GridSearchCV(gbmr, param_grid=param_grid, cv=5 ,return_train_score=True,n_jobs=-1)\n",
    "#print(gbmr.get_params())\n",
    "%time grid_search_gbmr.fit(Xf_train,yf_train)\n",
    "gbmr=grid_search_gbmr.best_estimator_\n",
    "print(gbmr)\n",
    "#print(\"best train error \", 1-r2_score(gbmr.predict(X_train), y_train))\n",
    "#print(\"best test error \", 1-r2_score(gbmr.predict(X_test), y_test))\n",
    "print(get_error(Xf_train, yf_train, Xf_test, yf_test, gbmr))\n",
    "\n",
    "importance_gbmr=pd.DataFrame(sorted(zip(Xf_train.columns, gbmr.feature_importances_), key=lambda x: x[1], reverse=True))\n",
    "importance_gbmr[:20].plot(kind='barh', x=0, y=1)"
   ]
  },
  {
   "cell_type": "markdown",
   "metadata": {},
   "source": [
    "### Support Vector Machine"
   ]
  },
  {
   "cell_type": "code",
   "execution_count": 176,
   "metadata": {},
   "outputs": [
    {
     "name": "stdout",
     "output_type": "stream",
     "text": [
      "train error  0.06438278425265442\n",
      "test error 0.09509496013383911\n"
     ]
    },
    {
     "data": {
      "text/plain": [
       "[0.06438278425265442, 0.09509496013383911]"
      ]
     },
     "execution_count": 176,
     "metadata": {},
     "output_type": "execute_result"
    }
   ],
   "source": [
    "from sklearn import svm\n",
    "svmr = svm.SVR(C=30, cache_size=200, coef0=0.0, degree=2, epsilon=0.03, gamma=0.001,\n",
    "  kernel='poly', max_iter=-1, shrinking=True, tol=0.01, verbose=False)\n",
    "get_error(X_train,y_train, X_test,y_test,svmr)\n"
   ]
  },
  {
   "cell_type": "code",
   "execution_count": 177,
   "metadata": {},
   "outputs": [
    {
     "name": "stdout",
     "output_type": "stream",
     "text": [
      "Wall time: 5.37 s\n",
      "SVR(C=30, cache_size=200, coef0=0.0, degree=2, epsilon=0.04, gamma=0.001,\n",
      "  kernel='poly', max_iter=-1, shrinking=True, tol=0.01, verbose=False)\n",
      "train error  0.06409914945845707\n",
      "test error 0.09522575419184987\n",
      "[0.06409914945845707, 0.09522575419184987]\n"
     ]
    }
   ],
   "source": [
    "grid_para_svm = [\n",
    "    {'C': [30],#np.logspace(2,4,20),\n",
    "     'gamma': [0.0001,0.001,0.01],#np.logspace(-3,3,10),\n",
    "     'epsilon': [0.03,0.04,0.05,0.06], #np.logspace(-2,0,20),\n",
    "     'degree': [2],\n",
    "     'tol':[0.01],\n",
    "     'kernel': ['poly']}\n",
    "]\n",
    "grid_search_svm = ms.GridSearchCV(svmr, param_grid=grid_para_svm, cv=5, return_train_score=True,  n_jobs=-1)\n",
    "%time grid_search_svm.fit(X_train, y_train)\n",
    "\n",
    "svm =grid_search_svm.best_estimator_\n",
    "print(svm)\n",
    "\n",
    "print(get_error(X_train,y_train, X_test, y_test, svm))\n"
   ]
  },
  {
   "cell_type": "markdown",
   "metadata": {},
   "source": [
    "### Xgboost Regression"
   ]
  },
  {
   "cell_type": "code",
   "execution_count": 178,
   "metadata": {},
   "outputs": [
    {
     "name": "stdout",
     "output_type": "stream",
     "text": [
      "{'base_score': 0.5, 'booster': 'gbtree', 'colsample_bylevel': 1, 'colsample_bynode': 0.7, 'colsample_bytree': 0.4, 'gamma': 0, 'importance_type': 'gain', 'learning_rate': 0.01, 'max_delta_step': 0, 'max_depth': 6, 'min_child_weight': 1.1, 'missing': None, 'n_estimators': 5000, 'n_jobs': -1, 'nthread': -1, 'objective': 'reg:squarederror', 'random_state': 0, 'reg_alpha': 0, 'reg_lambda': 1, 'scale_pos_weight': 1, 'seed': 42, 'silent': None, 'subsample': 0.9, 'verbosity': 1}\n",
      "Wall time: 2.54 s\n",
      "train error  0.0148124732378494\n",
      "test error 0.09665161151869917\n"
     ]
    },
    {
     "data": {
      "text/plain": [
       "[0.0148124732378494, 0.09665161151869917]"
      ]
     },
     "execution_count": 178,
     "metadata": {},
     "output_type": "execute_result"
    }
   ],
   "source": [
    "import xgboost\n",
    "\n",
    "import warnings\n",
    "n_estimators= 50000\n",
    "warnings.filterwarnings('ignore')\n",
    "xgb = xgboost.XGBRegressor(base_score=0.5, booster='gbtree', colsample_bylevel=1,\n",
    "       colsample_bynode=0.7, colsample_bytree=0.4, gamma=0,\n",
    "       importance_type='gain', learning_rate=0.01, max_delta_step=0,\n",
    "       max_depth=6, min_child_weight=1.1, missing=None, n_estimators=5000,\n",
    "       n_jobs=-1, nthread=-1, objective='reg:squarederror', random_state=0,\n",
    "       reg_alpha=0, reg_lambda=1, scale_pos_weight=1, seed=42, silent=None,\n",
    "       subsample=0.9, verbosity=1)\n",
    "print(xgb.get_params())\n",
    "\n",
    "%time xgb.fit(X_train, y_train, eval_metric='rmse', eval_set=[(X_test, y_test)], early_stopping_rounds=12,verbose=False)\n",
    "get_error(X_train,y_train,X_test,y_test,xgb, True,False)\n"
   ]
  },
  {
   "cell_type": "code",
   "execution_count": 179,
   "metadata": {},
   "outputs": [
    {
     "name": "stdout",
     "output_type": "stream",
     "text": [
      "Wall time: 50.3 s\n",
      "XGBRegressor(base_score=0.5, booster='gbtree', colsample_bylevel=1,\n",
      "       colsample_bynode=0.7, colsample_bytree=0.4, gamma=0,\n",
      "       importance_type='gain', learning_rate=0.01, max_delta_step=0,\n",
      "       max_depth=5, min_child_weight=1.2, missing=None, n_estimators=4000,\n",
      "       n_jobs=-1, nthread=-1, objective='reg:squarederror', random_state=0,\n",
      "       reg_alpha=0, reg_lambda=1, scale_pos_weight=1, seed=42, silent=None,\n",
      "       subsample=0.9, verbosity=1)\n",
      "train error  0.02706811054196656\n",
      "test error 0.09804547982574763\n"
     ]
    },
    {
     "data": {
      "text/plain": [
       "[0.02706811054196656, 0.09804547982574763]"
      ]
     },
     "execution_count": 179,
     "metadata": {},
     "output_type": "execute_result"
    }
   ],
   "source": [
    "params = {'n_estimators': [4000,5000], 'max_depth':[5,6], 'min_child_weight':[1.2,1.3] }\n",
    "\n",
    "#dtrain = xgboost.DMatrix(X_train, y_train)\n",
    "#dtest = xgboost.DMatrix(X_test, y_test)\n",
    "grid = ms.GridSearchCV(xgb, params, cv=5, return_train_score=True, n_jobs=-1)\n",
    "%time grid.fit(X_train, y_train, eval_metric='rmse', eval_set=[(X_test, y_test)], early_stopping_rounds=11,verbose=False)\n",
    "\n",
    "xgb=grid.best_estimator_\n",
    "print(xgb)\n",
    "\n",
    "get_error(X_train,y_train,X_test,y_test,xgb, True,False)\n"
   ]
  },
  {
   "cell_type": "markdown",
   "metadata": {},
   "source": [
    "### Asemble all models"
   ]
  },
  {
   "cell_type": "code",
   "execution_count": 186,
   "metadata": {},
   "outputs": [],
   "source": [
    "models_name = ['ridge', 'lasso', 'net', 'forest', 'gradient boost', 'svm', 'xgboost']\n",
    "models_wo_dummfy =['forest', 'gradient boost']\n",
    "models = pd.Series(dict(zip(models_name,[ridge, lasso, net,rf, gbmr, svmr, xgb]))).reset_index()\n",
    "models.columns=['model_name','model']\n",
    "\n",
    "\n",
    "def fit_score(model):\n",
    "    if model['model_name'] in models_wo_dummfy:\n",
    "        return get_error(Xf_train,yf_train,Xf_test,yf_test, model['model'], False, False)\n",
    "    else:\n",
    "        return get_error(X_train,y_train,X_test,y_test, model['model'], False, False)\n",
    "    \n",
    "    \n",
    "final = models.apply(fit_score, axis=1)\n",
    "final=pd.DataFrame(final.tolist(), columns=['train_err', 'test_err'], index=models_name).reset_index()\n"
   ]
  },
  {
   "cell_type": "markdown",
   "metadata": {},
   "source": [
    "### Blending Models"
   ]
  },
  {
   "cell_type": "code",
   "execution_count": 187,
   "metadata": {},
   "outputs": [
    {
     "data": {
      "text/html": [
       "<div>\n",
       "<style scoped>\n",
       "    .dataframe tbody tr th:only-of-type {\n",
       "        vertical-align: middle;\n",
       "    }\n",
       "\n",
       "    .dataframe tbody tr th {\n",
       "        vertical-align: top;\n",
       "    }\n",
       "\n",
       "    .dataframe thead th {\n",
       "        text-align: right;\n",
       "    }\n",
       "</style>\n",
       "<table border=\"1\" class=\"dataframe\">\n",
       "  <thead>\n",
       "    <tr style=\"text-align: right;\">\n",
       "      <th></th>\n",
       "      <th>model</th>\n",
       "      <th>train_err</th>\n",
       "      <th>test_err</th>\n",
       "    </tr>\n",
       "  </thead>\n",
       "  <tbody>\n",
       "    <tr>\n",
       "      <th>0</th>\n",
       "      <td>ridge</td>\n",
       "      <td>0.066458</td>\n",
       "      <td>0.101710</td>\n",
       "    </tr>\n",
       "    <tr>\n",
       "      <th>1</th>\n",
       "      <td>lasso</td>\n",
       "      <td>0.066289</td>\n",
       "      <td>0.095765</td>\n",
       "    </tr>\n",
       "    <tr>\n",
       "      <th>2</th>\n",
       "      <td>net</td>\n",
       "      <td>0.074146</td>\n",
       "      <td>0.099103</td>\n",
       "    </tr>\n",
       "    <tr>\n",
       "      <th>3</th>\n",
       "      <td>forest</td>\n",
       "      <td>0.002504</td>\n",
       "      <td>0.127073</td>\n",
       "    </tr>\n",
       "    <tr>\n",
       "      <th>4</th>\n",
       "      <td>gradient boost</td>\n",
       "      <td>0.032379</td>\n",
       "      <td>0.091031</td>\n",
       "    </tr>\n",
       "    <tr>\n",
       "      <th>5</th>\n",
       "      <td>svm</td>\n",
       "      <td>0.064383</td>\n",
       "      <td>0.095095</td>\n",
       "    </tr>\n",
       "    <tr>\n",
       "      <th>6</th>\n",
       "      <td>xgboost</td>\n",
       "      <td>0.027068</td>\n",
       "      <td>0.098045</td>\n",
       "    </tr>\n",
       "    <tr>\n",
       "      <th>7</th>\n",
       "      <td>blend</td>\n",
       "      <td>0.047604</td>\n",
       "      <td>0.101117</td>\n",
       "    </tr>\n",
       "  </tbody>\n",
       "</table>\n",
       "</div>"
      ],
      "text/plain": [
       "            model  train_err  test_err\n",
       "0           ridge   0.066458  0.101710\n",
       "1           lasso   0.066289  0.095765\n",
       "2             net   0.074146  0.099103\n",
       "3          forest   0.002504  0.127073\n",
       "4  gradient boost   0.032379  0.091031\n",
       "5             svm   0.064383  0.095095\n",
       "6         xgboost   0.027068  0.098045\n",
       "7           blend   0.047604  0.101117"
      ]
     },
     "execution_count": 187,
     "metadata": {},
     "output_type": "execute_result"
    }
   ],
   "source": [
    "final = final.rename(columns={\"index\":\"model\"})\n",
    "\n",
    "blend = final[['train_err','test_err']].apply(np.mean, axis=0)\n",
    "blend['model']='blend'\n",
    "blend\n",
    "final=final.append(blend, ignore_index=True)\n",
    "\n",
    "final"
   ]
  },
  {
   "cell_type": "code",
   "execution_count": 188,
   "metadata": {
    "scrolled": true
   },
   "outputs": [
    {
     "data": {
      "text/plain": [
       "Text(0.5, 0, 'Models')"
      ]
     },
     "execution_count": 188,
     "metadata": {},
     "output_type": "execute_result"
    },
    {
     "data": {
      "text/plain": [
       "<Figure size 288x144 with 0 Axes>"
      ]
     },
     "metadata": {},
     "output_type": "display_data"
    },
    {
     "data": {
      "image/png": "[encoded data removed]",
      "text/plain": [
       "<Figure size 1008x288 with 1 Axes>"
      ]
     },
     "metadata": {
      "needs_background": "light"
     },
     "output_type": "display_data"
    }
   ],
   "source": [
    "plt.figure(figsize=(4,2))\n",
    "ax=final.plot(xticks=final.index)\n",
    "ax.set_xticklabels(final[\"model\"])\n",
    "plt.title(\"Error vs Models\")\n",
    "plt.ylabel(\"Error\")\n",
    "plt.xlabel(\"Models\")"
   ]
  },
  {
   "cell_type": "markdown",
   "metadata": {},
   "source": [
    "### SalePrice Prediction"
   ]
  },
  {
   "cell_type": "code",
   "execution_count": 189,
   "metadata": {},
   "outputs": [
    {
     "data": {
      "text/html": [
       "<div>\n",
       "<style scoped>\n",
       "    .dataframe tbody tr th:only-of-type {\n",
       "        vertical-align: middle;\n",
       "    }\n",
       "\n",
       "    .dataframe tbody tr th {\n",
       "        vertical-align: top;\n",
       "    }\n",
       "\n",
       "    .dataframe thead th {\n",
       "        text-align: right;\n",
       "    }\n",
       "</style>\n",
       "<table border=\"1\" class=\"dataframe\">\n",
       "  <thead>\n",
       "    <tr style=\"text-align: right;\">\n",
       "      <th></th>\n",
       "      <th>ridge</th>\n",
       "      <th>lasso</th>\n",
       "      <th>net</th>\n",
       "      <th>forest</th>\n",
       "      <th>gradient boost</th>\n",
       "      <th>svm</th>\n",
       "      <th>xgboost</th>\n",
       "      <th>blend</th>\n",
       "      <th>Id</th>\n",
       "    </tr>\n",
       "  </thead>\n",
       "  <tbody>\n",
       "    <tr>\n",
       "      <th>0</th>\n",
       "      <td>114984.1</td>\n",
       "      <td>117315.8</td>\n",
       "      <td>114424.8</td>\n",
       "      <td>125646.6</td>\n",
       "      <td>126980.8</td>\n",
       "      <td>120246.2</td>\n",
       "      <td>129201.0</td>\n",
       "      <td>121129.1</td>\n",
       "      <td>1461</td>\n",
       "    </tr>\n",
       "    <tr>\n",
       "      <th>1</th>\n",
       "      <td>155608.4</td>\n",
       "      <td>155908.1</td>\n",
       "      <td>157047.6</td>\n",
       "      <td>149900.3</td>\n",
       "      <td>156172.0</td>\n",
       "      <td>162578.2</td>\n",
       "      <td>156056.1</td>\n",
       "      <td>156144.2</td>\n",
       "      <td>1462</td>\n",
       "    </tr>\n",
       "    <tr>\n",
       "      <th>2</th>\n",
       "      <td>185314.7</td>\n",
       "      <td>182322.8</td>\n",
       "      <td>182590.2</td>\n",
       "      <td>179477.5</td>\n",
       "      <td>180742.5</td>\n",
       "      <td>189993.3</td>\n",
       "      <td>182573.7</td>\n",
       "      <td>183260.1</td>\n",
       "      <td>1463</td>\n",
       "    </tr>\n",
       "    <tr>\n",
       "      <th>3</th>\n",
       "      <td>195177.2</td>\n",
       "      <td>194749.2</td>\n",
       "      <td>195715.2</td>\n",
       "      <td>185720.2</td>\n",
       "      <td>196984.6</td>\n",
       "      <td>201858.1</td>\n",
       "      <td>192043.2</td>\n",
       "      <td>194553.0</td>\n",
       "      <td>1464</td>\n",
       "    </tr>\n",
       "    <tr>\n",
       "      <th>4</th>\n",
       "      <td>201439.0</td>\n",
       "      <td>207411.7</td>\n",
       "      <td>205637.2</td>\n",
       "      <td>193296.3</td>\n",
       "      <td>189689.5</td>\n",
       "      <td>195109.9</td>\n",
       "      <td>191794.0</td>\n",
       "      <td>197661.8</td>\n",
       "      <td>1465</td>\n",
       "    </tr>\n",
       "  </tbody>\n",
       "</table>\n",
       "</div>"
      ],
      "text/plain": [
       "      ridge     lasso       net    forest  gradient boost       svm   xgboost  \\\n",
       "0  114984.1  117315.8  114424.8  125646.6        126980.8  120246.2  129201.0   \n",
       "1  155608.4  155908.1  157047.6  149900.3        156172.0  162578.2  156056.1   \n",
       "2  185314.7  182322.8  182590.2  179477.5        180742.5  189993.3  182573.7   \n",
       "3  195177.2  194749.2  195715.2  185720.2        196984.6  201858.1  192043.2   \n",
       "4  201439.0  207411.7  205637.2  193296.3        189689.5  195109.9  191794.0   \n",
       "\n",
       "      blend    Id  \n",
       "0  121129.1  1461  \n",
       "1  156144.2  1462  \n",
       "2  183260.1  1463  \n",
       "3  194553.0  1464  \n",
       "4  197661.8  1465  "
      ]
     },
     "execution_count": 189,
     "metadata": {},
     "output_type": "execute_result"
    }
   ],
   "source": [
    "\n",
    "def predict(model):\n",
    "    if model['model_name'] in models_wo_dummfy:\n",
    "        return model['model'].predict(features.tail(test.shape[0]))\n",
    "    else:\n",
    "        return model['model'].predict(feature_dummy.tail(test.shape[0]))\n",
    "\n",
    "submissions = models.apply(predict, axis=1) \n",
    "final_sub = pd.DataFrame(submissions.tolist()).T\n",
    "final_sub.columns=models_name\n",
    "final_sub['blend'] = final_sub.apply(np.mean, axis=1)\n",
    "final_sub = final_sub.apply(np.exp).apply(lambda x: np.round(x,1))\n",
    "final_sub['Id']=test['Id']\n",
    "final_sub.head()"
   ]
  },
  {
   "cell_type": "code",
   "execution_count": 191,
   "metadata": {},
   "outputs": [],
   "source": [
    "for name in final_sub.columns[:-1]:\n",
    "    data=final_sub[['Id', name]]\n",
    "    data.columns=['Id','SalePrice']\n",
    "    data.to_csv(name+\"_py1.csv\", index=False)\n"
   ]
  },
  {
   "cell_type": "markdown",
   "metadata": {},
   "source": [
    "### Kaggle Score vs Models"
   ]
  },
  {
   "cell_type": "code",
   "execution_count": 192,
   "metadata": {},
   "outputs": [
    {
     "data": {
      "text/plain": [
       "Text(0.5, 0, 'Models')"
      ]
     },
     "execution_count": 192,
     "metadata": {},
     "output_type": "execute_result"
    },
    {
     "data": {
      "image/png": "[encoded data removed]",
      "text/plain": [
       "<Figure size 1008x288 with 1 Axes>"
      ]
     },
     "metadata": {
      "needs_background": "light"
     },
     "output_type": "display_data"
    }
   ],
   "source": [
    "kaggle_score=[.12619, .12358, .12429, .14153, .12870, .12313, .12679, .12121]\n",
    "final['kaggle score']=kaggle_score \n",
    "ax=final.plot(xticks=final.index)\n",
    "ax.set_xticklabels(final[\"model\"])\n",
    "plt.title(\"Kaggle Scores vs Models\")\n",
    "plt.xlabel(\"Models\")"
   ]
  }
 ],
 "metadata": {
  "kernelspec": {
   "display_name": "Python 3",
   "language": "python",
   "name": "python3"
  },
  "language_info": {
   "codemirror_mode": {
    "name": "ipython",
    "version": 3
   },
   "file_extension": ".py",
   "mimetype": "text/x-python",
   "name": "python",
   "nbconvert_exporter": "python",
   "pygments_lexer": "ipython3",
   "version": "3.7.1"
  }
 },
 "nbformat": 4,
 "nbformat_minor": 2
}
