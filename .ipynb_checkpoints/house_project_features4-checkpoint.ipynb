{
 "cells": [
  {
   "cell_type": "markdown",
   "metadata": {},
   "source": [
    "### Load Modules"
   ]
  },
  {
   "cell_type": "code",
   "execution_count": 1,
   "metadata": {},
   "outputs": [],
   "source": [
    "# import ML models\n",
    "import numpy as np\n",
    "import pandas as pd\n",
    "from sklearn.linear_model import Ridge, Lasso, ElasticNet, LinearRegression, RidgeCV, LassoCV\n",
    "from scipy.special import boxcox1p\n",
    "from scipy.stats import boxcox_normmax\n",
    "\n",
    "%matplotlib inline\n",
    "import matplotlib.pyplot as plt\n",
    "from sklearn.metrics import r2_score\n",
    "import seaborn as sns\n",
    "import os\n",
    "from scipy.stats import skew\n",
    "import sklearn.model_selection as ms\n",
    "from sklearn.ensemble import RandomForestRegressor\n",
    "from pprint import pprint\n",
    "from sklearn.ensemble import GradientBoostingRegressor\n",
    "from sklearn.svm import SVR\n",
    "import xgboost\n",
    "import warnings\n",
    "from sklearn.pipeline import make_pipeline\n",
    "from sklearn.preprocessing import RobustScaler, LabelEncoder\n"
   ]
  },
  {
   "cell_type": "markdown",
   "metadata": {},
   "source": [
    "### Load Data"
   ]
  },
  {
   "cell_type": "code",
   "execution_count": 2,
   "metadata": {},
   "outputs": [],
   "source": [
    "\n",
    "\n",
    "os.chdir(r\"C:\\Users\\jtlqh\\bootcamp\\my_projects\\kaggle\")\n",
    "\n",
    "train = pd.read_csv(\"./train.csv\")\n",
    "test=pd.read_csv(\"./test.csv\")"
   ]
  },
  {
   "cell_type": "markdown",
   "metadata": {},
   "source": [
    "### EDA"
   ]
  },
  {
   "cell_type": "code",
   "execution_count": 3,
   "metadata": {},
   "outputs": [
    {
     "name": "stdout",
     "output_type": "stream",
     "text": [
      "(1460, 81)\n",
      "(1459, 80)\n"
     ]
    }
   ],
   "source": [
    "print(train.shape)\n",
    "print(test.shape)\n"
   ]
  },
  {
   "cell_type": "code",
   "execution_count": 4,
   "metadata": {
    "scrolled": false
   },
   "outputs": [
    {
     "name": "stdout",
     "output_type": "stream",
     "text": [
      "Index(['Id', 'MSSubClass', 'MSZoning', 'LotFrontage', 'LotArea', 'Street',\n",
      "       'Alley', 'LotShape', 'LandContour', 'Utilities', 'LotConfig',\n",
      "       'LandSlope', 'Neighborhood', 'Condition1', 'Condition2', 'BldgType',\n",
      "       'HouseStyle', 'OverallQual', 'OverallCond', 'YearBuilt', 'YearRemodAdd',\n",
      "       'RoofStyle', 'RoofMatl', 'Exterior1st', 'Exterior2nd', 'MasVnrType',\n",
      "       'MasVnrArea', 'ExterQual', 'ExterCond', 'Foundation', 'BsmtQual',\n",
      "       'BsmtCond', 'BsmtExposure', 'BsmtFinType1', 'BsmtFinSF1',\n",
      "       'BsmtFinType2', 'BsmtFinSF2', 'BsmtUnfSF', 'TotalBsmtSF', 'Heating',\n",
      "       'HeatingQC', 'CentralAir', 'Electrical', '1stFlrSF', '2ndFlrSF',\n",
      "       'LowQualFinSF', 'GrLivArea', 'BsmtFullBath', 'BsmtHalfBath', 'FullBath',\n",
      "       'HalfBath', 'BedroomAbvGr', 'KitchenAbvGr', 'KitchenQual',\n",
      "       'TotRmsAbvGrd', 'Functional', 'Fireplaces', 'FireplaceQu', 'GarageType',\n",
      "       'GarageYrBlt', 'GarageFinish', 'GarageCars', 'GarageArea', 'GarageQual',\n",
      "       'GarageCond', 'PavedDrive', 'WoodDeckSF', 'OpenPorchSF',\n",
      "       'EnclosedPorch', '3SsnPorch', 'ScreenPorch', 'PoolArea', 'PoolQC',\n",
      "       'Fence', 'MiscFeature', 'MiscVal', 'MoSold', 'YrSold', 'SaleType',\n",
      "       'SaleCondition', 'SalePrice'],\n",
      "      dtype='object')\n",
      "<class 'pandas.core.frame.DataFrame'>\n",
      "RangeIndex: 1460 entries, 0 to 1459\n",
      "Data columns (total 81 columns):\n",
      "Id               1460 non-null int64\n",
      "MSSubClass       1460 non-null int64\n",
      "MSZoning         1460 non-null object\n",
      "LotFrontage      1201 non-null float64\n",
      "LotArea          1460 non-null int64\n",
      "Street           1460 non-null object\n",
      "Alley            91 non-null object\n",
      "LotShape         1460 non-null object\n",
      "LandContour      1460 non-null object\n",
      "Utilities        1460 non-null object\n",
      "LotConfig        1460 non-null object\n",
      "LandSlope        1460 non-null object\n",
      "Neighborhood     1460 non-null object\n",
      "Condition1       1460 non-null object\n",
      "Condition2       1460 non-null object\n",
      "BldgType         1460 non-null object\n",
      "HouseStyle       1460 non-null object\n",
      "OverallQual      1460 non-null int64\n",
      "OverallCond      1460 non-null int64\n",
      "YearBuilt        1460 non-null int64\n",
      "YearRemodAdd     1460 non-null int64\n",
      "RoofStyle        1460 non-null object\n",
      "RoofMatl         1460 non-null object\n",
      "Exterior1st      1460 non-null object\n",
      "Exterior2nd      1460 non-null object\n",
      "MasVnrType       1452 non-null object\n",
      "MasVnrArea       1452 non-null float64\n",
      "ExterQual        1460 non-null object\n",
      "ExterCond        1460 non-null object\n",
      "Foundation       1460 non-null object\n",
      "BsmtQual         1423 non-null object\n",
      "BsmtCond         1423 non-null object\n",
      "BsmtExposure     1422 non-null object\n",
      "BsmtFinType1     1423 non-null object\n",
      "BsmtFinSF1       1460 non-null int64\n",
      "BsmtFinType2     1422 non-null object\n",
      "BsmtFinSF2       1460 non-null int64\n",
      "BsmtUnfSF        1460 non-null int64\n",
      "TotalBsmtSF      1460 non-null int64\n",
      "Heating          1460 non-null object\n",
      "HeatingQC        1460 non-null object\n",
      "CentralAir       1460 non-null object\n",
      "Electrical       1459 non-null object\n",
      "1stFlrSF         1460 non-null int64\n",
      "2ndFlrSF         1460 non-null int64\n",
      "LowQualFinSF     1460 non-null int64\n",
      "GrLivArea        1460 non-null int64\n",
      "BsmtFullBath     1460 non-null int64\n",
      "BsmtHalfBath     1460 non-null int64\n",
      "FullBath         1460 non-null int64\n",
      "HalfBath         1460 non-null int64\n",
      "BedroomAbvGr     1460 non-null int64\n",
      "KitchenAbvGr     1460 non-null int64\n",
      "KitchenQual      1460 non-null object\n",
      "TotRmsAbvGrd     1460 non-null int64\n",
      "Functional       1460 non-null object\n",
      "Fireplaces       1460 non-null int64\n",
      "FireplaceQu      770 non-null object\n",
      "GarageType       1379 non-null object\n",
      "GarageYrBlt      1379 non-null float64\n",
      "GarageFinish     1379 non-null object\n",
      "GarageCars       1460 non-null int64\n",
      "GarageArea       1460 non-null int64\n",
      "GarageQual       1379 non-null object\n",
      "GarageCond       1379 non-null object\n",
      "PavedDrive       1460 non-null object\n",
      "WoodDeckSF       1460 non-null int64\n",
      "OpenPorchSF      1460 non-null int64\n",
      "EnclosedPorch    1460 non-null int64\n",
      "3SsnPorch        1460 non-null int64\n",
      "ScreenPorch      1460 non-null int64\n",
      "PoolArea         1460 non-null int64\n",
      "PoolQC           7 non-null object\n",
      "Fence            281 non-null object\n",
      "MiscFeature      54 non-null object\n",
      "MiscVal          1460 non-null int64\n",
      "MoSold           1460 non-null int64\n",
      "YrSold           1460 non-null int64\n",
      "SaleType         1460 non-null object\n",
      "SaleCondition    1460 non-null object\n",
      "SalePrice        1460 non-null int64\n",
      "dtypes: float64(3), int64(35), object(43)\n",
      "memory usage: 924.0+ KB\n"
     ]
    }
   ],
   "source": [
    "print(train.columns)\n",
    "train.info()"
   ]
  },
  {
   "cell_type": "code",
   "execution_count": 5,
   "metadata": {},
   "outputs": [
    {
     "data": {
      "text/plain": [
       "(2919, 80)"
      ]
     },
     "execution_count": 5,
     "metadata": {},
     "output_type": "execute_result"
    }
   ],
   "source": [
    "df=pd.concat([train.iloc[:,:-1],test])\n",
    "df.shape"
   ]
  },
  {
   "cell_type": "code",
   "execution_count": 6,
   "metadata": {},
   "outputs": [
    {
     "data": {
      "text/html": [
       "<div>\n",
       "<style scoped>\n",
       "    .dataframe tbody tr th:only-of-type {\n",
       "        vertical-align: middle;\n",
       "    }\n",
       "\n",
       "    .dataframe tbody tr th {\n",
       "        vertical-align: top;\n",
       "    }\n",
       "\n",
       "    .dataframe thead th {\n",
       "        text-align: right;\n",
       "    }\n",
       "</style>\n",
       "<table border=\"1\" class=\"dataframe\">\n",
       "  <thead>\n",
       "    <tr style=\"text-align: right;\">\n",
       "      <th></th>\n",
       "      <th>Id</th>\n",
       "      <th>MSSubClass</th>\n",
       "      <th>MSZoning</th>\n",
       "      <th>LotFrontage</th>\n",
       "      <th>LotArea</th>\n",
       "      <th>Street</th>\n",
       "      <th>Alley</th>\n",
       "      <th>LotShape</th>\n",
       "      <th>LandContour</th>\n",
       "      <th>Utilities</th>\n",
       "      <th>LotConfig</th>\n",
       "      <th>LandSlope</th>\n",
       "      <th>Neighborhood</th>\n",
       "      <th>Condition1</th>\n",
       "      <th>Condition2</th>\n",
       "      <th>BldgType</th>\n",
       "      <th>HouseStyle</th>\n",
       "      <th>OverallQual</th>\n",
       "      <th>OverallCond</th>\n",
       "      <th>YearBuilt</th>\n",
       "      <th>YearRemodAdd</th>\n",
       "      <th>RoofStyle</th>\n",
       "      <th>RoofMatl</th>\n",
       "      <th>Exterior1st</th>\n",
       "      <th>Exterior2nd</th>\n",
       "      <th>MasVnrType</th>\n",
       "      <th>MasVnrArea</th>\n",
       "      <th>ExterQual</th>\n",
       "      <th>ExterCond</th>\n",
       "      <th>Foundation</th>\n",
       "      <th>BsmtQual</th>\n",
       "      <th>BsmtCond</th>\n",
       "      <th>BsmtExposure</th>\n",
       "      <th>BsmtFinType1</th>\n",
       "      <th>BsmtFinSF1</th>\n",
       "      <th>BsmtFinType2</th>\n",
       "      <th>BsmtFinSF2</th>\n",
       "      <th>BsmtUnfSF</th>\n",
       "      <th>TotalBsmtSF</th>\n",
       "      <th>Heating</th>\n",
       "      <th>HeatingQC</th>\n",
       "      <th>CentralAir</th>\n",
       "      <th>Electrical</th>\n",
       "      <th>1stFlrSF</th>\n",
       "      <th>2ndFlrSF</th>\n",
       "      <th>LowQualFinSF</th>\n",
       "      <th>GrLivArea</th>\n",
       "      <th>BsmtFullBath</th>\n",
       "      <th>BsmtHalfBath</th>\n",
       "      <th>FullBath</th>\n",
       "      <th>HalfBath</th>\n",
       "      <th>BedroomAbvGr</th>\n",
       "      <th>KitchenAbvGr</th>\n",
       "      <th>KitchenQual</th>\n",
       "      <th>TotRmsAbvGrd</th>\n",
       "      <th>Functional</th>\n",
       "      <th>Fireplaces</th>\n",
       "      <th>FireplaceQu</th>\n",
       "      <th>GarageType</th>\n",
       "      <th>GarageYrBlt</th>\n",
       "      <th>GarageFinish</th>\n",
       "      <th>GarageCars</th>\n",
       "      <th>GarageArea</th>\n",
       "      <th>GarageQual</th>\n",
       "      <th>GarageCond</th>\n",
       "      <th>PavedDrive</th>\n",
       "      <th>WoodDeckSF</th>\n",
       "      <th>OpenPorchSF</th>\n",
       "      <th>EnclosedPorch</th>\n",
       "      <th>3SsnPorch</th>\n",
       "      <th>ScreenPorch</th>\n",
       "      <th>PoolArea</th>\n",
       "      <th>PoolQC</th>\n",
       "      <th>Fence</th>\n",
       "      <th>MiscFeature</th>\n",
       "      <th>MiscVal</th>\n",
       "      <th>MoSold</th>\n",
       "      <th>YrSold</th>\n",
       "      <th>SaleType</th>\n",
       "      <th>SaleCondition</th>\n",
       "    </tr>\n",
       "  </thead>\n",
       "  <tbody>\n",
       "    <tr>\n",
       "      <th>0</th>\n",
       "      <td>1</td>\n",
       "      <td>60</td>\n",
       "      <td>RL</td>\n",
       "      <td>65.0</td>\n",
       "      <td>8450</td>\n",
       "      <td>Pave</td>\n",
       "      <td>NaN</td>\n",
       "      <td>Reg</td>\n",
       "      <td>Lvl</td>\n",
       "      <td>AllPub</td>\n",
       "      <td>Inside</td>\n",
       "      <td>Gtl</td>\n",
       "      <td>CollgCr</td>\n",
       "      <td>Norm</td>\n",
       "      <td>Norm</td>\n",
       "      <td>1Fam</td>\n",
       "      <td>2Story</td>\n",
       "      <td>7</td>\n",
       "      <td>5</td>\n",
       "      <td>2003</td>\n",
       "      <td>2003</td>\n",
       "      <td>Gable</td>\n",
       "      <td>CompShg</td>\n",
       "      <td>VinylSd</td>\n",
       "      <td>VinylSd</td>\n",
       "      <td>BrkFace</td>\n",
       "      <td>196.0</td>\n",
       "      <td>Gd</td>\n",
       "      <td>TA</td>\n",
       "      <td>PConc</td>\n",
       "      <td>Gd</td>\n",
       "      <td>TA</td>\n",
       "      <td>No</td>\n",
       "      <td>GLQ</td>\n",
       "      <td>706.0</td>\n",
       "      <td>Unf</td>\n",
       "      <td>0.0</td>\n",
       "      <td>150.0</td>\n",
       "      <td>856.0</td>\n",
       "      <td>GasA</td>\n",
       "      <td>Ex</td>\n",
       "      <td>Y</td>\n",
       "      <td>SBrkr</td>\n",
       "      <td>856</td>\n",
       "      <td>854</td>\n",
       "      <td>0</td>\n",
       "      <td>1710</td>\n",
       "      <td>1.0</td>\n",
       "      <td>0.0</td>\n",
       "      <td>2</td>\n",
       "      <td>1</td>\n",
       "      <td>3</td>\n",
       "      <td>1</td>\n",
       "      <td>Gd</td>\n",
       "      <td>8</td>\n",
       "      <td>Typ</td>\n",
       "      <td>0</td>\n",
       "      <td>NaN</td>\n",
       "      <td>Attchd</td>\n",
       "      <td>2003.0</td>\n",
       "      <td>RFn</td>\n",
       "      <td>2.0</td>\n",
       "      <td>548.0</td>\n",
       "      <td>TA</td>\n",
       "      <td>TA</td>\n",
       "      <td>Y</td>\n",
       "      <td>0</td>\n",
       "      <td>61</td>\n",
       "      <td>0</td>\n",
       "      <td>0</td>\n",
       "      <td>0</td>\n",
       "      <td>0</td>\n",
       "      <td>NaN</td>\n",
       "      <td>NaN</td>\n",
       "      <td>NaN</td>\n",
       "      <td>0</td>\n",
       "      <td>2</td>\n",
       "      <td>2008</td>\n",
       "      <td>WD</td>\n",
       "      <td>Normal</td>\n",
       "    </tr>\n",
       "    <tr>\n",
       "      <th>1</th>\n",
       "      <td>2</td>\n",
       "      <td>20</td>\n",
       "      <td>RL</td>\n",
       "      <td>80.0</td>\n",
       "      <td>9600</td>\n",
       "      <td>Pave</td>\n",
       "      <td>NaN</td>\n",
       "      <td>Reg</td>\n",
       "      <td>Lvl</td>\n",
       "      <td>AllPub</td>\n",
       "      <td>FR2</td>\n",
       "      <td>Gtl</td>\n",
       "      <td>Veenker</td>\n",
       "      <td>Feedr</td>\n",
       "      <td>Norm</td>\n",
       "      <td>1Fam</td>\n",
       "      <td>1Story</td>\n",
       "      <td>6</td>\n",
       "      <td>8</td>\n",
       "      <td>1976</td>\n",
       "      <td>1976</td>\n",
       "      <td>Gable</td>\n",
       "      <td>CompShg</td>\n",
       "      <td>MetalSd</td>\n",
       "      <td>MetalSd</td>\n",
       "      <td>None</td>\n",
       "      <td>0.0</td>\n",
       "      <td>TA</td>\n",
       "      <td>TA</td>\n",
       "      <td>CBlock</td>\n",
       "      <td>Gd</td>\n",
       "      <td>TA</td>\n",
       "      <td>Gd</td>\n",
       "      <td>ALQ</td>\n",
       "      <td>978.0</td>\n",
       "      <td>Unf</td>\n",
       "      <td>0.0</td>\n",
       "      <td>284.0</td>\n",
       "      <td>1262.0</td>\n",
       "      <td>GasA</td>\n",
       "      <td>Ex</td>\n",
       "      <td>Y</td>\n",
       "      <td>SBrkr</td>\n",
       "      <td>1262</td>\n",
       "      <td>0</td>\n",
       "      <td>0</td>\n",
       "      <td>1262</td>\n",
       "      <td>0.0</td>\n",
       "      <td>1.0</td>\n",
       "      <td>2</td>\n",
       "      <td>0</td>\n",
       "      <td>3</td>\n",
       "      <td>1</td>\n",
       "      <td>TA</td>\n",
       "      <td>6</td>\n",
       "      <td>Typ</td>\n",
       "      <td>1</td>\n",
       "      <td>TA</td>\n",
       "      <td>Attchd</td>\n",
       "      <td>1976.0</td>\n",
       "      <td>RFn</td>\n",
       "      <td>2.0</td>\n",
       "      <td>460.0</td>\n",
       "      <td>TA</td>\n",
       "      <td>TA</td>\n",
       "      <td>Y</td>\n",
       "      <td>298</td>\n",
       "      <td>0</td>\n",
       "      <td>0</td>\n",
       "      <td>0</td>\n",
       "      <td>0</td>\n",
       "      <td>0</td>\n",
       "      <td>NaN</td>\n",
       "      <td>NaN</td>\n",
       "      <td>NaN</td>\n",
       "      <td>0</td>\n",
       "      <td>5</td>\n",
       "      <td>2007</td>\n",
       "      <td>WD</td>\n",
       "      <td>Normal</td>\n",
       "    </tr>\n",
       "    <tr>\n",
       "      <th>2</th>\n",
       "      <td>3</td>\n",
       "      <td>60</td>\n",
       "      <td>RL</td>\n",
       "      <td>68.0</td>\n",
       "      <td>11250</td>\n",
       "      <td>Pave</td>\n",
       "      <td>NaN</td>\n",
       "      <td>IR1</td>\n",
       "      <td>Lvl</td>\n",
       "      <td>AllPub</td>\n",
       "      <td>Inside</td>\n",
       "      <td>Gtl</td>\n",
       "      <td>CollgCr</td>\n",
       "      <td>Norm</td>\n",
       "      <td>Norm</td>\n",
       "      <td>1Fam</td>\n",
       "      <td>2Story</td>\n",
       "      <td>7</td>\n",
       "      <td>5</td>\n",
       "      <td>2001</td>\n",
       "      <td>2002</td>\n",
       "      <td>Gable</td>\n",
       "      <td>CompShg</td>\n",
       "      <td>VinylSd</td>\n",
       "      <td>VinylSd</td>\n",
       "      <td>BrkFace</td>\n",
       "      <td>162.0</td>\n",
       "      <td>Gd</td>\n",
       "      <td>TA</td>\n",
       "      <td>PConc</td>\n",
       "      <td>Gd</td>\n",
       "      <td>TA</td>\n",
       "      <td>Mn</td>\n",
       "      <td>GLQ</td>\n",
       "      <td>486.0</td>\n",
       "      <td>Unf</td>\n",
       "      <td>0.0</td>\n",
       "      <td>434.0</td>\n",
       "      <td>920.0</td>\n",
       "      <td>GasA</td>\n",
       "      <td>Ex</td>\n",
       "      <td>Y</td>\n",
       "      <td>SBrkr</td>\n",
       "      <td>920</td>\n",
       "      <td>866</td>\n",
       "      <td>0</td>\n",
       "      <td>1786</td>\n",
       "      <td>1.0</td>\n",
       "      <td>0.0</td>\n",
       "      <td>2</td>\n",
       "      <td>1</td>\n",
       "      <td>3</td>\n",
       "      <td>1</td>\n",
       "      <td>Gd</td>\n",
       "      <td>6</td>\n",
       "      <td>Typ</td>\n",
       "      <td>1</td>\n",
       "      <td>TA</td>\n",
       "      <td>Attchd</td>\n",
       "      <td>2001.0</td>\n",
       "      <td>RFn</td>\n",
       "      <td>2.0</td>\n",
       "      <td>608.0</td>\n",
       "      <td>TA</td>\n",
       "      <td>TA</td>\n",
       "      <td>Y</td>\n",
       "      <td>0</td>\n",
       "      <td>42</td>\n",
       "      <td>0</td>\n",
       "      <td>0</td>\n",
       "      <td>0</td>\n",
       "      <td>0</td>\n",
       "      <td>NaN</td>\n",
       "      <td>NaN</td>\n",
       "      <td>NaN</td>\n",
       "      <td>0</td>\n",
       "      <td>9</td>\n",
       "      <td>2008</td>\n",
       "      <td>WD</td>\n",
       "      <td>Normal</td>\n",
       "    </tr>\n",
       "    <tr>\n",
       "      <th>3</th>\n",
       "      <td>4</td>\n",
       "      <td>70</td>\n",
       "      <td>RL</td>\n",
       "      <td>60.0</td>\n",
       "      <td>9550</td>\n",
       "      <td>Pave</td>\n",
       "      <td>NaN</td>\n",
       "      <td>IR1</td>\n",
       "      <td>Lvl</td>\n",
       "      <td>AllPub</td>\n",
       "      <td>Corner</td>\n",
       "      <td>Gtl</td>\n",
       "      <td>Crawfor</td>\n",
       "      <td>Norm</td>\n",
       "      <td>Norm</td>\n",
       "      <td>1Fam</td>\n",
       "      <td>2Story</td>\n",
       "      <td>7</td>\n",
       "      <td>5</td>\n",
       "      <td>1915</td>\n",
       "      <td>1970</td>\n",
       "      <td>Gable</td>\n",
       "      <td>CompShg</td>\n",
       "      <td>Wd Sdng</td>\n",
       "      <td>Wd Shng</td>\n",
       "      <td>None</td>\n",
       "      <td>0.0</td>\n",
       "      <td>TA</td>\n",
       "      <td>TA</td>\n",
       "      <td>BrkTil</td>\n",
       "      <td>TA</td>\n",
       "      <td>Gd</td>\n",
       "      <td>No</td>\n",
       "      <td>ALQ</td>\n",
       "      <td>216.0</td>\n",
       "      <td>Unf</td>\n",
       "      <td>0.0</td>\n",
       "      <td>540.0</td>\n",
       "      <td>756.0</td>\n",
       "      <td>GasA</td>\n",
       "      <td>Gd</td>\n",
       "      <td>Y</td>\n",
       "      <td>SBrkr</td>\n",
       "      <td>961</td>\n",
       "      <td>756</td>\n",
       "      <td>0</td>\n",
       "      <td>1717</td>\n",
       "      <td>1.0</td>\n",
       "      <td>0.0</td>\n",
       "      <td>1</td>\n",
       "      <td>0</td>\n",
       "      <td>3</td>\n",
       "      <td>1</td>\n",
       "      <td>Gd</td>\n",
       "      <td>7</td>\n",
       "      <td>Typ</td>\n",
       "      <td>1</td>\n",
       "      <td>Gd</td>\n",
       "      <td>Detchd</td>\n",
       "      <td>1998.0</td>\n",
       "      <td>Unf</td>\n",
       "      <td>3.0</td>\n",
       "      <td>642.0</td>\n",
       "      <td>TA</td>\n",
       "      <td>TA</td>\n",
       "      <td>Y</td>\n",
       "      <td>0</td>\n",
       "      <td>35</td>\n",
       "      <td>272</td>\n",
       "      <td>0</td>\n",
       "      <td>0</td>\n",
       "      <td>0</td>\n",
       "      <td>NaN</td>\n",
       "      <td>NaN</td>\n",
       "      <td>NaN</td>\n",
       "      <td>0</td>\n",
       "      <td>2</td>\n",
       "      <td>2006</td>\n",
       "      <td>WD</td>\n",
       "      <td>Abnorml</td>\n",
       "    </tr>\n",
       "    <tr>\n",
       "      <th>4</th>\n",
       "      <td>5</td>\n",
       "      <td>60</td>\n",
       "      <td>RL</td>\n",
       "      <td>84.0</td>\n",
       "      <td>14260</td>\n",
       "      <td>Pave</td>\n",
       "      <td>NaN</td>\n",
       "      <td>IR1</td>\n",
       "      <td>Lvl</td>\n",
       "      <td>AllPub</td>\n",
       "      <td>FR2</td>\n",
       "      <td>Gtl</td>\n",
       "      <td>NoRidge</td>\n",
       "      <td>Norm</td>\n",
       "      <td>Norm</td>\n",
       "      <td>1Fam</td>\n",
       "      <td>2Story</td>\n",
       "      <td>8</td>\n",
       "      <td>5</td>\n",
       "      <td>2000</td>\n",
       "      <td>2000</td>\n",
       "      <td>Gable</td>\n",
       "      <td>CompShg</td>\n",
       "      <td>VinylSd</td>\n",
       "      <td>VinylSd</td>\n",
       "      <td>BrkFace</td>\n",
       "      <td>350.0</td>\n",
       "      <td>Gd</td>\n",
       "      <td>TA</td>\n",
       "      <td>PConc</td>\n",
       "      <td>Gd</td>\n",
       "      <td>TA</td>\n",
       "      <td>Av</td>\n",
       "      <td>GLQ</td>\n",
       "      <td>655.0</td>\n",
       "      <td>Unf</td>\n",
       "      <td>0.0</td>\n",
       "      <td>490.0</td>\n",
       "      <td>1145.0</td>\n",
       "      <td>GasA</td>\n",
       "      <td>Ex</td>\n",
       "      <td>Y</td>\n",
       "      <td>SBrkr</td>\n",
       "      <td>1145</td>\n",
       "      <td>1053</td>\n",
       "      <td>0</td>\n",
       "      <td>2198</td>\n",
       "      <td>1.0</td>\n",
       "      <td>0.0</td>\n",
       "      <td>2</td>\n",
       "      <td>1</td>\n",
       "      <td>4</td>\n",
       "      <td>1</td>\n",
       "      <td>Gd</td>\n",
       "      <td>9</td>\n",
       "      <td>Typ</td>\n",
       "      <td>1</td>\n",
       "      <td>TA</td>\n",
       "      <td>Attchd</td>\n",
       "      <td>2000.0</td>\n",
       "      <td>RFn</td>\n",
       "      <td>3.0</td>\n",
       "      <td>836.0</td>\n",
       "      <td>TA</td>\n",
       "      <td>TA</td>\n",
       "      <td>Y</td>\n",
       "      <td>192</td>\n",
       "      <td>84</td>\n",
       "      <td>0</td>\n",
       "      <td>0</td>\n",
       "      <td>0</td>\n",
       "      <td>0</td>\n",
       "      <td>NaN</td>\n",
       "      <td>NaN</td>\n",
       "      <td>NaN</td>\n",
       "      <td>0</td>\n",
       "      <td>12</td>\n",
       "      <td>2008</td>\n",
       "      <td>WD</td>\n",
       "      <td>Normal</td>\n",
       "    </tr>\n",
       "  </tbody>\n",
       "</table>\n",
       "</div>"
      ],
      "text/plain": [
       "   Id  MSSubClass MSZoning  LotFrontage  LotArea Street Alley LotShape  \\\n",
       "0   1          60       RL         65.0     8450   Pave   NaN      Reg   \n",
       "1   2          20       RL         80.0     9600   Pave   NaN      Reg   \n",
       "2   3          60       RL         68.0    11250   Pave   NaN      IR1   \n",
       "3   4          70       RL         60.0     9550   Pave   NaN      IR1   \n",
       "4   5          60       RL         84.0    14260   Pave   NaN      IR1   \n",
       "\n",
       "  LandContour Utilities LotConfig LandSlope Neighborhood Condition1  \\\n",
       "0         Lvl    AllPub    Inside       Gtl      CollgCr       Norm   \n",
       "1         Lvl    AllPub       FR2       Gtl      Veenker      Feedr   \n",
       "2         Lvl    AllPub    Inside       Gtl      CollgCr       Norm   \n",
       "3         Lvl    AllPub    Corner       Gtl      Crawfor       Norm   \n",
       "4         Lvl    AllPub       FR2       Gtl      NoRidge       Norm   \n",
       "\n",
       "  Condition2 BldgType HouseStyle  OverallQual  OverallCond  YearBuilt  \\\n",
       "0       Norm     1Fam     2Story            7            5       2003   \n",
       "1       Norm     1Fam     1Story            6            8       1976   \n",
       "2       Norm     1Fam     2Story            7            5       2001   \n",
       "3       Norm     1Fam     2Story            7            5       1915   \n",
       "4       Norm     1Fam     2Story            8            5       2000   \n",
       "\n",
       "   YearRemodAdd RoofStyle RoofMatl Exterior1st Exterior2nd MasVnrType  \\\n",
       "0          2003     Gable  CompShg     VinylSd     VinylSd    BrkFace   \n",
       "1          1976     Gable  CompShg     MetalSd     MetalSd       None   \n",
       "2          2002     Gable  CompShg     VinylSd     VinylSd    BrkFace   \n",
       "3          1970     Gable  CompShg     Wd Sdng     Wd Shng       None   \n",
       "4          2000     Gable  CompShg     VinylSd     VinylSd    BrkFace   \n",
       "\n",
       "   MasVnrArea ExterQual ExterCond Foundation BsmtQual BsmtCond BsmtExposure  \\\n",
       "0       196.0        Gd        TA      PConc       Gd       TA           No   \n",
       "1         0.0        TA        TA     CBlock       Gd       TA           Gd   \n",
       "2       162.0        Gd        TA      PConc       Gd       TA           Mn   \n",
       "3         0.0        TA        TA     BrkTil       TA       Gd           No   \n",
       "4       350.0        Gd        TA      PConc       Gd       TA           Av   \n",
       "\n",
       "  BsmtFinType1  BsmtFinSF1 BsmtFinType2  BsmtFinSF2  BsmtUnfSF  TotalBsmtSF  \\\n",
       "0          GLQ       706.0          Unf         0.0      150.0        856.0   \n",
       "1          ALQ       978.0          Unf         0.0      284.0       1262.0   \n",
       "2          GLQ       486.0          Unf         0.0      434.0        920.0   \n",
       "3          ALQ       216.0          Unf         0.0      540.0        756.0   \n",
       "4          GLQ       655.0          Unf         0.0      490.0       1145.0   \n",
       "\n",
       "  Heating HeatingQC CentralAir Electrical  1stFlrSF  2ndFlrSF  LowQualFinSF  \\\n",
       "0    GasA        Ex          Y      SBrkr       856       854             0   \n",
       "1    GasA        Ex          Y      SBrkr      1262         0             0   \n",
       "2    GasA        Ex          Y      SBrkr       920       866             0   \n",
       "3    GasA        Gd          Y      SBrkr       961       756             0   \n",
       "4    GasA        Ex          Y      SBrkr      1145      1053             0   \n",
       "\n",
       "   GrLivArea  BsmtFullBath  BsmtHalfBath  FullBath  HalfBath  BedroomAbvGr  \\\n",
       "0       1710           1.0           0.0         2         1             3   \n",
       "1       1262           0.0           1.0         2         0             3   \n",
       "2       1786           1.0           0.0         2         1             3   \n",
       "3       1717           1.0           0.0         1         0             3   \n",
       "4       2198           1.0           0.0         2         1             4   \n",
       "\n",
       "   KitchenAbvGr KitchenQual  TotRmsAbvGrd Functional  Fireplaces FireplaceQu  \\\n",
       "0             1          Gd             8        Typ           0         NaN   \n",
       "1             1          TA             6        Typ           1          TA   \n",
       "2             1          Gd             6        Typ           1          TA   \n",
       "3             1          Gd             7        Typ           1          Gd   \n",
       "4             1          Gd             9        Typ           1          TA   \n",
       "\n",
       "  GarageType  GarageYrBlt GarageFinish  GarageCars  GarageArea GarageQual  \\\n",
       "0     Attchd       2003.0          RFn         2.0       548.0         TA   \n",
       "1     Attchd       1976.0          RFn         2.0       460.0         TA   \n",
       "2     Attchd       2001.0          RFn         2.0       608.0         TA   \n",
       "3     Detchd       1998.0          Unf         3.0       642.0         TA   \n",
       "4     Attchd       2000.0          RFn         3.0       836.0         TA   \n",
       "\n",
       "  GarageCond PavedDrive  WoodDeckSF  OpenPorchSF  EnclosedPorch  3SsnPorch  \\\n",
       "0         TA          Y           0           61              0          0   \n",
       "1         TA          Y         298            0              0          0   \n",
       "2         TA          Y           0           42              0          0   \n",
       "3         TA          Y           0           35            272          0   \n",
       "4         TA          Y         192           84              0          0   \n",
       "\n",
       "   ScreenPorch  PoolArea PoolQC Fence MiscFeature  MiscVal  MoSold  YrSold  \\\n",
       "0            0         0    NaN   NaN         NaN        0       2    2008   \n",
       "1            0         0    NaN   NaN         NaN        0       5    2007   \n",
       "2            0         0    NaN   NaN         NaN        0       9    2008   \n",
       "3            0         0    NaN   NaN         NaN        0       2    2006   \n",
       "4            0         0    NaN   NaN         NaN        0      12    2008   \n",
       "\n",
       "  SaleType SaleCondition  \n",
       "0       WD        Normal  \n",
       "1       WD        Normal  \n",
       "2       WD        Normal  \n",
       "3       WD       Abnorml  \n",
       "4       WD        Normal  "
      ]
     },
     "execution_count": 6,
     "metadata": {},
     "output_type": "execute_result"
    }
   ],
   "source": [
    "pd.set_option('display.max_columns', 80)\n",
    "pd.set_option('display.max_rows', 100)\n",
    "\n",
    "df.head(5)\n"
   ]
  },
  {
   "cell_type": "markdown",
   "metadata": {},
   "source": [
    "From heatmap chart, we can see SalePrice is highly correlated with OverallQual and GrLivArea"
   ]
  },
  {
   "cell_type": "code",
   "execution_count": 7,
   "metadata": {},
   "outputs": [
    {
     "data": {
      "text/plain": [
       "<matplotlib.axes._subplots.AxesSubplot at 0x2746f183198>"
      ]
     },
     "execution_count": 7,
     "metadata": {},
     "output_type": "execute_result"
    },
    {
     "data": {
      "image/png": "[encoded data removed]",
      "text/plain": [
       "<Figure size 720x720 with 2 Axes>"
      ]
     },
     "metadata": {
      "needs_background": "light"
     },
     "output_type": "display_data"
    }
   ],
   "source": [
    "\n",
    "plt.rcParams['figure.figsize']= [10.0, 10.0]\n",
    "corr=train.corr()\n",
    "sns.heatmap(train[corr[corr['SalePrice'].abs()>0.5].index].corr(),annot=True,cmap=\"RdYlGn\")\n",
    "\n"
   ]
  },
  {
   "cell_type": "code",
   "execution_count": 8,
   "metadata": {},
   "outputs": [
    {
     "name": "stderr",
     "output_type": "stream",
     "text": [
      "C:\\Users\\jtlqh\\Anaconda3\\lib\\site-packages\\scipy\\stats\\stats.py:1713: FutureWarning: Using a non-tuple sequence for multidimensional indexing is deprecated; use `arr[tuple(seq)]` instead of `arr[seq]`. In the future this will be interpreted as an array index, `arr[np.array(seq)]`, which will result either in an error or a different result.\n",
      "  return np.add.reduce(sorted[indexer] * weights, axis=axis) / sumval\n"
     ]
    },
    {
     "data": {
      "text/plain": [
       "<matplotlib.axes._subplots.AxesSubplot at 0x274712ba0b8>"
      ]
     },
     "execution_count": 8,
     "metadata": {},
     "output_type": "execute_result"
    },
    {
     "data": {
      "image/png": "[encoded data removed]",
      "text/plain": [
       "<Figure size 720x288 with 1 Axes>"
      ]
     },
     "metadata": {
      "needs_background": "light"
     },
     "output_type": "display_data"
    }
   ],
   "source": [
    "plt.rcParams['figure.figsize']= [10.0, 4.0]\n",
    "sns.barplot(train.OverallQual, train.SalePrice)"
   ]
  },
  {
   "cell_type": "code",
   "execution_count": 9,
   "metadata": {},
   "outputs": [
    {
     "data": {
      "text/plain": [
       "<seaborn.axisgrid.FacetGrid at 0x274712f1cc0>"
      ]
     },
     "execution_count": 9,
     "metadata": {},
     "output_type": "execute_result"
    },
    {
     "data": {
      "image/png": "[encoded data removed]",
      "text/plain": [
       "<Figure size 360x360 with 1 Axes>"
      ]
     },
     "metadata": {
      "needs_background": "light"
     },
     "output_type": "display_data"
    }
   ],
   "source": [
    "# checking for outlier\n",
    "\n",
    "sns.lmplot(x='GrLivArea', y= 'SalePrice', data=train)\n"
   ]
  },
  {
   "cell_type": "markdown",
   "metadata": {},
   "source": [
    "Outliers 523, 691, 1182, 1298 are those having weired relations with the sale price, they will add negative impact to the price prediction, so should be removed"
   ]
  },
  {
   "cell_type": "code",
   "execution_count": 10,
   "metadata": {},
   "outputs": [
    {
     "data": {
      "text/plain": [
       "Int64Index([523, 691, 1182, 1298], dtype='int64')"
      ]
     },
     "execution_count": 10,
     "metadata": {},
     "output_type": "execute_result"
    }
   ],
   "source": [
    "outliers = train[train.GrLivArea>4000].index\n",
    "outliers"
   ]
  },
  {
   "cell_type": "markdown",
   "metadata": {},
   "source": [
    "PoolQC, MiscFeature, Alley, Fence, FireplaceQu have large number of missingness"
   ]
  },
  {
   "cell_type": "code",
   "execution_count": 11,
   "metadata": {},
   "outputs": [
    {
     "data": {
      "text/plain": [
       "<matplotlib.axes._subplots.AxesSubplot at 0x274713349b0>"
      ]
     },
     "execution_count": 11,
     "metadata": {},
     "output_type": "execute_result"
    },
    {
     "data": {
      "image/png": "[encoded data removed]",
      "text/plain": [
       "<Figure size 1008x288 with 1 Axes>"
      ]
     },
     "metadata": {
      "needs_background": "light"
     },
     "output_type": "display_data"
    }
   ],
   "source": [
    "plt.rcParams['figure.figsize']= [14.0, 4.0]\n",
    "missing=df.isna().sum().sort_values(ascending=False)\n",
    "missing[missing>0].plot(kind='bar')"
   ]
  },
  {
   "cell_type": "markdown",
   "metadata": {},
   "source": [
    "### Feature Engineering"
   ]
  },
  {
   "cell_type": "code",
   "execution_count": 12,
   "metadata": {},
   "outputs": [
    {
     "name": "stdout",
     "output_type": "stream",
     "text": [
      "<class 'pandas.core.frame.DataFrame'>\n",
      "Int64Index: 2919 entries, 0 to 1458\n",
      "Data columns (total 7 columns):\n",
      "GarageType      2762 non-null object\n",
      "GarageYrBlt     2760 non-null float64\n",
      "GarageFinish    2760 non-null object\n",
      "GarageCars      2918 non-null float64\n",
      "GarageArea      2918 non-null float64\n",
      "GarageQual      2760 non-null object\n",
      "GarageCond      2760 non-null object\n",
      "dtypes: float64(3), object(4)\n",
      "memory usage: 182.4+ KB\n",
      "None\n"
     ]
    },
    {
     "data": {
      "text/html": [
       "<div>\n",
       "<style scoped>\n",
       "    .dataframe tbody tr th:only-of-type {\n",
       "        vertical-align: middle;\n",
       "    }\n",
       "\n",
       "    .dataframe tbody tr th {\n",
       "        vertical-align: top;\n",
       "    }\n",
       "\n",
       "    .dataframe thead th {\n",
       "        text-align: right;\n",
       "    }\n",
       "</style>\n",
       "<table border=\"1\" class=\"dataframe\">\n",
       "  <thead>\n",
       "    <tr style=\"text-align: right;\">\n",
       "      <th></th>\n",
       "      <th>GarageType</th>\n",
       "      <th>GarageYrBlt</th>\n",
       "      <th>GarageFinish</th>\n",
       "      <th>GarageCars</th>\n",
       "      <th>GarageArea</th>\n",
       "      <th>GarageQual</th>\n",
       "      <th>GarageCond</th>\n",
       "    </tr>\n",
       "  </thead>\n",
       "  <tbody>\n",
       "    <tr>\n",
       "      <th>39</th>\n",
       "      <td>NaN</td>\n",
       "      <td>NaN</td>\n",
       "      <td>NaN</td>\n",
       "      <td>0.0</td>\n",
       "      <td>0.0</td>\n",
       "      <td>NaN</td>\n",
       "      <td>NaN</td>\n",
       "    </tr>\n",
       "    <tr>\n",
       "      <th>48</th>\n",
       "      <td>NaN</td>\n",
       "      <td>NaN</td>\n",
       "      <td>NaN</td>\n",
       "      <td>0.0</td>\n",
       "      <td>0.0</td>\n",
       "      <td>NaN</td>\n",
       "      <td>NaN</td>\n",
       "    </tr>\n",
       "    <tr>\n",
       "      <th>78</th>\n",
       "      <td>NaN</td>\n",
       "      <td>NaN</td>\n",
       "      <td>NaN</td>\n",
       "      <td>0.0</td>\n",
       "      <td>0.0</td>\n",
       "      <td>NaN</td>\n",
       "      <td>NaN</td>\n",
       "    </tr>\n",
       "    <tr>\n",
       "      <th>88</th>\n",
       "      <td>NaN</td>\n",
       "      <td>NaN</td>\n",
       "      <td>NaN</td>\n",
       "      <td>0.0</td>\n",
       "      <td>0.0</td>\n",
       "      <td>NaN</td>\n",
       "      <td>NaN</td>\n",
       "    </tr>\n",
       "    <tr>\n",
       "      <th>89</th>\n",
       "      <td>NaN</td>\n",
       "      <td>NaN</td>\n",
       "      <td>NaN</td>\n",
       "      <td>0.0</td>\n",
       "      <td>0.0</td>\n",
       "      <td>NaN</td>\n",
       "      <td>NaN</td>\n",
       "    </tr>\n",
       "  </tbody>\n",
       "</table>\n",
       "</div>"
      ],
      "text/plain": [
       "   GarageType  GarageYrBlt GarageFinish  GarageCars  GarageArea GarageQual  \\\n",
       "39        NaN          NaN          NaN         0.0         0.0        NaN   \n",
       "48        NaN          NaN          NaN         0.0         0.0        NaN   \n",
       "78        NaN          NaN          NaN         0.0         0.0        NaN   \n",
       "88        NaN          NaN          NaN         0.0         0.0        NaN   \n",
       "89        NaN          NaN          NaN         0.0         0.0        NaN   \n",
       "\n",
       "   GarageCond  \n",
       "39        NaN  \n",
       "48        NaN  \n",
       "78        NaN  \n",
       "88        NaN  \n",
       "89        NaN  "
      ]
     },
     "execution_count": 12,
     "metadata": {},
     "output_type": "execute_result"
    }
   ],
   "source": [
    "garage_list = [i for i in df.columns if str(i).startswith(\"Garage\")]\n",
    "print(df[garage_list].info())\n",
    "df[df['GarageCond'].isna()][garage_list].head()"
   ]
  },
  {
   "cell_type": "code",
   "execution_count": 13,
   "metadata": {},
   "outputs": [],
   "source": [
    "for i in garage_list:    \n",
    "    if df[i].dtypes !='float64': df[i].fillna(\"None\", inplace=True)\n",
    "    else: df[i].fillna(0, inplace=True)\n"
   ]
  },
  {
   "cell_type": "code",
   "execution_count": 14,
   "metadata": {},
   "outputs": [],
   "source": [
    "# fill LotFrontage missings with median value in the same neighborhood\n",
    "\n",
    "df['LotFrontage'] = df[['Neighborhood','LotFrontage']].groupby('Neighborhood').transform(lambda x: x.fillna(x.median()))\n",
    "\n",
    "\n",
    "for i in ['MiscFeature','Fence','PoolQC','Alley','FireplaceQu']:\n",
    "    df[i].fillna(\"None\", inplace=True)   \n",
    "\n",
    "# impute MSZoning missings as the most frequent value in the same MSSubClass\n",
    "df['MSZoning'] = df[['MSSubClass', 'MSZoning']].groupby('MSSubClass').transform(lambda x: x.fillna(x.mode()[0]))\n",
    "\n",
    "df['Utilities'].fillna(df['Utilities'].mode()[0], inplace=True)\n",
    "\n",
    "df['Exterior1st'].fillna('Wd Sdng',inplace=True)\n",
    "df['Exterior2nd'].fillna('Wd Sdng',inplace=True)"
   ]
  },
  {
   "cell_type": "markdown",
   "metadata": {},
   "source": [
    "#### Basement missing data are not at random\n",
    "Peeking into the basement related columns, it is resonable to impute BsmtQual missings with the same BsmtCond non-empty values."
   ]
  },
  {
   "cell_type": "code",
   "execution_count": 15,
   "metadata": {},
   "outputs": [
    {
     "name": "stdout",
     "output_type": "stream",
     "text": [
      "<class 'pandas.core.frame.DataFrame'>\n",
      "Int64Index: 2919 entries, 0 to 1458\n",
      "Data columns (total 11 columns):\n",
      "BsmtQual        2840 non-null object\n",
      "BsmtCond        2837 non-null object\n",
      "BsmtExposure    2837 non-null object\n",
      "BsmtFinType1    2840 non-null object\n",
      "BsmtFinSF1      2918 non-null float64\n",
      "BsmtFinType2    2839 non-null object\n",
      "BsmtFinSF2      2918 non-null float64\n",
      "BsmtUnfSF       2918 non-null float64\n",
      "TotalBsmtSF     2918 non-null float64\n",
      "BsmtFullBath    2917 non-null float64\n",
      "BsmtHalfBath    2917 non-null float64\n",
      "dtypes: float64(6), object(5)\n",
      "memory usage: 273.7+ KB\n",
      "None\n"
     ]
    }
   ],
   "source": [
    "df['BsmtQual'].fillna(df['BsmtCond'],inplace=True)\n",
    "\n",
    "bsmt_list = [i for i in df.columns if \"Bsmt\" in i]\n",
    "print(df[bsmt_list].info())\n",
    "\n",
    "for i in bsmt_list:    \n",
    "    if df[i].dtypes !='float64': df[i].fillna(\"None\", inplace=True)\n",
    "    else: df[i].fillna(0, inplace=True)"
   ]
  },
  {
   "cell_type": "code",
   "execution_count": 16,
   "metadata": {},
   "outputs": [],
   "source": [
    "df['Electrical']=df.groupby('Neighborhood')['Electrical'].transform(lambda x: x.fillna(x.mode()[0]))\n",
    "df['KitchenQual']=df.groupby('Neighborhood')['KitchenQual'].transform(lambda x: x.mode()[0])\n",
    "\n",
    "df['MasVnrType'].fillna('None', inplace=True)\n",
    "df['MasVnrArea'].fillna(0, inplace=True)\n",
    "\n",
    "df['Functional'].fillna(df['Functional'].mode()[0], inplace=True)\n",
    "\n",
    "df['SaleType'].fillna(df['SaleType'].mode()[0], inplace=True)"
   ]
  },
  {
   "cell_type": "code",
   "execution_count": 17,
   "metadata": {},
   "outputs": [
    {
     "data": {
      "text/plain": [
       "0"
      ]
     },
     "execution_count": 17,
     "metadata": {},
     "output_type": "execute_result"
    }
   ],
   "source": [
    "df.isna().any().sum()\n",
    "\n",
    "# checking is there is any more missing entries"
   ]
  },
  {
   "cell_type": "code",
   "execution_count": 18,
   "metadata": {},
   "outputs": [],
   "source": [
    "\n",
    "df['TotalSF'] =df[['1stFlrSF', '2ndFlrSF', 'TotalBsmtSF']].sum(axis=1)"
   ]
  },
  {
   "cell_type": "code",
   "execution_count": 19,
   "metadata": {},
   "outputs": [],
   "source": [
    "for i in ['MSSubClass', 'OverallCond', 'YrSold', 'MoSold']:\n",
    "    df[i] = df[i].astype(str)"
   ]
  },
  {
   "cell_type": "code",
   "execution_count": 20,
   "metadata": {},
   "outputs": [],
   "source": [
    "# grouping features as categorical and numerical\n",
    "cat_lst=[]\n",
    "numeric_lst=[]\n",
    "for i in df.columns:\n",
    "    if df[i].dtype not in ['int64', 'float64']: cat_lst.append(i)\n",
    "    else: numeric_lst.append(i)\n",
    "\n"
   ]
  },
  {
   "cell_type": "code",
   "execution_count": 21,
   "metadata": {},
   "outputs": [],
   "source": [
    "cat_df = df[cat_lst]\n",
    "numeric_df = df[numeric_lst]"
   ]
  },
  {
   "cell_type": "markdown",
   "metadata": {},
   "source": [
    "Some features can be converted from numerical to categorical values"
   ]
  },
  {
   "cell_type": "code",
   "execution_count": 22,
   "metadata": {},
   "outputs": [
    {
     "name": "stderr",
     "output_type": "stream",
     "text": [
      "C:\\Users\\jtlqh\\Anaconda3\\lib\\site-packages\\ipykernel_launcher.py:9: SettingWithCopyWarning: \n",
      "A value is trying to be set on a copy of a slice from a DataFrame.\n",
      "Try using .loc[row_indexer,col_indexer] = value instead\n",
      "\n",
      "See the caveats in the documentation: http://pandas.pydata.org/pandas-docs/stable/indexing.html#indexing-view-versus-copy\n",
      "  if __name__ == '__main__':\n"
     ]
    },
    {
     "data": {
      "text/html": [
       "<div>\n",
       "<style scoped>\n",
       "    .dataframe tbody tr th:only-of-type {\n",
       "        vertical-align: middle;\n",
       "    }\n",
       "\n",
       "    .dataframe tbody tr th {\n",
       "        vertical-align: top;\n",
       "    }\n",
       "\n",
       "    .dataframe thead th {\n",
       "        text-align: right;\n",
       "    }\n",
       "</style>\n",
       "<table border=\"1\" class=\"dataframe\">\n",
       "  <thead>\n",
       "    <tr style=\"text-align: right;\">\n",
       "      <th></th>\n",
       "      <th>Id</th>\n",
       "      <th>LotFrontage</th>\n",
       "      <th>LotArea</th>\n",
       "      <th>OverallQual</th>\n",
       "      <th>YearBuilt</th>\n",
       "      <th>YearRemodAdd</th>\n",
       "      <th>MasVnrArea</th>\n",
       "      <th>BsmtFinSF1</th>\n",
       "      <th>BsmtFinSF2</th>\n",
       "      <th>BsmtUnfSF</th>\n",
       "      <th>TotalBsmtSF</th>\n",
       "      <th>1stFlrSF</th>\n",
       "      <th>2ndFlrSF</th>\n",
       "      <th>LowQualFinSF</th>\n",
       "      <th>GrLivArea</th>\n",
       "      <th>BsmtFullBath</th>\n",
       "      <th>BsmtHalfBath</th>\n",
       "      <th>FullBath</th>\n",
       "      <th>HalfBath</th>\n",
       "      <th>BedroomAbvGr</th>\n",
       "      <th>KitchenAbvGr</th>\n",
       "      <th>TotRmsAbvGrd</th>\n",
       "      <th>Fireplaces</th>\n",
       "      <th>GarageYrBlt</th>\n",
       "      <th>GarageCars</th>\n",
       "      <th>GarageArea</th>\n",
       "      <th>WoodDeckSF</th>\n",
       "      <th>OpenPorchSF</th>\n",
       "      <th>EnclosedPorch</th>\n",
       "      <th>3SsnPorch</th>\n",
       "      <th>ScreenPorch</th>\n",
       "      <th>PoolArea</th>\n",
       "      <th>MiscVal</th>\n",
       "      <th>TotalSF</th>\n",
       "    </tr>\n",
       "  </thead>\n",
       "  <tbody>\n",
       "    <tr>\n",
       "      <th>0</th>\n",
       "      <td>1</td>\n",
       "      <td>5.831328</td>\n",
       "      <td>19.212182</td>\n",
       "      <td>7</td>\n",
       "      <td>2003</td>\n",
       "      <td>2003</td>\n",
       "      <td>8.059126</td>\n",
       "      <td>11.170327</td>\n",
       "      <td>0.0</td>\n",
       "      <td>7.483296</td>\n",
       "      <td>11.692623</td>\n",
       "      <td>11.692623</td>\n",
       "      <td>11.686189</td>\n",
       "      <td>0.0</td>\n",
       "      <td>13.698888</td>\n",
       "      <td>1.0</td>\n",
       "      <td>0.000000</td>\n",
       "      <td>2</td>\n",
       "      <td>1</td>\n",
       "      <td>3</td>\n",
       "      <td>0.730463</td>\n",
       "      <td>2.602594</td>\n",
       "      <td>0</td>\n",
       "      <td>2003.0</td>\n",
       "      <td>2.0</td>\n",
       "      <td>548.0</td>\n",
       "      <td>0.000000</td>\n",
       "      <td>5.714669</td>\n",
       "      <td>0.000000</td>\n",
       "      <td>0.0</td>\n",
       "      <td>0.0</td>\n",
       "      <td>0.0</td>\n",
       "      <td>0.0</td>\n",
       "      <td>14.976591</td>\n",
       "    </tr>\n",
       "    <tr>\n",
       "      <th>1</th>\n",
       "      <td>2</td>\n",
       "      <td>6.221214</td>\n",
       "      <td>19.712205</td>\n",
       "      <td>6</td>\n",
       "      <td>1976</td>\n",
       "      <td>1976</td>\n",
       "      <td>0.000000</td>\n",
       "      <td>12.062832</td>\n",
       "      <td>0.0</td>\n",
       "      <td>8.897844</td>\n",
       "      <td>12.792276</td>\n",
       "      <td>12.792276</td>\n",
       "      <td>0.000000</td>\n",
       "      <td>0.0</td>\n",
       "      <td>12.792276</td>\n",
       "      <td>0.0</td>\n",
       "      <td>0.730463</td>\n",
       "      <td>2</td>\n",
       "      <td>0</td>\n",
       "      <td>3</td>\n",
       "      <td>0.730463</td>\n",
       "      <td>2.259674</td>\n",
       "      <td>1</td>\n",
       "      <td>1976.0</td>\n",
       "      <td>2.0</td>\n",
       "      <td>460.0</td>\n",
       "      <td>9.010206</td>\n",
       "      <td>0.000000</td>\n",
       "      <td>0.000000</td>\n",
       "      <td>0.0</td>\n",
       "      <td>0.0</td>\n",
       "      <td>0.0</td>\n",
       "      <td>0.0</td>\n",
       "      <td>14.923100</td>\n",
       "    </tr>\n",
       "    <tr>\n",
       "      <th>2</th>\n",
       "      <td>3</td>\n",
       "      <td>5.914940</td>\n",
       "      <td>20.347241</td>\n",
       "      <td>7</td>\n",
       "      <td>2001</td>\n",
       "      <td>2002</td>\n",
       "      <td>7.646538</td>\n",
       "      <td>10.200343</td>\n",
       "      <td>0.0</td>\n",
       "      <td>9.917060</td>\n",
       "      <td>11.892039</td>\n",
       "      <td>11.892039</td>\n",
       "      <td>11.724598</td>\n",
       "      <td>0.0</td>\n",
       "      <td>13.832085</td>\n",
       "      <td>1.0</td>\n",
       "      <td>0.000000</td>\n",
       "      <td>2</td>\n",
       "      <td>1</td>\n",
       "      <td>3</td>\n",
       "      <td>0.730463</td>\n",
       "      <td>2.259674</td>\n",
       "      <td>1</td>\n",
       "      <td>2001.0</td>\n",
       "      <td>2.0</td>\n",
       "      <td>608.0</td>\n",
       "      <td>0.000000</td>\n",
       "      <td>5.053371</td>\n",
       "      <td>0.000000</td>\n",
       "      <td>0.0</td>\n",
       "      <td>0.0</td>\n",
       "      <td>0.0</td>\n",
       "      <td>0.0</td>\n",
       "      <td>15.149678</td>\n",
       "    </tr>\n",
       "    <tr>\n",
       "      <th>3</th>\n",
       "      <td>4</td>\n",
       "      <td>5.684507</td>\n",
       "      <td>19.691553</td>\n",
       "      <td>7</td>\n",
       "      <td>1915</td>\n",
       "      <td>1970</td>\n",
       "      <td>0.000000</td>\n",
       "      <td>8.274266</td>\n",
       "      <td>0.0</td>\n",
       "      <td>10.468500</td>\n",
       "      <td>11.354094</td>\n",
       "      <td>12.013683</td>\n",
       "      <td>11.354094</td>\n",
       "      <td>0.0</td>\n",
       "      <td>13.711364</td>\n",
       "      <td>1.0</td>\n",
       "      <td>0.000000</td>\n",
       "      <td>1</td>\n",
       "      <td>0</td>\n",
       "      <td>3</td>\n",
       "      <td>0.730463</td>\n",
       "      <td>2.440268</td>\n",
       "      <td>1</td>\n",
       "      <td>1998.0</td>\n",
       "      <td>3.0</td>\n",
       "      <td>642.0</td>\n",
       "      <td>0.000000</td>\n",
       "      <td>4.745132</td>\n",
       "      <td>8.797736</td>\n",
       "      <td>0.0</td>\n",
       "      <td>0.0</td>\n",
       "      <td>0.0</td>\n",
       "      <td>0.0</td>\n",
       "      <td>14.857121</td>\n",
       "    </tr>\n",
       "    <tr>\n",
       "      <th>4</th>\n",
       "      <td>5</td>\n",
       "      <td>6.314735</td>\n",
       "      <td>21.325160</td>\n",
       "      <td>8</td>\n",
       "      <td>2000</td>\n",
       "      <td>2000</td>\n",
       "      <td>9.391827</td>\n",
       "      <td>10.971129</td>\n",
       "      <td>0.0</td>\n",
       "      <td>10.221051</td>\n",
       "      <td>12.510588</td>\n",
       "      <td>12.510588</td>\n",
       "      <td>12.271365</td>\n",
       "      <td>0.0</td>\n",
       "      <td>14.480029</td>\n",
       "      <td>1.0</td>\n",
       "      <td>0.000000</td>\n",
       "      <td>2</td>\n",
       "      <td>1</td>\n",
       "      <td>4</td>\n",
       "      <td>0.730463</td>\n",
       "      <td>2.750250</td>\n",
       "      <td>1</td>\n",
       "      <td>2000.0</td>\n",
       "      <td>3.0</td>\n",
       "      <td>836.0</td>\n",
       "      <td>8.013884</td>\n",
       "      <td>6.314735</td>\n",
       "      <td>0.000000</td>\n",
       "      <td>0.0</td>\n",
       "      <td>0.0</td>\n",
       "      <td>0.0</td>\n",
       "      <td>0.0</td>\n",
       "      <td>15.852312</td>\n",
       "    </tr>\n",
       "  </tbody>\n",
       "</table>\n",
       "</div>"
      ],
      "text/plain": [
       "   Id  LotFrontage    LotArea  OverallQual  YearBuilt  YearRemodAdd  \\\n",
       "0   1     5.831328  19.212182            7       2003          2003   \n",
       "1   2     6.221214  19.712205            6       1976          1976   \n",
       "2   3     5.914940  20.347241            7       2001          2002   \n",
       "3   4     5.684507  19.691553            7       1915          1970   \n",
       "4   5     6.314735  21.325160            8       2000          2000   \n",
       "\n",
       "   MasVnrArea  BsmtFinSF1  BsmtFinSF2  BsmtUnfSF  TotalBsmtSF   1stFlrSF  \\\n",
       "0    8.059126   11.170327         0.0   7.483296    11.692623  11.692623   \n",
       "1    0.000000   12.062832         0.0   8.897844    12.792276  12.792276   \n",
       "2    7.646538   10.200343         0.0   9.917060    11.892039  11.892039   \n",
       "3    0.000000    8.274266         0.0  10.468500    11.354094  12.013683   \n",
       "4    9.391827   10.971129         0.0  10.221051    12.510588  12.510588   \n",
       "\n",
       "    2ndFlrSF  LowQualFinSF  GrLivArea  BsmtFullBath  BsmtHalfBath  FullBath  \\\n",
       "0  11.686189           0.0  13.698888           1.0      0.000000         2   \n",
       "1   0.000000           0.0  12.792276           0.0      0.730463         2   \n",
       "2  11.724598           0.0  13.832085           1.0      0.000000         2   \n",
       "3  11.354094           0.0  13.711364           1.0      0.000000         1   \n",
       "4  12.271365           0.0  14.480029           1.0      0.000000         2   \n",
       "\n",
       "   HalfBath  BedroomAbvGr  KitchenAbvGr  TotRmsAbvGrd  Fireplaces  \\\n",
       "0         1             3      0.730463      2.602594           0   \n",
       "1         0             3      0.730463      2.259674           1   \n",
       "2         1             3      0.730463      2.259674           1   \n",
       "3         0             3      0.730463      2.440268           1   \n",
       "4         1             4      0.730463      2.750250           1   \n",
       "\n",
       "   GarageYrBlt  GarageCars  GarageArea  WoodDeckSF  OpenPorchSF  \\\n",
       "0       2003.0         2.0       548.0    0.000000     5.714669   \n",
       "1       1976.0         2.0       460.0    9.010206     0.000000   \n",
       "2       2001.0         2.0       608.0    0.000000     5.053371   \n",
       "3       1998.0         3.0       642.0    0.000000     4.745132   \n",
       "4       2000.0         3.0       836.0    8.013884     6.314735   \n",
       "\n",
       "   EnclosedPorch  3SsnPorch  ScreenPorch  PoolArea  MiscVal    TotalSF  \n",
       "0       0.000000        0.0          0.0       0.0      0.0  14.976591  \n",
       "1       0.000000        0.0          0.0       0.0      0.0  14.923100  \n",
       "2       0.000000        0.0          0.0       0.0      0.0  15.149678  \n",
       "3       8.797736        0.0          0.0       0.0      0.0  14.857121  \n",
       "4       0.000000        0.0          0.0       0.0      0.0  15.852312  "
      ]
     },
     "execution_count": 22,
     "metadata": {},
     "output_type": "execute_result"
    }
   ],
   "source": [
    "# boxcox tranform on high skew features\n",
    "skew_features = numeric_df.apply(lambda x: skew(x)).sort_values(ascending=False)\n",
    "\n",
    "high_skew = skew_features[skew_features > 0.75]\n",
    "skew_index = high_skew.index\n",
    "\n",
    "#numeric_df[skew_index] = numeric_df[skew_index].apply(lambda x: np.add(x,1), axis=0).apply(np.log, axis=0)\n",
    "for i in skew_index:\n",
    "    numeric_df[i] = boxcox1p(numeric_df[i], 0.15)\n",
    "numeric_df.head()"
   ]
  },
  {
   "cell_type": "code",
   "execution_count": 23,
   "metadata": {},
   "outputs": [],
   "source": [
    "SalePrice=np.log(train.SalePrice)"
   ]
  },
  {
   "cell_type": "code",
   "execution_count": 24,
   "metadata": {},
   "outputs": [
    {
     "data": {
      "text/plain": [
       "<matplotlib.axes._subplots.AxesSubplot at 0x27471388048>"
      ]
     },
     "execution_count": 24,
     "metadata": {},
     "output_type": "execute_result"
    },
    {
     "data": {
      "image/png": "[encoded data removed]",
      "text/plain": [
       "<Figure size 720x288 with 1 Axes>"
      ]
     },
     "metadata": {
      "needs_background": "light"
     },
     "output_type": "display_data"
    }
   ],
   "source": [
    "plt.rcParams['figure.figsize']= [10.0, 4.0]\n",
    "\n",
    "SalePrice.hist()\n"
   ]
  },
  {
   "cell_type": "markdown",
   "metadata": {},
   "source": [
    "Prob plot for GrLivArea"
   ]
  },
  {
   "cell_type": "code",
   "execution_count": 25,
   "metadata": {},
   "outputs": [
    {
     "data": {
      "text/plain": [
       "((array([-3.49454834, -3.25034572, -3.11527604, ...,  3.11527604,\n",
       "          3.25034572,  3.49454834]),\n",
       "  array([ 9.27983645,  9.75842362,  9.93984515, ..., 17.01454101,\n",
       "         17.32128438, 17.69097564])),\n",
       " (0.9658229739790408, 13.169992062549465, 0.9975486076969907))"
      ]
     },
     "execution_count": 25,
     "metadata": {},
     "output_type": "execute_result"
    },
    {
     "data": {
      "image/png": "[encoded data removed]",
      "text/plain": [
       "<Figure size 720x288 with 1 Axes>"
      ]
     },
     "metadata": {
      "needs_background": "light"
     },
     "output_type": "display_data"
    }
   ],
   "source": [
    "from scipy.stats import probplot\n",
    "probplot(numeric_df.GrLivArea, plot=plt)"
   ]
  },
  {
   "cell_type": "markdown",
   "metadata": {},
   "source": [
    "Prob plot for OveralQual"
   ]
  },
  {
   "cell_type": "code",
   "execution_count": 26,
   "metadata": {},
   "outputs": [
    {
     "data": {
      "text/plain": [
       "((array([-3.49454834, -3.25034572, -3.11527604, ...,  3.11527604,\n",
       "          3.25034572,  3.49454834]),\n",
       "  array([ 1,  1,  1, ..., 10, 10, 10], dtype=int64)),\n",
       " (1.3741883722689825, 6.089071599862967, 0.9737536143813518))"
      ]
     },
     "execution_count": 26,
     "metadata": {},
     "output_type": "execute_result"
    },
    {
     "data": {
      "image/png": "[encoded data removed]",
      "text/plain": [
       "<Figure size 720x288 with 1 Axes>"
      ]
     },
     "metadata": {
      "needs_background": "light"
     },
     "output_type": "display_data"
    }
   ],
   "source": [
    "probplot(numeric_df.OverallQual, plot=plt)"
   ]
  },
  {
   "cell_type": "markdown",
   "metadata": {},
   "source": [
    "Prob plot for SalePrice"
   ]
  },
  {
   "cell_type": "code",
   "execution_count": 27,
   "metadata": {},
   "outputs": [
    {
     "data": {
      "text/plain": [
       "((array([-3.30513952, -3.04793228, -2.90489705, ...,  2.90489705,\n",
       "          3.04793228,  3.30513952]),\n",
       "  array([10.46024211, 10.47194981, 10.54270639, ..., 13.34550693,\n",
       "         13.5211395 , 13.53447303])),\n",
       " (0.39826223081618867, 12.024050901109383, 0.9953761475636614))"
      ]
     },
     "execution_count": 27,
     "metadata": {},
     "output_type": "execute_result"
    },
    {
     "data": {
      "image/png": "[encoded data removed]",
      "text/plain": [
       "<Figure size 720x288 with 1 Axes>"
      ]
     },
     "metadata": {
      "needs_background": "light"
     },
     "output_type": "display_data"
    }
   ],
   "source": [
    "probplot(SalePrice, plot=plt)"
   ]
  },
  {
   "cell_type": "markdown",
   "metadata": {},
   "source": [
    "GarageCars and GarageArea are highly correlated which will cause multivariabily issue. Since information contained in GarageCars will also reflected in GarageArea, it is ok to drop GarageCars."
   ]
  },
  {
   "cell_type": "code",
   "execution_count": 28,
   "metadata": {},
   "outputs": [
    {
     "name": "stderr",
     "output_type": "stream",
     "text": [
      "C:\\Users\\jtlqh\\Anaconda3\\lib\\site-packages\\pandas\\core\\frame.py:3697: SettingWithCopyWarning: \n",
      "A value is trying to be set on a copy of a slice from a DataFrame\n",
      "\n",
      "See the caveats in the documentation: http://pandas.pydata.org/pandas-docs/stable/indexing.html#indexing-view-versus-copy\n",
      "  errors=errors)\n"
     ]
    }
   ],
   "source": [
    "numeric_df.drop(columns=['GarageCars'], inplace=True)"
   ]
  },
  {
   "cell_type": "code",
   "execution_count": 29,
   "metadata": {},
   "outputs": [
    {
     "name": "stderr",
     "output_type": "stream",
     "text": [
      "C:\\Users\\jtlqh\\Anaconda3\\lib\\site-packages\\ipykernel_launcher.py:11: SettingWithCopyWarning: \n",
      "A value is trying to be set on a copy of a slice from a DataFrame.\n",
      "Try using .loc[row_indexer,col_indexer] = value instead\n",
      "\n",
      "See the caveats in the documentation: http://pandas.pydata.org/pandas-docs/stable/indexing.html#indexing-view-versus-copy\n",
      "  # This is added back by InteractiveShellApp.init_path()\n"
     ]
    },
    {
     "data": {
      "text/html": [
       "<div>\n",
       "<style scoped>\n",
       "    .dataframe tbody tr th:only-of-type {\n",
       "        vertical-align: middle;\n",
       "    }\n",
       "\n",
       "    .dataframe tbody tr th {\n",
       "        vertical-align: top;\n",
       "    }\n",
       "\n",
       "    .dataframe thead th {\n",
       "        text-align: right;\n",
       "    }\n",
       "</style>\n",
       "<table border=\"1\" class=\"dataframe\">\n",
       "  <thead>\n",
       "    <tr style=\"text-align: right;\">\n",
       "      <th></th>\n",
       "      <th>FireplaceQu</th>\n",
       "      <th>BsmtQual</th>\n",
       "      <th>BsmtCond</th>\n",
       "      <th>GarageQual</th>\n",
       "      <th>GarageCond</th>\n",
       "      <th>ExterQual</th>\n",
       "      <th>ExterCond</th>\n",
       "      <th>HeatingQC</th>\n",
       "      <th>PoolQC</th>\n",
       "      <th>KitchenQual</th>\n",
       "      <th>BsmtFinType1</th>\n",
       "      <th>BsmtFinType2</th>\n",
       "      <th>Functional</th>\n",
       "      <th>Fence</th>\n",
       "      <th>BsmtExposure</th>\n",
       "      <th>GarageFinish</th>\n",
       "      <th>LandSlope</th>\n",
       "      <th>LotShape</th>\n",
       "      <th>PavedDrive</th>\n",
       "      <th>Street</th>\n",
       "      <th>Alley</th>\n",
       "      <th>CentralAir</th>\n",
       "      <th>MSSubClass</th>\n",
       "      <th>OverallCond</th>\n",
       "      <th>YrSold</th>\n",
       "      <th>MoSold</th>\n",
       "    </tr>\n",
       "  </thead>\n",
       "  <tbody>\n",
       "    <tr>\n",
       "      <th>0</th>\n",
       "      <td>3</td>\n",
       "      <td>2</td>\n",
       "      <td>4</td>\n",
       "      <td>5</td>\n",
       "      <td>5</td>\n",
       "      <td>2</td>\n",
       "      <td>4</td>\n",
       "      <td>0</td>\n",
       "      <td>3</td>\n",
       "      <td>1</td>\n",
       "      <td>2</td>\n",
       "      <td>6</td>\n",
       "      <td>6</td>\n",
       "      <td>4</td>\n",
       "      <td>3</td>\n",
       "      <td>2</td>\n",
       "      <td>0</td>\n",
       "      <td>3</td>\n",
       "      <td>2</td>\n",
       "      <td>1</td>\n",
       "      <td>1</td>\n",
       "      <td>1</td>\n",
       "      <td>10</td>\n",
       "      <td>4</td>\n",
       "      <td>2</td>\n",
       "      <td>4</td>\n",
       "    </tr>\n",
       "    <tr>\n",
       "      <th>1</th>\n",
       "      <td>5</td>\n",
       "      <td>2</td>\n",
       "      <td>4</td>\n",
       "      <td>5</td>\n",
       "      <td>5</td>\n",
       "      <td>3</td>\n",
       "      <td>4</td>\n",
       "      <td>0</td>\n",
       "      <td>3</td>\n",
       "      <td>1</td>\n",
       "      <td>0</td>\n",
       "      <td>6</td>\n",
       "      <td>6</td>\n",
       "      <td>4</td>\n",
       "      <td>1</td>\n",
       "      <td>2</td>\n",
       "      <td>0</td>\n",
       "      <td>3</td>\n",
       "      <td>2</td>\n",
       "      <td>1</td>\n",
       "      <td>1</td>\n",
       "      <td>1</td>\n",
       "      <td>5</td>\n",
       "      <td>7</td>\n",
       "      <td>1</td>\n",
       "      <td>7</td>\n",
       "    </tr>\n",
       "    <tr>\n",
       "      <th>2</th>\n",
       "      <td>5</td>\n",
       "      <td>2</td>\n",
       "      <td>4</td>\n",
       "      <td>5</td>\n",
       "      <td>5</td>\n",
       "      <td>2</td>\n",
       "      <td>4</td>\n",
       "      <td>0</td>\n",
       "      <td>3</td>\n",
       "      <td>1</td>\n",
       "      <td>2</td>\n",
       "      <td>6</td>\n",
       "      <td>6</td>\n",
       "      <td>4</td>\n",
       "      <td>2</td>\n",
       "      <td>2</td>\n",
       "      <td>0</td>\n",
       "      <td>0</td>\n",
       "      <td>2</td>\n",
       "      <td>1</td>\n",
       "      <td>1</td>\n",
       "      <td>1</td>\n",
       "      <td>10</td>\n",
       "      <td>4</td>\n",
       "      <td>2</td>\n",
       "      <td>11</td>\n",
       "    </tr>\n",
       "    <tr>\n",
       "      <th>3</th>\n",
       "      <td>2</td>\n",
       "      <td>4</td>\n",
       "      <td>1</td>\n",
       "      <td>5</td>\n",
       "      <td>5</td>\n",
       "      <td>3</td>\n",
       "      <td>4</td>\n",
       "      <td>2</td>\n",
       "      <td>3</td>\n",
       "      <td>2</td>\n",
       "      <td>0</td>\n",
       "      <td>6</td>\n",
       "      <td>6</td>\n",
       "      <td>4</td>\n",
       "      <td>3</td>\n",
       "      <td>3</td>\n",
       "      <td>0</td>\n",
       "      <td>0</td>\n",
       "      <td>2</td>\n",
       "      <td>1</td>\n",
       "      <td>1</td>\n",
       "      <td>1</td>\n",
       "      <td>11</td>\n",
       "      <td>4</td>\n",
       "      <td>0</td>\n",
       "      <td>4</td>\n",
       "    </tr>\n",
       "    <tr>\n",
       "      <th>4</th>\n",
       "      <td>5</td>\n",
       "      <td>2</td>\n",
       "      <td>4</td>\n",
       "      <td>5</td>\n",
       "      <td>5</td>\n",
       "      <td>2</td>\n",
       "      <td>4</td>\n",
       "      <td>0</td>\n",
       "      <td>3</td>\n",
       "      <td>1</td>\n",
       "      <td>2</td>\n",
       "      <td>6</td>\n",
       "      <td>6</td>\n",
       "      <td>4</td>\n",
       "      <td>0</td>\n",
       "      <td>2</td>\n",
       "      <td>0</td>\n",
       "      <td>0</td>\n",
       "      <td>2</td>\n",
       "      <td>1</td>\n",
       "      <td>1</td>\n",
       "      <td>1</td>\n",
       "      <td>10</td>\n",
       "      <td>4</td>\n",
       "      <td>2</td>\n",
       "      <td>3</td>\n",
       "    </tr>\n",
       "  </tbody>\n",
       "</table>\n",
       "</div>"
      ],
      "text/plain": [
       "   FireplaceQu  BsmtQual  BsmtCond  GarageQual  GarageCond  ExterQual  \\\n",
       "0            3         2         4           5           5          2   \n",
       "1            5         2         4           5           5          3   \n",
       "2            5         2         4           5           5          2   \n",
       "3            2         4         1           5           5          3   \n",
       "4            5         2         4           5           5          2   \n",
       "\n",
       "   ExterCond  HeatingQC  PoolQC  KitchenQual  BsmtFinType1  BsmtFinType2  \\\n",
       "0          4          0       3            1             2             6   \n",
       "1          4          0       3            1             0             6   \n",
       "2          4          0       3            1             2             6   \n",
       "3          4          2       3            2             0             6   \n",
       "4          4          0       3            1             2             6   \n",
       "\n",
       "   Functional  Fence  BsmtExposure  GarageFinish  LandSlope  LotShape  \\\n",
       "0           6      4             3             2          0         3   \n",
       "1           6      4             1             2          0         3   \n",
       "2           6      4             2             2          0         0   \n",
       "3           6      4             3             3          0         0   \n",
       "4           6      4             0             2          0         0   \n",
       "\n",
       "   PavedDrive  Street  Alley  CentralAir  MSSubClass  OverallCond  YrSold  \\\n",
       "0           2       1      1           1          10            4       2   \n",
       "1           2       1      1           1           5            7       1   \n",
       "2           2       1      1           1          10            4       2   \n",
       "3           2       1      1           1          11            4       0   \n",
       "4           2       1      1           1          10            4       2   \n",
       "\n",
       "   MoSold  \n",
       "0       4  \n",
       "1       7  \n",
       "2      11  \n",
       "3       4  \n",
       "4       3  "
      ]
     },
     "execution_count": 29,
     "metadata": {},
     "output_type": "execute_result"
    }
   ],
   "source": [
    "# label encode on categorical features having more than 3 unique values \n",
    "cols = ['FireplaceQu', 'BsmtQual', 'BsmtCond', 'GarageQual', 'GarageCond', \n",
    "        'ExterQual', 'ExterCond','HeatingQC', 'PoolQC', 'KitchenQual', 'BsmtFinType1', \n",
    "        'BsmtFinType2', 'Functional', 'Fence', 'BsmtExposure', 'GarageFinish', 'LandSlope',\n",
    "        'LotShape', 'PavedDrive', 'Street', 'Alley', 'CentralAir', 'MSSubClass', 'OverallCond', \n",
    "        'YrSold', 'MoSold']\n",
    "\n",
    "for i in cols:\n",
    "    label = LabelEncoder()\n",
    "    label.fit(cat_df[i].values.tolist())\n",
    "    cat_df[i] = label.transform(cat_df[i].values.tolist())\n",
    "\n",
    "cat_df[cols].head()"
   ]
  },
  {
   "cell_type": "code",
   "execution_count": 30,
   "metadata": {},
   "outputs": [],
   "source": [
    "# After dummification, we can drop the features that have low variance\n",
    "cat_dummy = pd.get_dummies(cat_df)\n",
    "\n",
    "# drop low variance features\n",
    "low_var = []\n",
    "for i in cat_dummy.columns:\n",
    "    dominant = cat_dummy[i].value_counts().apply(lambda x: x/len(cat_dummy[i]))[0]\n",
    "    if dominant>.9994: low_var.append(i)\n",
    "cat_dummy.drop(columns=low_var, inplace=True)"
   ]
  },
  {
   "cell_type": "code",
   "execution_count": 31,
   "metadata": {},
   "outputs": [
    {
     "name": "stdout",
     "output_type": "stream",
     "text": [
      "(2919, 223)\n"
     ]
    },
    {
     "data": {
      "text/html": [
       "<div>\n",
       "<style scoped>\n",
       "    .dataframe tbody tr th:only-of-type {\n",
       "        vertical-align: middle;\n",
       "    }\n",
       "\n",
       "    .dataframe tbody tr th {\n",
       "        vertical-align: top;\n",
       "    }\n",
       "\n",
       "    .dataframe thead th {\n",
       "        text-align: right;\n",
       "    }\n",
       "</style>\n",
       "<table border=\"1\" class=\"dataframe\">\n",
       "  <thead>\n",
       "    <tr style=\"text-align: right;\">\n",
       "      <th></th>\n",
       "      <th>Id</th>\n",
       "      <th>LotFrontage</th>\n",
       "      <th>LotArea</th>\n",
       "      <th>OverallQual</th>\n",
       "      <th>YearBuilt</th>\n",
       "      <th>YearRemodAdd</th>\n",
       "      <th>MasVnrArea</th>\n",
       "      <th>BsmtFinSF1</th>\n",
       "      <th>BsmtFinSF2</th>\n",
       "      <th>BsmtUnfSF</th>\n",
       "      <th>TotalBsmtSF</th>\n",
       "      <th>1stFlrSF</th>\n",
       "      <th>2ndFlrSF</th>\n",
       "      <th>LowQualFinSF</th>\n",
       "      <th>GrLivArea</th>\n",
       "      <th>BsmtFullBath</th>\n",
       "      <th>BsmtHalfBath</th>\n",
       "      <th>FullBath</th>\n",
       "      <th>HalfBath</th>\n",
       "      <th>BedroomAbvGr</th>\n",
       "      <th>KitchenAbvGr</th>\n",
       "      <th>TotRmsAbvGrd</th>\n",
       "      <th>Fireplaces</th>\n",
       "      <th>GarageYrBlt</th>\n",
       "      <th>GarageArea</th>\n",
       "      <th>WoodDeckSF</th>\n",
       "      <th>OpenPorchSF</th>\n",
       "      <th>EnclosedPorch</th>\n",
       "      <th>3SsnPorch</th>\n",
       "      <th>ScreenPorch</th>\n",
       "      <th>PoolArea</th>\n",
       "      <th>MiscVal</th>\n",
       "      <th>TotalSF</th>\n",
       "      <th>MSSubClass</th>\n",
       "      <th>Street</th>\n",
       "      <th>Alley</th>\n",
       "      <th>LotShape</th>\n",
       "      <th>LandSlope</th>\n",
       "      <th>OverallCond</th>\n",
       "      <th>ExterQual</th>\n",
       "      <th>...</th>\n",
       "      <th>Foundation_Stone</th>\n",
       "      <th>Foundation_Wood</th>\n",
       "      <th>Heating_Floor</th>\n",
       "      <th>Heating_GasA</th>\n",
       "      <th>Heating_GasW</th>\n",
       "      <th>Heating_Grav</th>\n",
       "      <th>Heating_OthW</th>\n",
       "      <th>Heating_Wall</th>\n",
       "      <th>Electrical_FuseA</th>\n",
       "      <th>Electrical_FuseF</th>\n",
       "      <th>Electrical_FuseP</th>\n",
       "      <th>Electrical_Mix</th>\n",
       "      <th>Electrical_SBrkr</th>\n",
       "      <th>GarageType_2Types</th>\n",
       "      <th>GarageType_Attchd</th>\n",
       "      <th>GarageType_Basment</th>\n",
       "      <th>GarageType_BuiltIn</th>\n",
       "      <th>GarageType_CarPort</th>\n",
       "      <th>GarageType_Detchd</th>\n",
       "      <th>GarageType_None</th>\n",
       "      <th>MiscFeature_Gar2</th>\n",
       "      <th>MiscFeature_None</th>\n",
       "      <th>MiscFeature_Othr</th>\n",
       "      <th>MiscFeature_Shed</th>\n",
       "      <th>MiscFeature_TenC</th>\n",
       "      <th>SaleType_COD</th>\n",
       "      <th>SaleType_CWD</th>\n",
       "      <th>SaleType_Con</th>\n",
       "      <th>SaleType_ConLD</th>\n",
       "      <th>SaleType_ConLI</th>\n",
       "      <th>SaleType_ConLw</th>\n",
       "      <th>SaleType_New</th>\n",
       "      <th>SaleType_Oth</th>\n",
       "      <th>SaleType_WD</th>\n",
       "      <th>SaleCondition_Abnorml</th>\n",
       "      <th>SaleCondition_AdjLand</th>\n",
       "      <th>SaleCondition_Alloca</th>\n",
       "      <th>SaleCondition_Family</th>\n",
       "      <th>SaleCondition_Normal</th>\n",
       "      <th>SaleCondition_Partial</th>\n",
       "    </tr>\n",
       "  </thead>\n",
       "  <tbody>\n",
       "    <tr>\n",
       "      <th>0</th>\n",
       "      <td>1</td>\n",
       "      <td>5.831328</td>\n",
       "      <td>19.212182</td>\n",
       "      <td>7</td>\n",
       "      <td>2003</td>\n",
       "      <td>2003</td>\n",
       "      <td>8.059126</td>\n",
       "      <td>11.170327</td>\n",
       "      <td>0.0</td>\n",
       "      <td>7.483296</td>\n",
       "      <td>11.692623</td>\n",
       "      <td>11.692623</td>\n",
       "      <td>11.686189</td>\n",
       "      <td>0.0</td>\n",
       "      <td>13.698888</td>\n",
       "      <td>1.0</td>\n",
       "      <td>0.000000</td>\n",
       "      <td>2</td>\n",
       "      <td>1</td>\n",
       "      <td>3</td>\n",
       "      <td>0.730463</td>\n",
       "      <td>2.602594</td>\n",
       "      <td>0</td>\n",
       "      <td>2003.0</td>\n",
       "      <td>548.0</td>\n",
       "      <td>0.000000</td>\n",
       "      <td>5.714669</td>\n",
       "      <td>0.000000</td>\n",
       "      <td>0.0</td>\n",
       "      <td>0.0</td>\n",
       "      <td>0.0</td>\n",
       "      <td>0.0</td>\n",
       "      <td>14.976591</td>\n",
       "      <td>10</td>\n",
       "      <td>1</td>\n",
       "      <td>1</td>\n",
       "      <td>3</td>\n",
       "      <td>0</td>\n",
       "      <td>4</td>\n",
       "      <td>2</td>\n",
       "      <td>...</td>\n",
       "      <td>0</td>\n",
       "      <td>0</td>\n",
       "      <td>0</td>\n",
       "      <td>1</td>\n",
       "      <td>0</td>\n",
       "      <td>0</td>\n",
       "      <td>0</td>\n",
       "      <td>0</td>\n",
       "      <td>0</td>\n",
       "      <td>0</td>\n",
       "      <td>0</td>\n",
       "      <td>0</td>\n",
       "      <td>1</td>\n",
       "      <td>0</td>\n",
       "      <td>1</td>\n",
       "      <td>0</td>\n",
       "      <td>0</td>\n",
       "      <td>0</td>\n",
       "      <td>0</td>\n",
       "      <td>0</td>\n",
       "      <td>0</td>\n",
       "      <td>1</td>\n",
       "      <td>0</td>\n",
       "      <td>0</td>\n",
       "      <td>0</td>\n",
       "      <td>0</td>\n",
       "      <td>0</td>\n",
       "      <td>0</td>\n",
       "      <td>0</td>\n",
       "      <td>0</td>\n",
       "      <td>0</td>\n",
       "      <td>0</td>\n",
       "      <td>0</td>\n",
       "      <td>1</td>\n",
       "      <td>0</td>\n",
       "      <td>0</td>\n",
       "      <td>0</td>\n",
       "      <td>0</td>\n",
       "      <td>1</td>\n",
       "      <td>0</td>\n",
       "    </tr>\n",
       "    <tr>\n",
       "      <th>1</th>\n",
       "      <td>2</td>\n",
       "      <td>6.221214</td>\n",
       "      <td>19.712205</td>\n",
       "      <td>6</td>\n",
       "      <td>1976</td>\n",
       "      <td>1976</td>\n",
       "      <td>0.000000</td>\n",
       "      <td>12.062832</td>\n",
       "      <td>0.0</td>\n",
       "      <td>8.897844</td>\n",
       "      <td>12.792276</td>\n",
       "      <td>12.792276</td>\n",
       "      <td>0.000000</td>\n",
       "      <td>0.0</td>\n",
       "      <td>12.792276</td>\n",
       "      <td>0.0</td>\n",
       "      <td>0.730463</td>\n",
       "      <td>2</td>\n",
       "      <td>0</td>\n",
       "      <td>3</td>\n",
       "      <td>0.730463</td>\n",
       "      <td>2.259674</td>\n",
       "      <td>1</td>\n",
       "      <td>1976.0</td>\n",
       "      <td>460.0</td>\n",
       "      <td>9.010206</td>\n",
       "      <td>0.000000</td>\n",
       "      <td>0.000000</td>\n",
       "      <td>0.0</td>\n",
       "      <td>0.0</td>\n",
       "      <td>0.0</td>\n",
       "      <td>0.0</td>\n",
       "      <td>14.923100</td>\n",
       "      <td>5</td>\n",
       "      <td>1</td>\n",
       "      <td>1</td>\n",
       "      <td>3</td>\n",
       "      <td>0</td>\n",
       "      <td>7</td>\n",
       "      <td>3</td>\n",
       "      <td>...</td>\n",
       "      <td>0</td>\n",
       "      <td>0</td>\n",
       "      <td>0</td>\n",
       "      <td>1</td>\n",
       "      <td>0</td>\n",
       "      <td>0</td>\n",
       "      <td>0</td>\n",
       "      <td>0</td>\n",
       "      <td>0</td>\n",
       "      <td>0</td>\n",
       "      <td>0</td>\n",
       "      <td>0</td>\n",
       "      <td>1</td>\n",
       "      <td>0</td>\n",
       "      <td>1</td>\n",
       "      <td>0</td>\n",
       "      <td>0</td>\n",
       "      <td>0</td>\n",
       "      <td>0</td>\n",
       "      <td>0</td>\n",
       "      <td>0</td>\n",
       "      <td>1</td>\n",
       "      <td>0</td>\n",
       "      <td>0</td>\n",
       "      <td>0</td>\n",
       "      <td>0</td>\n",
       "      <td>0</td>\n",
       "      <td>0</td>\n",
       "      <td>0</td>\n",
       "      <td>0</td>\n",
       "      <td>0</td>\n",
       "      <td>0</td>\n",
       "      <td>0</td>\n",
       "      <td>1</td>\n",
       "      <td>0</td>\n",
       "      <td>0</td>\n",
       "      <td>0</td>\n",
       "      <td>0</td>\n",
       "      <td>1</td>\n",
       "      <td>0</td>\n",
       "    </tr>\n",
       "    <tr>\n",
       "      <th>2</th>\n",
       "      <td>3</td>\n",
       "      <td>5.914940</td>\n",
       "      <td>20.347241</td>\n",
       "      <td>7</td>\n",
       "      <td>2001</td>\n",
       "      <td>2002</td>\n",
       "      <td>7.646538</td>\n",
       "      <td>10.200343</td>\n",
       "      <td>0.0</td>\n",
       "      <td>9.917060</td>\n",
       "      <td>11.892039</td>\n",
       "      <td>11.892039</td>\n",
       "      <td>11.724598</td>\n",
       "      <td>0.0</td>\n",
       "      <td>13.832085</td>\n",
       "      <td>1.0</td>\n",
       "      <td>0.000000</td>\n",
       "      <td>2</td>\n",
       "      <td>1</td>\n",
       "      <td>3</td>\n",
       "      <td>0.730463</td>\n",
       "      <td>2.259674</td>\n",
       "      <td>1</td>\n",
       "      <td>2001.0</td>\n",
       "      <td>608.0</td>\n",
       "      <td>0.000000</td>\n",
       "      <td>5.053371</td>\n",
       "      <td>0.000000</td>\n",
       "      <td>0.0</td>\n",
       "      <td>0.0</td>\n",
       "      <td>0.0</td>\n",
       "      <td>0.0</td>\n",
       "      <td>15.149678</td>\n",
       "      <td>10</td>\n",
       "      <td>1</td>\n",
       "      <td>1</td>\n",
       "      <td>0</td>\n",
       "      <td>0</td>\n",
       "      <td>4</td>\n",
       "      <td>2</td>\n",
       "      <td>...</td>\n",
       "      <td>0</td>\n",
       "      <td>0</td>\n",
       "      <td>0</td>\n",
       "      <td>1</td>\n",
       "      <td>0</td>\n",
       "      <td>0</td>\n",
       "      <td>0</td>\n",
       "      <td>0</td>\n",
       "      <td>0</td>\n",
       "      <td>0</td>\n",
       "      <td>0</td>\n",
       "      <td>0</td>\n",
       "      <td>1</td>\n",
       "      <td>0</td>\n",
       "      <td>1</td>\n",
       "      <td>0</td>\n",
       "      <td>0</td>\n",
       "      <td>0</td>\n",
       "      <td>0</td>\n",
       "      <td>0</td>\n",
       "      <td>0</td>\n",
       "      <td>1</td>\n",
       "      <td>0</td>\n",
       "      <td>0</td>\n",
       "      <td>0</td>\n",
       "      <td>0</td>\n",
       "      <td>0</td>\n",
       "      <td>0</td>\n",
       "      <td>0</td>\n",
       "      <td>0</td>\n",
       "      <td>0</td>\n",
       "      <td>0</td>\n",
       "      <td>0</td>\n",
       "      <td>1</td>\n",
       "      <td>0</td>\n",
       "      <td>0</td>\n",
       "      <td>0</td>\n",
       "      <td>0</td>\n",
       "      <td>1</td>\n",
       "      <td>0</td>\n",
       "    </tr>\n",
       "    <tr>\n",
       "      <th>3</th>\n",
       "      <td>4</td>\n",
       "      <td>5.684507</td>\n",
       "      <td>19.691553</td>\n",
       "      <td>7</td>\n",
       "      <td>1915</td>\n",
       "      <td>1970</td>\n",
       "      <td>0.000000</td>\n",
       "      <td>8.274266</td>\n",
       "      <td>0.0</td>\n",
       "      <td>10.468500</td>\n",
       "      <td>11.354094</td>\n",
       "      <td>12.013683</td>\n",
       "      <td>11.354094</td>\n",
       "      <td>0.0</td>\n",
       "      <td>13.711364</td>\n",
       "      <td>1.0</td>\n",
       "      <td>0.000000</td>\n",
       "      <td>1</td>\n",
       "      <td>0</td>\n",
       "      <td>3</td>\n",
       "      <td>0.730463</td>\n",
       "      <td>2.440268</td>\n",
       "      <td>1</td>\n",
       "      <td>1998.0</td>\n",
       "      <td>642.0</td>\n",
       "      <td>0.000000</td>\n",
       "      <td>4.745132</td>\n",
       "      <td>8.797736</td>\n",
       "      <td>0.0</td>\n",
       "      <td>0.0</td>\n",
       "      <td>0.0</td>\n",
       "      <td>0.0</td>\n",
       "      <td>14.857121</td>\n",
       "      <td>11</td>\n",
       "      <td>1</td>\n",
       "      <td>1</td>\n",
       "      <td>0</td>\n",
       "      <td>0</td>\n",
       "      <td>4</td>\n",
       "      <td>3</td>\n",
       "      <td>...</td>\n",
       "      <td>0</td>\n",
       "      <td>0</td>\n",
       "      <td>0</td>\n",
       "      <td>1</td>\n",
       "      <td>0</td>\n",
       "      <td>0</td>\n",
       "      <td>0</td>\n",
       "      <td>0</td>\n",
       "      <td>0</td>\n",
       "      <td>0</td>\n",
       "      <td>0</td>\n",
       "      <td>0</td>\n",
       "      <td>1</td>\n",
       "      <td>0</td>\n",
       "      <td>0</td>\n",
       "      <td>0</td>\n",
       "      <td>0</td>\n",
       "      <td>0</td>\n",
       "      <td>1</td>\n",
       "      <td>0</td>\n",
       "      <td>0</td>\n",
       "      <td>1</td>\n",
       "      <td>0</td>\n",
       "      <td>0</td>\n",
       "      <td>0</td>\n",
       "      <td>0</td>\n",
       "      <td>0</td>\n",
       "      <td>0</td>\n",
       "      <td>0</td>\n",
       "      <td>0</td>\n",
       "      <td>0</td>\n",
       "      <td>0</td>\n",
       "      <td>0</td>\n",
       "      <td>1</td>\n",
       "      <td>1</td>\n",
       "      <td>0</td>\n",
       "      <td>0</td>\n",
       "      <td>0</td>\n",
       "      <td>0</td>\n",
       "      <td>0</td>\n",
       "    </tr>\n",
       "    <tr>\n",
       "      <th>4</th>\n",
       "      <td>5</td>\n",
       "      <td>6.314735</td>\n",
       "      <td>21.325160</td>\n",
       "      <td>8</td>\n",
       "      <td>2000</td>\n",
       "      <td>2000</td>\n",
       "      <td>9.391827</td>\n",
       "      <td>10.971129</td>\n",
       "      <td>0.0</td>\n",
       "      <td>10.221051</td>\n",
       "      <td>12.510588</td>\n",
       "      <td>12.510588</td>\n",
       "      <td>12.271365</td>\n",
       "      <td>0.0</td>\n",
       "      <td>14.480029</td>\n",
       "      <td>1.0</td>\n",
       "      <td>0.000000</td>\n",
       "      <td>2</td>\n",
       "      <td>1</td>\n",
       "      <td>4</td>\n",
       "      <td>0.730463</td>\n",
       "      <td>2.750250</td>\n",
       "      <td>1</td>\n",
       "      <td>2000.0</td>\n",
       "      <td>836.0</td>\n",
       "      <td>8.013884</td>\n",
       "      <td>6.314735</td>\n",
       "      <td>0.000000</td>\n",
       "      <td>0.0</td>\n",
       "      <td>0.0</td>\n",
       "      <td>0.0</td>\n",
       "      <td>0.0</td>\n",
       "      <td>15.852312</td>\n",
       "      <td>10</td>\n",
       "      <td>1</td>\n",
       "      <td>1</td>\n",
       "      <td>0</td>\n",
       "      <td>0</td>\n",
       "      <td>4</td>\n",
       "      <td>2</td>\n",
       "      <td>...</td>\n",
       "      <td>0</td>\n",
       "      <td>0</td>\n",
       "      <td>0</td>\n",
       "      <td>1</td>\n",
       "      <td>0</td>\n",
       "      <td>0</td>\n",
       "      <td>0</td>\n",
       "      <td>0</td>\n",
       "      <td>0</td>\n",
       "      <td>0</td>\n",
       "      <td>0</td>\n",
       "      <td>0</td>\n",
       "      <td>1</td>\n",
       "      <td>0</td>\n",
       "      <td>1</td>\n",
       "      <td>0</td>\n",
       "      <td>0</td>\n",
       "      <td>0</td>\n",
       "      <td>0</td>\n",
       "      <td>0</td>\n",
       "      <td>0</td>\n",
       "      <td>1</td>\n",
       "      <td>0</td>\n",
       "      <td>0</td>\n",
       "      <td>0</td>\n",
       "      <td>0</td>\n",
       "      <td>0</td>\n",
       "      <td>0</td>\n",
       "      <td>0</td>\n",
       "      <td>0</td>\n",
       "      <td>0</td>\n",
       "      <td>0</td>\n",
       "      <td>0</td>\n",
       "      <td>1</td>\n",
       "      <td>0</td>\n",
       "      <td>0</td>\n",
       "      <td>0</td>\n",
       "      <td>0</td>\n",
       "      <td>1</td>\n",
       "      <td>0</td>\n",
       "    </tr>\n",
       "  </tbody>\n",
       "</table>\n",
       "<p>5 rows × 223 columns</p>\n",
       "</div>"
      ],
      "text/plain": [
       "   Id  LotFrontage    LotArea  OverallQual  YearBuilt  YearRemodAdd  \\\n",
       "0   1     5.831328  19.212182            7       2003          2003   \n",
       "1   2     6.221214  19.712205            6       1976          1976   \n",
       "2   3     5.914940  20.347241            7       2001          2002   \n",
       "3   4     5.684507  19.691553            7       1915          1970   \n",
       "4   5     6.314735  21.325160            8       2000          2000   \n",
       "\n",
       "   MasVnrArea  BsmtFinSF1  BsmtFinSF2  BsmtUnfSF  TotalBsmtSF   1stFlrSF  \\\n",
       "0    8.059126   11.170327         0.0   7.483296    11.692623  11.692623   \n",
       "1    0.000000   12.062832         0.0   8.897844    12.792276  12.792276   \n",
       "2    7.646538   10.200343         0.0   9.917060    11.892039  11.892039   \n",
       "3    0.000000    8.274266         0.0  10.468500    11.354094  12.013683   \n",
       "4    9.391827   10.971129         0.0  10.221051    12.510588  12.510588   \n",
       "\n",
       "    2ndFlrSF  LowQualFinSF  GrLivArea  BsmtFullBath  BsmtHalfBath  FullBath  \\\n",
       "0  11.686189           0.0  13.698888           1.0      0.000000         2   \n",
       "1   0.000000           0.0  12.792276           0.0      0.730463         2   \n",
       "2  11.724598           0.0  13.832085           1.0      0.000000         2   \n",
       "3  11.354094           0.0  13.711364           1.0      0.000000         1   \n",
       "4  12.271365           0.0  14.480029           1.0      0.000000         2   \n",
       "\n",
       "   HalfBath  BedroomAbvGr  KitchenAbvGr  TotRmsAbvGrd  Fireplaces  \\\n",
       "0         1             3      0.730463      2.602594           0   \n",
       "1         0             3      0.730463      2.259674           1   \n",
       "2         1             3      0.730463      2.259674           1   \n",
       "3         0             3      0.730463      2.440268           1   \n",
       "4         1             4      0.730463      2.750250           1   \n",
       "\n",
       "   GarageYrBlt  GarageArea  WoodDeckSF  OpenPorchSF  EnclosedPorch  3SsnPorch  \\\n",
       "0       2003.0       548.0    0.000000     5.714669       0.000000        0.0   \n",
       "1       1976.0       460.0    9.010206     0.000000       0.000000        0.0   \n",
       "2       2001.0       608.0    0.000000     5.053371       0.000000        0.0   \n",
       "3       1998.0       642.0    0.000000     4.745132       8.797736        0.0   \n",
       "4       2000.0       836.0    8.013884     6.314735       0.000000        0.0   \n",
       "\n",
       "   ScreenPorch  PoolArea  MiscVal    TotalSF  MSSubClass  Street  Alley  \\\n",
       "0          0.0       0.0      0.0  14.976591          10       1      1   \n",
       "1          0.0       0.0      0.0  14.923100           5       1      1   \n",
       "2          0.0       0.0      0.0  15.149678          10       1      1   \n",
       "3          0.0       0.0      0.0  14.857121          11       1      1   \n",
       "4          0.0       0.0      0.0  15.852312          10       1      1   \n",
       "\n",
       "   LotShape  LandSlope  OverallCond  ExterQual          ...            \\\n",
       "0         3          0            4          2          ...             \n",
       "1         3          0            7          3          ...             \n",
       "2         0          0            4          2          ...             \n",
       "3         0          0            4          3          ...             \n",
       "4         0          0            4          2          ...             \n",
       "\n",
       "   Foundation_Stone  Foundation_Wood  Heating_Floor  Heating_GasA  \\\n",
       "0                 0                0              0             1   \n",
       "1                 0                0              0             1   \n",
       "2                 0                0              0             1   \n",
       "3                 0                0              0             1   \n",
       "4                 0                0              0             1   \n",
       "\n",
       "   Heating_GasW  Heating_Grav  Heating_OthW  Heating_Wall  Electrical_FuseA  \\\n",
       "0             0             0             0             0                 0   \n",
       "1             0             0             0             0                 0   \n",
       "2             0             0             0             0                 0   \n",
       "3             0             0             0             0                 0   \n",
       "4             0             0             0             0                 0   \n",
       "\n",
       "   Electrical_FuseF  Electrical_FuseP  Electrical_Mix  Electrical_SBrkr  \\\n",
       "0                 0                 0               0                 1   \n",
       "1                 0                 0               0                 1   \n",
       "2                 0                 0               0                 1   \n",
       "3                 0                 0               0                 1   \n",
       "4                 0                 0               0                 1   \n",
       "\n",
       "   GarageType_2Types  GarageType_Attchd  GarageType_Basment  \\\n",
       "0                  0                  1                   0   \n",
       "1                  0                  1                   0   \n",
       "2                  0                  1                   0   \n",
       "3                  0                  0                   0   \n",
       "4                  0                  1                   0   \n",
       "\n",
       "   GarageType_BuiltIn  GarageType_CarPort  GarageType_Detchd  GarageType_None  \\\n",
       "0                   0                   0                  0                0   \n",
       "1                   0                   0                  0                0   \n",
       "2                   0                   0                  0                0   \n",
       "3                   0                   0                  1                0   \n",
       "4                   0                   0                  0                0   \n",
       "\n",
       "   MiscFeature_Gar2  MiscFeature_None  MiscFeature_Othr  MiscFeature_Shed  \\\n",
       "0                 0                 1                 0                 0   \n",
       "1                 0                 1                 0                 0   \n",
       "2                 0                 1                 0                 0   \n",
       "3                 0                 1                 0                 0   \n",
       "4                 0                 1                 0                 0   \n",
       "\n",
       "   MiscFeature_TenC  SaleType_COD  SaleType_CWD  SaleType_Con  SaleType_ConLD  \\\n",
       "0                 0             0             0             0               0   \n",
       "1                 0             0             0             0               0   \n",
       "2                 0             0             0             0               0   \n",
       "3                 0             0             0             0               0   \n",
       "4                 0             0             0             0               0   \n",
       "\n",
       "   SaleType_ConLI  SaleType_ConLw  SaleType_New  SaleType_Oth  SaleType_WD  \\\n",
       "0               0               0             0             0            1   \n",
       "1               0               0             0             0            1   \n",
       "2               0               0             0             0            1   \n",
       "3               0               0             0             0            1   \n",
       "4               0               0             0             0            1   \n",
       "\n",
       "   SaleCondition_Abnorml  SaleCondition_AdjLand  SaleCondition_Alloca  \\\n",
       "0                      0                      0                     0   \n",
       "1                      0                      0                     0   \n",
       "2                      0                      0                     0   \n",
       "3                      1                      0                     0   \n",
       "4                      0                      0                     0   \n",
       "\n",
       "   SaleCondition_Family  SaleCondition_Normal  SaleCondition_Partial  \n",
       "0                     0                     1                      0  \n",
       "1                     0                     1                      0  \n",
       "2                     0                     1                      0  \n",
       "3                     0                     0                      0  \n",
       "4                     0                     1                      0  \n",
       "\n",
       "[5 rows x 223 columns]"
      ]
     },
     "execution_count": 31,
     "metadata": {},
     "output_type": "execute_result"
    }
   ],
   "source": [
    "feature_dummy = pd.concat([numeric_df, cat_df], axis=1)\n",
    "feature_dummy = pd.get_dummies(feature_dummy)\n",
    "print(feature_dummy.shape)\n",
    "feature_dummy.head()"
   ]
  },
  {
   "cell_type": "markdown",
   "metadata": {},
   "source": [
    "### Regression Modeling"
   ]
  },
  {
   "cell_type": "code",
   "execution_count": 32,
   "metadata": {},
   "outputs": [],
   "source": [
    "def get_error(X_train,y_train,X_test,y_test, model, show = True, refit = True):\n",
    "    if refit: model.fit(X_train, y_train)\n",
    "    train_error = 1 - r2_score(y_train, model.predict(X_train))\n",
    "    test_error = 1 - r2_score(y_test,model.predict(X_test))\n",
    "    if show:\n",
    "        print(\"train error \", train_error)\n",
    "        print(\"test error\", test_error)\n",
    "    return [train_error, test_error]\n",
    "\n"
   ]
  },
  {
   "cell_type": "code",
   "execution_count": 33,
   "metadata": {},
   "outputs": [
    {
     "data": {
      "text/plain": [
       "(1164, 223)"
      ]
     },
     "execution_count": 33,
     "metadata": {},
     "output_type": "execute_result"
    }
   ],
   "source": [
    "train_index = train.drop(index=outliers).index\n",
    "#train_index = train.index\n",
    "\n",
    "X_train, X_test, y_train, y_test = ms.train_test_split(feature_dummy.iloc[train_index,], \\\n",
    "                                                       SalePrice[train_index], test_size=0.2, random_state=108)\n",
    "X_train.shape"
   ]
  },
  {
   "cell_type": "markdown",
   "metadata": {},
   "source": [
    "#### Ridge Regression"
   ]
  },
  {
   "cell_type": "code",
   "execution_count": 34,
   "metadata": {},
   "outputs": [
    {
     "name": "stdout",
     "output_type": "stream",
     "text": [
      "Fitting 5 folds for each of 10 candidates, totalling 50 fits\n"
     ]
    },
    {
     "name": "stderr",
     "output_type": "stream",
     "text": [
      "[Parallel(n_jobs=-1)]: Using backend LokyBackend with 12 concurrent workers.\n",
      "[Parallel(n_jobs=-1)]: Done  17 tasks      | elapsed:    5.5s\n"
     ]
    },
    {
     "name": "stdout",
     "output_type": "stream",
     "text": [
      "Wall time: 6.27 s\n",
      "Ridge(alpha=11.555555555555555, copy_X=True, fit_intercept=True,\n",
      "   max_iter=None, normalize=False, random_state=108, solver='auto',\n",
      "   tol=0.0001)\n",
      "train error  0.062411572335709375\n",
      "test error 0.06911594648127739\n"
     ]
    },
    {
     "name": "stderr",
     "output_type": "stream",
     "text": [
      "[Parallel(n_jobs=-1)]: Done  50 out of  50 | elapsed:    6.1s finished\n"
     ]
    },
    {
     "data": {
      "text/plain": [
       "[0.062411572335709375, 0.06911594648127739]"
      ]
     },
     "execution_count": 34,
     "metadata": {},
     "output_type": "execute_result"
    }
   ],
   "source": [
    "ridge = Ridge(random_state=108, tol=0.0001)\n",
    "\n",
    "grid_para = dict(alpha = np.linspace(1,20,10))\n",
    "grid_search_ridge = ms.GridSearchCV(ridge,  cv=5, param_grid=grid_para, n_jobs=-1, verbose=2)\n",
    "%time grid_search_ridge.fit(X_train,y_train)  \n",
    "ridge=grid_search_ridge.best_estimator_\n",
    "print(ridge)\n",
    "get_error(X_train,y_train,X_test,y_test,ridge, True,False)      "
   ]
  },
  {
   "cell_type": "markdown",
   "metadata": {},
   "source": [
    "#### Lasso Regression"
   ]
  },
  {
   "cell_type": "code",
   "execution_count": 35,
   "metadata": {},
   "outputs": [
    {
     "name": "stdout",
     "output_type": "stream",
     "text": [
      "Wall time: 1.75 s\n",
      "Lasso(alpha=0.0005994842503189409, copy_X=True, fit_intercept=True,\n",
      "   max_iter=1000, normalize=False, positive=False, precompute=False,\n",
      "   random_state=108, selection='cyclic', tol=0.001, warm_start=False)\n",
      "train error  0.06618523843331103\n",
      "test error 0.06729515036204203\n"
     ]
    },
    {
     "data": {
      "text/plain": [
       "[0.06618523843331103, 0.06729515036204203]"
      ]
     },
     "execution_count": 35,
     "metadata": {},
     "output_type": "execute_result"
    }
   ],
   "source": [
    "lasso = Lasso(tol=0.001,max_iter=1000, random_state=108)\n",
    "\n",
    "grid_para = dict(alpha = np.logspace(-5,-3,10))\n",
    "grid_search_lasso = ms.GridSearchCV(lasso,  cv=5, param_grid=grid_para, n_jobs=-1)\n",
    "%time grid_search_lasso.fit(X_train,y_train)  # What to call to trigger the gridSearchCV\n",
    "lasso=grid_search_lasso.best_estimator_\n",
    "print(lasso)\n",
    "get_error(X_train,y_train,X_test,y_test,lasso)  "
   ]
  },
  {
   "cell_type": "code",
   "execution_count": 36,
   "metadata": {
    "scrolled": true
   },
   "outputs": [
    {
     "data": {
      "text/plain": [
       "<matplotlib.axes._subplots.AxesSubplot at 0x27472a5fac8>"
      ]
     },
     "execution_count": 36,
     "metadata": {},
     "output_type": "execute_result"
    },
    {
     "data": {
      "image/png": "[encoded data removed]",
      "text/plain": [
       "<Figure size 720x288 with 1 Axes>"
      ]
     },
     "metadata": {
      "needs_background": "light"
     },
     "output_type": "display_data"
    }
   ],
   "source": [
    "pd.Series(dict(zip(X_train.columns,lasso.coef_))).sort_values(ascending=False)[:25].plot('barh')\n"
   ]
  },
  {
   "cell_type": "markdown",
   "metadata": {},
   "source": [
    "#### Random Forest"
   ]
  },
  {
   "cell_type": "code",
   "execution_count": 37,
   "metadata": {},
   "outputs": [
    {
     "name": "stdout",
     "output_type": "stream",
     "text": [
      "Parameters currently in use:\n",
      "\n",
      "{'bootstrap': False,\n",
      " 'criterion': 'mse',\n",
      " 'max_depth': 18,\n",
      " 'max_features': 17,\n",
      " 'max_leaf_nodes': None,\n",
      " 'min_impurity_decrease': 1e-06,\n",
      " 'min_impurity_split': None,\n",
      " 'min_samples_leaf': 1,\n",
      " 'min_samples_split': 2,\n",
      " 'min_weight_fraction_leaf': 0.0001,\n",
      " 'n_estimators': 188,\n",
      " 'n_jobs': None,\n",
      " 'oob_score': False,\n",
      " 'random_state': 108,\n",
      " 'verbose': 0,\n",
      " 'warm_start': False}\n",
      "train error  0.0002008277997933572\n",
      "test error 0.11198505956320604\n"
     ]
    },
    {
     "data": {
      "text/plain": [
       "[0.0002008277997933572, 0.11198505956320604]"
      ]
     },
     "execution_count": 37,
     "metadata": {},
     "output_type": "execute_result"
    }
   ],
   "source": [
    "\n",
    "rf = RandomForestRegressor(bootstrap=False, criterion='mse', max_depth=18,\n",
    "           max_features=17, max_leaf_nodes=None,\n",
    "           min_impurity_decrease=1e-06, min_impurity_split=None,\n",
    "           min_samples_leaf=1, min_samples_split=2,\n",
    "           min_weight_fraction_leaf=0.0001, n_estimators=188, n_jobs=None,\n",
    "           oob_score=False, random_state=108, verbose=0, warm_start=False)\n",
    "\n",
    "# Look at parameters used by our current forest\n",
    "print('Parameters currently in use:\\n')\n",
    "pprint(rf.get_params())\n",
    "rf.fit(X_train,y_train)\n",
    "get_error(X_train,y_train,X_test,y_test,rf)\n"
   ]
  },
  {
   "cell_type": "code",
   "execution_count": 38,
   "metadata": {
    "scrolled": true
   },
   "outputs": [
    {
     "name": "stdout",
     "output_type": "stream",
     "text": [
      "Wall time: 7.43 s\n",
      "RandomForestRegressor(bootstrap=False, criterion='mse', max_depth=17,\n",
      "           max_features=19, max_leaf_nodes=None,\n",
      "           min_impurity_decrease=1e-06, min_impurity_split=None,\n",
      "           min_samples_leaf=1, min_samples_split=3,\n",
      "           min_weight_fraction_leaf=0.0001, n_estimators=202, n_jobs=None,\n",
      "           oob_score=False, random_state=108, verbose=0, warm_start=False)\n",
      "train error  0.0008914692122922174\n",
      "test error 0.11520292891778783\n"
     ]
    },
    {
     "data": {
      "text/plain": [
       "<matplotlib.axes._subplots.AxesSubplot at 0x27472c99400>"
      ]
     },
     "execution_count": 38,
     "metadata": {},
     "output_type": "execute_result"
    },
    {
     "data": {
      "image/png": "[encoded data removed]",
      "text/plain": [
       "<Figure size 720x288 with 1 Axes>"
      ]
     },
     "metadata": {
      "needs_background": "light"
     },
     "output_type": "display_data"
    }
   ],
   "source": [
    "# use dummy dataframe for tree models\n",
    "\n",
    "# Create the random grid\n",
    "random_grid = {\n",
    "               'max_features': range(15,20),\n",
    "               'max_depth': range(15,20),\n",
    "               'min_samples_split': [2,3],\n",
    "               'min_samples_leaf': [1,2],\n",
    "                'n_estimators': range(200,251,1),\n",
    "              'min_weight_fraction_leaf':[0.0001],\n",
    "              'min_impurity_decrease':[0.000001]\n",
    "}\n",
    "#pprint(random_grid)\n",
    "\n",
    "grid_search_forest = ms.RandomizedSearchCV(rf, random_grid, cv = 5, verbose=0, n_jobs = -1, random_state=108)\n",
    "#grid_search_forest = RandomizedSearchCV(rf, random_grid, cv=5, n_jobs=-1)\n",
    "%time grid_search_forest.fit(X_train, y_train)   # %time     is ipython magic command to measure the execution timebest_net=grid_search_net.best_estimator_\n",
    "\n",
    "rf = grid_search_forest.best_estimator_\n",
    "print(rf)\n",
    "get_error(X_train,y_train,X_test,y_test,rf)  \n",
    "importance_forest=(pd.DataFrame(sorted(zip(X_train.columns, rf.feature_importances_), key=lambda x: x[1], reverse=True)))\n",
    "\n",
    "importance_forest[:25].plot(kind='barh', x=0, y=1)"
   ]
  },
  {
   "cell_type": "markdown",
   "metadata": {},
   "source": [
    "#### Gradient Boosting Machine"
   ]
  },
  {
   "cell_type": "code",
   "execution_count": 39,
   "metadata": {},
   "outputs": [
    {
     "name": "stdout",
     "output_type": "stream",
     "text": [
      "train error  0.006638542323049834\n",
      "test error 0.07656792200115348\n"
     ]
    },
    {
     "data": {
      "text/plain": [
       "[0.006638542323049834, 0.07656792200115348]"
      ]
     },
     "execution_count": 39,
     "metadata": {},
     "output_type": "execute_result"
    }
   ],
   "source": [
    "# gradient boosting on label dataframe\n",
    "gbmr = GradientBoostingRegressor()\n",
    "interval=1000\n",
    "n_estimators=41 * interval\n",
    "gbmr.set_params(learning_rate=0.021544346900318846, loss='ls', max_depth=4,\n",
    "             max_features=3, max_leaf_nodes=None,\n",
    "             min_impurity_decrease=0.0, min_impurity_split=None,\n",
    "             min_samples_leaf=2, min_samples_split=2,\n",
    "             min_weight_fraction_leaf=0.0, n_estimators=4500,\n",
    "             n_iter_no_change=None, presort='auto', random_state=108,\n",
    "             subsample=0.9, tol=0.1, validation_fraction=0.2)\n",
    "gbmr.fit(X_train,y_train)\n",
    "get_error(X_train,y_train,X_test,y_test,gbmr)"
   ]
  },
  {
   "cell_type": "code",
   "execution_count": 45,
   "metadata": {},
   "outputs": [
    {
     "name": "stdout",
     "output_type": "stream",
     "text": [
      "Wall time: 1min 29s\n",
      "GradientBoostingRegressor(alpha=0.9, criterion='friedman_mse', init=None,\n",
      "             learning_rate=0.021544346900318846, loss='ls', max_depth=4,\n",
      "             max_features=3, max_leaf_nodes=None,\n",
      "             min_impurity_decrease=0.0, min_impurity_split=None,\n",
      "             min_samples_leaf=2, min_samples_split=2,\n",
      "             min_weight_fraction_leaf=0.0, n_estimators=4500,\n",
      "             n_iter_no_change=None, presort='auto', random_state=108,\n",
      "             subsample=0.9, tol=0.1, validation_fraction=0.2, verbose=0,\n",
      "             warm_start=False)\n",
      "train error  0.006638542323049834\n",
      "test error 0.07656792200115348\n",
      "[0.006638542323049834, 0.07656792200115348]\n"
     ]
    },
    {
     "data": {
      "text/plain": [
       "<matplotlib.axes._subplots.AxesSubplot at 0x1e69bfaa978>"
      ]
     },
     "execution_count": 45,
     "metadata": {},
     "output_type": "execute_result"
    },
    {
     "data": {
      "image/png": "[encoded data removed]",
      "text/plain": [
       "<Figure size 720x288 with 1 Axes>"
      ]
     },
     "metadata": {
      "needs_background": "light"
     },
     "output_type": "display_data"
    }
   ],
   "source": [
    "param_grid = {'n_estimators': range(4000,5000,500),\n",
    "               'max_features': range(3,5),\n",
    "               'max_depth': range(3,5),\n",
    "               'min_samples_split': [2],\n",
    "               'min_samples_leaf': [2],\n",
    "               'learning_rate': np.logspace(-5,0,10),\n",
    "                'subsample':[0.9]}\n",
    "grid_search_gbmr =ms.GridSearchCV(gbmr, param_grid=param_grid, cv=5 ,return_train_score=True,n_jobs=-1)\n",
    "#print(gbmr.get_params())\n",
    "%time grid_search_gbmr.fit(X_train,y_train)\n",
    "\n",
    "gbmr=grid_search_gbmr.best_estimator_\n",
    "print(gbmr)\n",
    "#print(\"best train error \", 1-r2_score(gbmr.predict(X_train), y_train))\n",
    "#print(\"best test error \", 1-r2_score(gbmr.predict(X_test), y_test))\n",
    "print(get_error(X_train, y_train, X_test, y_test, gbmr))\n",
    "\n",
    "importance_gbmr=pd.DataFrame(sorted(zip(X_train.columns, gbmr.feature_importances_), key=lambda x: x[1], reverse=True))\n",
    "importance_gbmr[:20].plot(kind='barh', x=0, y=1)"
   ]
  },
  {
   "cell_type": "markdown",
   "metadata": {},
   "source": [
    "#### Support Vector Machine"
   ]
  },
  {
   "cell_type": "code",
   "execution_count": 46,
   "metadata": {},
   "outputs": [
    {
     "name": "stdout",
     "output_type": "stream",
     "text": [
      "SVR(C=10000, cache_size=200, coef0=0.0, degree=3, epsilon=0.01, gamma=1e-07,\n",
      "  kernel='rbf', max_iter=-1, shrinking=True, tol=0.001, verbose=False)\n",
      "train error  0.07248734090851716\n",
      "test error 0.0794963159589388\n"
     ]
    },
    {
     "data": {
      "text/plain": [
       "[0.07248734090851716, 0.0794963159589388]"
      ]
     },
     "execution_count": 46,
     "metadata": {},
     "output_type": "execute_result"
    }
   ],
   "source": [
    "svm = SVR(C= 10000, epsilon= .01, gamma=1e-7, degree=3, kernel='rbf')\n",
    "print(svm)\n",
    "svm.fit(X_train, y_train)\n",
    "\n",
    "get_error(X_train,y_train, X_test,y_test,svm, True,False)"
   ]
  },
  {
   "cell_type": "code",
   "execution_count": 47,
   "metadata": {},
   "outputs": [
    {
     "name": "stdout",
     "output_type": "stream",
     "text": [
      "Wall time: 2min 44s\n",
      "SVR(C=23357.21469090121, cache_size=200, coef0=0.0, degree=3, epsilon=0.01,\n",
      "  gamma=1e-07, kernel='rbf', max_iter=-1, shrinking=True, tol=0.001,\n",
      "  verbose=False)\n",
      "train error  0.06429385163769785\n",
      "test error 0.07933741353887269\n",
      "[0.06429385163769785, 0.07933741353887269]\n"
     ]
    }
   ],
   "source": [
    "grid_para_svm = [\n",
    "    {'C': np.logspace(2,5,20),\n",
    "     'gamma': [1e-7],#np.linspace(1e-6,1e-5,5),\n",
    "     'epsilon': [0.01],#np.logspace(-2,0,20),\n",
    "     'degree': [3],\n",
    "     'kernel': ['rbf']}\n",
    "]\n",
    "grid_search_svm = ms.GridSearchCV(svm, param_grid=grid_para_svm, cv=5, return_train_score=True,  n_jobs=-1)\n",
    "%time grid_search_svm.fit(X_train, y_train)\n",
    "\n",
    "svm =grid_search_svm.best_estimator_\n",
    "print(svm)\n",
    "\n",
    "print(get_error(X_train,y_train, X_test, y_test, svm))\n"
   ]
  },
  {
   "cell_type": "markdown",
   "metadata": {},
   "source": [
    "#### Xgboost Regression"
   ]
  },
  {
   "cell_type": "code",
   "execution_count": 48,
   "metadata": {},
   "outputs": [
    {
     "name": "stdout",
     "output_type": "stream",
     "text": [
      "{'base_score': 0.5, 'booster': 'gbtree', 'colsample_bylevel': 1, 'colsample_bynode': 0.7, 'colsample_bytree': 0.4, 'gamma': 0, 'importance_type': 'gain', 'learning_rate': 0.01, 'max_delta_step': 0, 'max_depth': 6, 'min_child_weight': 1.1, 'missing': None, 'n_estimators': 2000, 'n_jobs': -1, 'nthread': -1, 'objective': 'reg:squarederror', 'random_state': 0, 'reg_alpha': 0, 'reg_lambda': 1, 'scale_pos_weight': 1, 'seed': None, 'silent': None, 'subsample': 1, 'verbosity': 1}\n",
      "Wall time: 2.39 s\n",
      "train error  0.015221152029996854\n",
      "test error 0.07990007858907755\n"
     ]
    },
    {
     "data": {
      "text/plain": [
       "[0.015221152029996854, 0.07990007858907755]"
      ]
     },
     "execution_count": 48,
     "metadata": {},
     "output_type": "execute_result"
    }
   ],
   "source": [
    "\n",
    "n_estimators= 50000\n",
    "warnings.filterwarnings('ignore')\n",
    "xgb = xgboost.XGBRegressor(base_score=0.5, booster='gbtree', colsample_bylevel=1,\n",
    "       colsample_bynode=0.7, colsample_bytree=0.4, gamma=0,\n",
    "       importance_type='gain', learning_rate=0.01, max_delta_step=0,\n",
    "       max_depth=6, min_child_weight=1.1, missing=None, n_estimators=2000,\n",
    "       n_jobs=-1, nthread=-1, objective='reg:squarederror', random_state=0,\n",
    "       reg_alpha=0, reg_lambda=1, scale_pos_weight=1, seed=None,\n",
    "       silent=None, subsample=1, verbosity=1)\n",
    "print(xgb.get_params())\n",
    "\n",
    "%time xgb.fit(X_train, y_train, eval_metric='rmse', eval_set=[(X_test, y_test)], early_stopping_rounds=12,verbose=False)\n",
    "get_error(X_train,y_train,X_test,y_test,xgb, True,False)\n"
   ]
  },
  {
   "cell_type": "code",
   "execution_count": 41,
   "metadata": {},
   "outputs": [
    {
     "name": "stdout",
     "output_type": "stream",
     "text": [
      "Wall time: 9min 19s\n",
      "XGBRegressor(base_score=0.5, booster='gbtree', colsample_bylevel=1,\n",
      "       colsample_bynode=0.7, colsample_bytree=0.4, gamma=0,\n",
      "       importance_type='gain', learning_rate=0.01, max_delta_step=0,\n",
      "       max_depth=5, min_child_weight=1.1, missing=None, n_estimators=2000,\n",
      "       n_jobs=-1, nthread=-1, objective='reg:squarederror', random_state=0,\n",
      "       reg_alpha=0, reg_lambda=1, scale_pos_weight=1, seed=None,\n",
      "       silent=None, subsample=1, verbosity=1)\n",
      "train error  0.013459491457766037\n",
      "test error 0.07994500323974307\n"
     ]
    },
    {
     "data": {
      "text/plain": [
       "[0.013459491457766037, 0.07994500323974307]"
      ]
     },
     "execution_count": 41,
     "metadata": {},
     "output_type": "execute_result"
    }
   ],
   "source": [
    "params = {'n_estimators': range(1000,10000,1000), 'max_depth':[5,6,7], 'min_child_weight':[1.1,1.2,1.3] }\n",
    "\n",
    "grid_search_xgb = ms.GridSearchCV(xgb, params, cv=5, return_train_score=True, n_jobs=-1)\n",
    "%time grid_search_xgb.fit(X_train, y_train, eval_metric='rmse', eval_set=[(X_test, y_test)], early_stopping_rounds=11,verbose=False)\n",
    "\n",
    "xgb=grid_search_xgb.best_estimator_\n",
    "print(xgb)\n",
    "\n",
    "get_error(X_train,y_train,X_test,y_test,xgb, True,False)"
   ]
  },
  {
   "cell_type": "markdown",
   "metadata": {},
   "source": [
    "\n",
    "#### Refit with RobustScaler() on SVM, Ridge, Lasso Models"
   ]
  },
  {
   "cell_type": "code",
   "execution_count": 62,
   "metadata": {},
   "outputs": [
    {
     "name": "stdout",
     "output_type": "stream",
     "text": [
      "train error  0.06237691662752021\n",
      "test error 0.0697750895091892\n",
      "train error  0.07016615390846337\n",
      "test error 0.06865007193929684\n",
      "train error  0.0008914692122922174\n",
      "test error 0.11520292891778783\n",
      "train error  0.006638542323049834\n",
      "test error 0.07656792200115348\n",
      "train error  0.07097457853078182\n",
      "test error 0.071703311178413\n",
      "train error  0.015221152029996854\n",
      "test error 0.07990007858907755\n"
     ]
    },
    {
     "data": {
      "text/html": [
       "<div>\n",
       "<style scoped>\n",
       "    .dataframe tbody tr th:only-of-type {\n",
       "        vertical-align: middle;\n",
       "    }\n",
       "\n",
       "    .dataframe tbody tr th {\n",
       "        vertical-align: top;\n",
       "    }\n",
       "\n",
       "    .dataframe thead th {\n",
       "        text-align: right;\n",
       "    }\n",
       "</style>\n",
       "<table border=\"1\" class=\"dataframe\">\n",
       "  <thead>\n",
       "    <tr style=\"text-align: right;\">\n",
       "      <th></th>\n",
       "      <th>Train_err</th>\n",
       "      <th>Test_err</th>\n",
       "    </tr>\n",
       "  </thead>\n",
       "  <tbody>\n",
       "    <tr>\n",
       "      <th>ridge</th>\n",
       "      <td>0.062377</td>\n",
       "      <td>0.069775</td>\n",
       "    </tr>\n",
       "    <tr>\n",
       "      <th>lasso</th>\n",
       "      <td>0.070166</td>\n",
       "      <td>0.068650</td>\n",
       "    </tr>\n",
       "    <tr>\n",
       "      <th>forest</th>\n",
       "      <td>0.000891</td>\n",
       "      <td>0.115203</td>\n",
       "    </tr>\n",
       "    <tr>\n",
       "      <th>gradient boost</th>\n",
       "      <td>0.006639</td>\n",
       "      <td>0.076568</td>\n",
       "    </tr>\n",
       "    <tr>\n",
       "      <th>svm</th>\n",
       "      <td>0.070975</td>\n",
       "      <td>0.071703</td>\n",
       "    </tr>\n",
       "    <tr>\n",
       "      <th>xgboost</th>\n",
       "      <td>0.015221</td>\n",
       "      <td>0.079900</td>\n",
       "    </tr>\n",
       "  </tbody>\n",
       "</table>\n",
       "</div>"
      ],
      "text/plain": [
       "                Train_err  Test_err\n",
       "ridge            0.062377  0.069775\n",
       "lasso            0.070166  0.068650\n",
       "forest           0.000891  0.115203\n",
       "gradient boost   0.006639  0.076568\n",
       "svm              0.070975  0.071703\n",
       "xgboost          0.015221  0.079900"
      ]
     },
     "execution_count": 62,
     "metadata": {},
     "output_type": "execute_result"
    }
   ],
   "source": [
    "svm = make_pipeline(RobustScaler(), SVR(C=23357, cache_size=200, coef0=0.0, degree=3, epsilon=0.01,\n",
    "  gamma=2e-07, kernel='rbf', max_iter=-1, shrinking=True, tol=0.001,\n",
    "  verbose=False))\n",
    "ridge = make_pipeline(RobustScaler(), RidgeCV(alphas = np.linspace(1,20,10)))\n",
    "lasso = make_pipeline(RobustScaler(), LassoCV(alphas = np.logspace(-5,1,10)))\n",
    "\n",
    "\n",
    "models_name = ['ridge', 'lasso', 'forest', 'gradient boost', 'svm', 'xgboost']\n",
    "\n",
    "models = [ridge, lasso, rf, gbmr, svm, xgb]\n",
    "errors = [get_error(X_train, y_train, X_test, y_test, model) for model in models]\n",
    "errors = pd.DataFrame(errors, index=models_name, columns=['Train_err', 'Test_err'])\n",
    "errors"
   ]
  },
  {
   "cell_type": "markdown",
   "metadata": {},
   "source": [
    "#### 5 kfold cross verification"
   ]
  },
  {
   "cell_type": "code",
   "execution_count": 63,
   "metadata": {},
   "outputs": [],
   "source": [
    "X=feature_dummy.iloc[train_index]\n",
    "y=SalePrice[train_index]\n",
    "ms_k5 = ms.KFold(n_splits=5,shuffle=True)"
   ]
  },
  {
   "cell_type": "code",
   "execution_count": 64,
   "metadata": {},
   "outputs": [
    {
     "name": "stdout",
     "output_type": "stream",
     "text": [
      "ridge\n",
      "lasso\n",
      "forest\n",
      "gradient boost\n",
      "svm\n",
      "xgboost\n"
     ]
    }
   ],
   "source": [
    "\n",
    "kscores=[]\n",
    "for i,model in enumerate(models):\n",
    "    print(models_name[i])\n",
    "    kscores.append(ms.cross_val_score(estimator=model, X=X, y=y, cv=ms_k5))"
   ]
  },
  {
   "cell_type": "code",
   "execution_count": 65,
   "metadata": {},
   "outputs": [
    {
     "data": {
      "text/html": [
       "<div>\n",
       "<style scoped>\n",
       "    .dataframe tbody tr th:only-of-type {\n",
       "        vertical-align: middle;\n",
       "    }\n",
       "\n",
       "    .dataframe tbody tr th {\n",
       "        vertical-align: top;\n",
       "    }\n",
       "\n",
       "    .dataframe thead th {\n",
       "        text-align: right;\n",
       "    }\n",
       "</style>\n",
       "<table border=\"1\" class=\"dataframe\">\n",
       "  <thead>\n",
       "    <tr style=\"text-align: right;\">\n",
       "      <th></th>\n",
       "      <th>mean</th>\n",
       "      <th>std</th>\n",
       "    </tr>\n",
       "  </thead>\n",
       "  <tbody>\n",
       "    <tr>\n",
       "      <th>ridge</th>\n",
       "      <td>0.916270</td>\n",
       "      <td>0.011855</td>\n",
       "    </tr>\n",
       "    <tr>\n",
       "      <th>lasso</th>\n",
       "      <td>0.916987</td>\n",
       "      <td>0.010565</td>\n",
       "    </tr>\n",
       "    <tr>\n",
       "      <th>forest</th>\n",
       "      <td>0.884331</td>\n",
       "      <td>0.023753</td>\n",
       "    </tr>\n",
       "    <tr>\n",
       "      <th>gradient boost</th>\n",
       "      <td>0.912561</td>\n",
       "      <td>0.013250</td>\n",
       "    </tr>\n",
       "    <tr>\n",
       "      <th>svm</th>\n",
       "      <td>0.919356</td>\n",
       "      <td>0.010121</td>\n",
       "    </tr>\n",
       "    <tr>\n",
       "      <th>xgboost</th>\n",
       "      <td>0.911198</td>\n",
       "      <td>0.012023</td>\n",
       "    </tr>\n",
       "  </tbody>\n",
       "</table>\n",
       "</div>"
      ],
      "text/plain": [
       "                    mean       std\n",
       "ridge           0.916270  0.011855\n",
       "lasso           0.916987  0.010565\n",
       "forest          0.884331  0.023753\n",
       "gradient boost  0.912561  0.013250\n",
       "svm             0.919356  0.010121\n",
       "xgboost         0.911198  0.012023"
      ]
     },
     "execution_count": 65,
     "metadata": {},
     "output_type": "execute_result"
    }
   ],
   "source": [
    "score_df=pd.DataFrame(kscores,models_name[:6])\n",
    "mean=score_df.apply(np.mean,axis=1)\n",
    "std=score_df.apply(np.std,axis=1)\n",
    "score_df=pd.concat([mean,std],axis=1)\n",
    "score_df.columns=['mean','std']\n",
    "score_df"
   ]
  },
  {
   "cell_type": "code",
   "execution_count": 69,
   "metadata": {},
   "outputs": [
    {
     "data": {
      "text/html": [
       "<div>\n",
       "<style scoped>\n",
       "    .dataframe tbody tr th:only-of-type {\n",
       "        vertical-align: middle;\n",
       "    }\n",
       "\n",
       "    .dataframe tbody tr th {\n",
       "        vertical-align: top;\n",
       "    }\n",
       "\n",
       "    .dataframe thead th {\n",
       "        text-align: right;\n",
       "    }\n",
       "</style>\n",
       "<table border=\"1\" class=\"dataframe\">\n",
       "  <thead>\n",
       "    <tr style=\"text-align: right;\">\n",
       "      <th></th>\n",
       "      <th>mean</th>\n",
       "      <th>std</th>\n",
       "    </tr>\n",
       "  </thead>\n",
       "  <tbody>\n",
       "    <tr>\n",
       "      <th>ridge</th>\n",
       "      <td>0.910454</td>\n",
       "      <td>0.010106</td>\n",
       "    </tr>\n",
       "    <tr>\n",
       "      <th>lasso</th>\n",
       "      <td>0.912335</td>\n",
       "      <td>0.010104</td>\n",
       "    </tr>\n",
       "    <tr>\n",
       "      <th>forest</th>\n",
       "      <td>0.877101</td>\n",
       "      <td>0.010467</td>\n",
       "    </tr>\n",
       "    <tr>\n",
       "      <th>gradient boost</th>\n",
       "      <td>0.909340</td>\n",
       "      <td>0.010968</td>\n",
       "    </tr>\n",
       "    <tr>\n",
       "      <th>svm</th>\n",
       "      <td>0.914170</td>\n",
       "      <td>0.012032</td>\n",
       "    </tr>\n",
       "    <tr>\n",
       "      <th>xgboost</th>\n",
       "      <td>0.908111</td>\n",
       "      <td>0.011921</td>\n",
       "    </tr>\n",
       "  </tbody>\n",
       "</table>\n",
       "</div>"
      ],
      "text/plain": [
       "                    mean       std\n",
       "ridge           0.910454  0.010106\n",
       "lasso           0.912335  0.010104\n",
       "forest          0.877101  0.010467\n",
       "gradient boost  0.909340  0.010968\n",
       "svm             0.914170  0.012032\n",
       "xgboost         0.908111  0.011921"
      ]
     },
     "execution_count": 69,
     "metadata": {},
     "output_type": "execute_result"
    }
   ],
   "source": [
    "score_df"
   ]
  },
  {
   "cell_type": "markdown",
   "metadata": {},
   "source": [
    "### Fit Models"
   ]
  },
  {
   "cell_type": "code",
   "execution_count": 66,
   "metadata": {},
   "outputs": [],
   "source": [
    "for model in models:\n",
    "    model.fit(X,y)\n",
    "rmse = [np.sqrt(np.mean((y-model.predict(X))**2)) for model in models]"
   ]
  },
  {
   "cell_type": "code",
   "execution_count": 67,
   "metadata": {},
   "outputs": [
    {
     "data": {
      "text/plain": [
       "ridge             0.098750\n",
       "lasso             0.097829\n",
       "forest            0.012529\n",
       "gradient boost    0.037702\n",
       "svm               0.104294\n",
       "xgboost           0.050356\n",
       "dtype: float64"
      ]
     },
     "execution_count": 67,
     "metadata": {},
     "output_type": "execute_result"
    }
   ],
   "source": [
    "# model rmse\n",
    "pd.Series(dict(zip(models_name, rmse)))"
   ]
  },
  {
   "cell_type": "markdown",
   "metadata": {},
   "source": [
    "### SalePrice Prediction"
   ]
  },
  {
   "cell_type": "code",
   "execution_count": 99,
   "metadata": {},
   "outputs": [
    {
     "data": {
      "text/plain": [
       "[array([11.70130845, 11.91898142, 12.11382335, ..., 12.06383015,\n",
       "        11.68194257, 12.28904469]),\n",
       " array([11.72456445, 11.91903417, 12.11618453, ..., 12.0583612 ,\n",
       "        11.68732215, 12.30327271]),\n",
       " array([11.73321007, 11.95200047, 12.11831885, ..., 11.91824826,\n",
       "        11.608706  , 12.33452638]),\n",
       " array([11.74733214, 11.97898618, 12.1567005 , ..., 11.9706239 ,\n",
       "        11.64727085, 12.215065  ]),\n",
       " array([11.70915489, 11.95801046, 12.13604758, ..., 12.07008263,\n",
       "        11.74391405, 12.29326393]),\n",
       " array([11.73305 , 11.967366, 12.136603, ..., 11.955497, 11.661455,\n",
       "        12.297268], dtype=float32)]"
      ]
     },
     "execution_count": 99,
     "metadata": {},
     "output_type": "execute_result"
    }
   ],
   "source": [
    "submissions = [x.predict(feature_dummy.tail(test.shape[0])) for x in models]\n",
    "submissions"
   ]
  },
  {
   "cell_type": "code",
   "execution_count": 100,
   "metadata": {},
   "outputs": [
    {
     "data": {
      "text/html": [
       "<div>\n",
       "<style scoped>\n",
       "    .dataframe tbody tr th:only-of-type {\n",
       "        vertical-align: middle;\n",
       "    }\n",
       "\n",
       "    .dataframe tbody tr th {\n",
       "        vertical-align: top;\n",
       "    }\n",
       "\n",
       "    .dataframe thead th {\n",
       "        text-align: right;\n",
       "    }\n",
       "</style>\n",
       "<table border=\"1\" class=\"dataframe\">\n",
       "  <thead>\n",
       "    <tr style=\"text-align: right;\">\n",
       "      <th></th>\n",
       "      <th>ridge</th>\n",
       "      <th>lasso</th>\n",
       "      <th>forest</th>\n",
       "      <th>gradient boost</th>\n",
       "      <th>svm</th>\n",
       "      <th>xgboost</th>\n",
       "    </tr>\n",
       "  </thead>\n",
       "  <tbody>\n",
       "    <tr>\n",
       "      <th>0</th>\n",
       "      <td>120729.6</td>\n",
       "      <td>123570.2</td>\n",
       "      <td>124643.1</td>\n",
       "      <td>126415.8</td>\n",
       "      <td>121680.6</td>\n",
       "      <td>124623.2</td>\n",
       "    </tr>\n",
       "    <tr>\n",
       "      <th>1</th>\n",
       "      <td>150088.7</td>\n",
       "      <td>150096.6</td>\n",
       "      <td>155127.2</td>\n",
       "      <td>159370.4</td>\n",
       "      <td>156062.3</td>\n",
       "      <td>157529.2</td>\n",
       "    </tr>\n",
       "    <tr>\n",
       "      <th>2</th>\n",
       "      <td>182375.6</td>\n",
       "      <td>182806.7</td>\n",
       "      <td>183197.3</td>\n",
       "      <td>190365.4</td>\n",
       "      <td>186474.1</td>\n",
       "      <td>186577.8</td>\n",
       "    </tr>\n",
       "    <tr>\n",
       "      <th>3</th>\n",
       "      <td>190911.7</td>\n",
       "      <td>192372.7</td>\n",
       "      <td>183701.9</td>\n",
       "      <td>199120.4</td>\n",
       "      <td>191706.2</td>\n",
       "      <td>192888.5</td>\n",
       "    </tr>\n",
       "    <tr>\n",
       "      <th>4</th>\n",
       "      <td>199851.8</td>\n",
       "      <td>201772.1</td>\n",
       "      <td>190354.3</td>\n",
       "      <td>188882.1</td>\n",
       "      <td>194908.4</td>\n",
       "      <td>190037.7</td>\n",
       "    </tr>\n",
       "  </tbody>\n",
       "</table>\n",
       "</div>"
      ],
      "text/plain": [
       "      ridge     lasso    forest  gradient boost       svm   xgboost\n",
       "0  120729.6  123570.2  124643.1        126415.8  121680.6  124623.2\n",
       "1  150088.7  150096.6  155127.2        159370.4  156062.3  157529.2\n",
       "2  182375.6  182806.7  183197.3        190365.4  186474.1  186577.8\n",
       "3  190911.7  192372.7  183701.9        199120.4  191706.2  192888.5\n",
       "4  199851.8  201772.1  190354.3        188882.1  194908.4  190037.7"
      ]
     },
     "execution_count": 100,
     "metadata": {},
     "output_type": "execute_result"
    }
   ],
   "source": [
    "submissions = pd.DataFrame(submissions, index=models_name).T.apply(np.exp).apply(lambda x: np.round(x,1))\n",
    "submissions.head()"
   ]
  },
  {
   "cell_type": "markdown",
   "metadata": {},
   "source": [
    "### Blending Models"
   ]
  },
  {
   "cell_type": "code",
   "execution_count": 101,
   "metadata": {},
   "outputs": [
    {
     "data": {
      "text/html": [
       "<div>\n",
       "<style scoped>\n",
       "    .dataframe tbody tr th:only-of-type {\n",
       "        vertical-align: middle;\n",
       "    }\n",
       "\n",
       "    .dataframe tbody tr th {\n",
       "        vertical-align: top;\n",
       "    }\n",
       "\n",
       "    .dataframe thead th {\n",
       "        text-align: right;\n",
       "    }\n",
       "</style>\n",
       "<table border=\"1\" class=\"dataframe\">\n",
       "  <thead>\n",
       "    <tr style=\"text-align: right;\">\n",
       "      <th></th>\n",
       "      <th>ridge</th>\n",
       "      <th>lasso</th>\n",
       "      <th>forest</th>\n",
       "      <th>gradient boost</th>\n",
       "      <th>svm</th>\n",
       "      <th>xgboost</th>\n",
       "      <th>blend</th>\n",
       "      <th>Id</th>\n",
       "    </tr>\n",
       "  </thead>\n",
       "  <tbody>\n",
       "    <tr>\n",
       "      <th>0</th>\n",
       "      <td>120729.6</td>\n",
       "      <td>123570.2</td>\n",
       "      <td>124643.1</td>\n",
       "      <td>126415.8</td>\n",
       "      <td>121680.6</td>\n",
       "      <td>124623.2</td>\n",
       "      <td>122447.3</td>\n",
       "      <td>1461</td>\n",
       "    </tr>\n",
       "    <tr>\n",
       "      <th>1</th>\n",
       "      <td>150088.7</td>\n",
       "      <td>150096.6</td>\n",
       "      <td>155127.2</td>\n",
       "      <td>159370.4</td>\n",
       "      <td>156062.3</td>\n",
       "      <td>157529.2</td>\n",
       "      <td>153269.5</td>\n",
       "      <td>1462</td>\n",
       "    </tr>\n",
       "    <tr>\n",
       "      <th>2</th>\n",
       "      <td>182375.6</td>\n",
       "      <td>182806.7</td>\n",
       "      <td>183197.3</td>\n",
       "      <td>190365.4</td>\n",
       "      <td>186474.1</td>\n",
       "      <td>186577.8</td>\n",
       "      <td>184568.5</td>\n",
       "      <td>1463</td>\n",
       "    </tr>\n",
       "    <tr>\n",
       "      <th>3</th>\n",
       "      <td>190911.7</td>\n",
       "      <td>192372.7</td>\n",
       "      <td>183701.9</td>\n",
       "      <td>199120.4</td>\n",
       "      <td>191706.2</td>\n",
       "      <td>192888.5</td>\n",
       "      <td>191703.8</td>\n",
       "      <td>1464</td>\n",
       "    </tr>\n",
       "    <tr>\n",
       "      <th>4</th>\n",
       "      <td>199851.8</td>\n",
       "      <td>201772.1</td>\n",
       "      <td>190354.3</td>\n",
       "      <td>188882.1</td>\n",
       "      <td>194908.4</td>\n",
       "      <td>190037.7</td>\n",
       "      <td>197087.6</td>\n",
       "      <td>1465</td>\n",
       "    </tr>\n",
       "  </tbody>\n",
       "</table>\n",
       "</div>"
      ],
      "text/plain": [
       "      ridge     lasso    forest  gradient boost       svm   xgboost     blend  \\\n",
       "0  120729.6  123570.2  124643.1        126415.8  121680.6  124623.2  122447.3   \n",
       "1  150088.7  150096.6  155127.2        159370.4  156062.3  157529.2  153269.5   \n",
       "2  182375.6  182806.7  183197.3        190365.4  186474.1  186577.8  184568.5   \n",
       "3  190911.7  192372.7  183701.9        199120.4  191706.2  192888.5  191703.8   \n",
       "4  199851.8  201772.1  190354.3        188882.1  194908.4  190037.7  197087.6   \n",
       "\n",
       "     Id  \n",
       "0  1461  \n",
       "1  1462  \n",
       "2  1463  \n",
       "3  1464  \n",
       "4  1465  "
      ]
     },
     "execution_count": 101,
     "metadata": {},
     "output_type": "execute_result"
    }
   ],
   "source": [
    "submissions['blend'] = submissions.apply(lambda x: x['ridge']*.25 + x['svm']*.35 + \\\n",
    "                                         x['lasso']*.25+(x['forest']+x['gradient boost']+x['xgboost'])*.05 , axis=1)\\\n",
    "                        .apply(lambda x: np.round(x,1))\n",
    "submissions['Id']=test['Id']\n",
    "submissions.head()"
   ]
  },
  {
   "cell_type": "code",
   "execution_count": 102,
   "metadata": {},
   "outputs": [
    {
     "data": {
      "text/plain": [
       "<matplotlib.axes._subplots.AxesSubplot at 0x27411b3c320>"
      ]
     },
     "execution_count": 102,
     "metadata": {},
     "output_type": "execute_result"
    },
    {
     "data": {
      "image/png": "[encoded data removed]",
      "text/plain": [
       "<Figure size 720x288 with 1 Axes>"
      ]
     },
     "metadata": {
      "needs_background": "light"
     },
     "output_type": "display_data"
    }
   ],
   "source": [
    "submissions.blend.hist(bins=50)"
   ]
  },
  {
   "cell_type": "code",
   "execution_count": 93,
   "metadata": {},
   "outputs": [
    {
     "data": {
      "text/plain": [
       "[59614.0576, 430310.3840000015]"
      ]
     },
     "execution_count": 93,
     "metadata": {},
     "output_type": "execute_result"
    }
   ],
   "source": [
    "quan = submissions.blend.quantile([.0045, .99]).tolist()\n",
    "quan"
   ]
  },
  {
   "cell_type": "code",
   "execution_count": 94,
   "metadata": {},
   "outputs": [
    {
     "data": {
      "text/html": [
       "<div>\n",
       "<style scoped>\n",
       "    .dataframe tbody tr th:only-of-type {\n",
       "        vertical-align: middle;\n",
       "    }\n",
       "\n",
       "    .dataframe tbody tr th {\n",
       "        vertical-align: top;\n",
       "    }\n",
       "\n",
       "    .dataframe thead th {\n",
       "        text-align: right;\n",
       "    }\n",
       "</style>\n",
       "<table border=\"1\" class=\"dataframe\">\n",
       "  <thead>\n",
       "    <tr style=\"text-align: right;\">\n",
       "      <th></th>\n",
       "      <th>ridge</th>\n",
       "      <th>lasso</th>\n",
       "      <th>forest</th>\n",
       "      <th>gradient boost</th>\n",
       "      <th>svm</th>\n",
       "      <th>xgboost</th>\n",
       "      <th>blend</th>\n",
       "    </tr>\n",
       "  </thead>\n",
       "  <tbody>\n",
       "    <tr>\n",
       "      <th>0</th>\n",
       "      <td>49339.5008</td>\n",
       "      <td>44655.7998</td>\n",
       "      <td>61260.7402</td>\n",
       "      <td>49529.4510</td>\n",
       "      <td>54774.0224</td>\n",
       "      <td>48685.124</td>\n",
       "      <td>51612.5812</td>\n",
       "    </tr>\n",
       "    <tr>\n",
       "      <th>1</th>\n",
       "      <td>534213.4710</td>\n",
       "      <td>536646.2832</td>\n",
       "      <td>451542.6636</td>\n",
       "      <td>518447.2016</td>\n",
       "      <td>520994.3340</td>\n",
       "      <td>488382.294</td>\n",
       "      <td>517185.3832</td>\n",
       "    </tr>\n",
       "  </tbody>\n",
       "</table>\n",
       "</div>"
      ],
      "text/plain": [
       "         ridge        lasso       forest  gradient boost          svm  \\\n",
       "0   49339.5008   44655.7998   61260.7402      49529.4510   54774.0224   \n",
       "1  534213.4710  536646.2832  451542.6636     518447.2016  520994.3340   \n",
       "\n",
       "      xgboost        blend  \n",
       "0   48685.124   51612.5812  \n",
       "1  488382.294  517185.3832  "
      ]
     },
     "execution_count": 94,
     "metadata": {},
     "output_type": "execute_result"
    }
   ],
   "source": [
    "quan=pd.DataFrame()\n",
    "for i in submissions.columns[:-1]:\n",
    "    quan[i] = submissions[i].quantile([.001, .999]).tolist()\n",
    "quan"
   ]
  },
  {
   "cell_type": "code",
   "execution_count": 95,
   "metadata": {},
   "outputs": [],
   "source": [
    "for i in submissions.columns[:-1]:\n",
    "    submissions[i]=submissions[i].apply(lambda x: x*.77 if x>quan[i].iloc[1] else x)\\\n",
    "        .apply(lambda x: x*1.1 if x<quan[i].iloc[0] else x)\n"
   ]
  },
  {
   "cell_type": "code",
   "execution_count": 96,
   "metadata": {},
   "outputs": [
    {
     "data": {
      "text/plain": [
       "<matplotlib.axes._subplots.AxesSubplot at 0x27409a2b7f0>"
      ]
     },
     "execution_count": 96,
     "metadata": {},
     "output_type": "execute_result"
    },
    {
     "data": {
      "image/png": "[encoded data removed]",
      "text/plain": [
       "<Figure size 720x288 with 1 Axes>"
      ]
     },
     "metadata": {
      "needs_background": "light"
     },
     "output_type": "display_data"
    }
   ],
   "source": [
    "submissions.blend.hist(bins=50)"
   ]
  },
  {
   "cell_type": "code",
   "execution_count": 97,
   "metadata": {},
   "outputs": [
    {
     "data": {
      "text/html": [
       "<div>\n",
       "<style scoped>\n",
       "    .dataframe tbody tr th:only-of-type {\n",
       "        vertical-align: middle;\n",
       "    }\n",
       "\n",
       "    .dataframe tbody tr th {\n",
       "        vertical-align: top;\n",
       "    }\n",
       "\n",
       "    .dataframe thead th {\n",
       "        text-align: right;\n",
       "    }\n",
       "</style>\n",
       "<table border=\"1\" class=\"dataframe\">\n",
       "  <thead>\n",
       "    <tr style=\"text-align: right;\">\n",
       "      <th></th>\n",
       "      <th>ridge</th>\n",
       "      <th>lasso</th>\n",
       "      <th>forest</th>\n",
       "      <th>gradient boost</th>\n",
       "      <th>svm</th>\n",
       "      <th>xgboost</th>\n",
       "      <th>blend</th>\n",
       "      <th>Id</th>\n",
       "    </tr>\n",
       "  </thead>\n",
       "  <tbody>\n",
       "    <tr>\n",
       "      <th>0</th>\n",
       "      <td>120729.6</td>\n",
       "      <td>123570.2</td>\n",
       "      <td>124643.1</td>\n",
       "      <td>126415.8</td>\n",
       "      <td>121680.6</td>\n",
       "      <td>124623.2</td>\n",
       "      <td>122447.3</td>\n",
       "      <td>1461</td>\n",
       "    </tr>\n",
       "    <tr>\n",
       "      <th>1</th>\n",
       "      <td>150088.7</td>\n",
       "      <td>150096.6</td>\n",
       "      <td>155127.2</td>\n",
       "      <td>159370.4</td>\n",
       "      <td>156062.3</td>\n",
       "      <td>157529.2</td>\n",
       "      <td>153269.5</td>\n",
       "      <td>1462</td>\n",
       "    </tr>\n",
       "    <tr>\n",
       "      <th>2</th>\n",
       "      <td>182375.6</td>\n",
       "      <td>182806.7</td>\n",
       "      <td>183197.3</td>\n",
       "      <td>190365.4</td>\n",
       "      <td>186474.1</td>\n",
       "      <td>186577.8</td>\n",
       "      <td>184568.5</td>\n",
       "      <td>1463</td>\n",
       "    </tr>\n",
       "    <tr>\n",
       "      <th>3</th>\n",
       "      <td>190911.7</td>\n",
       "      <td>192372.7</td>\n",
       "      <td>183701.9</td>\n",
       "      <td>199120.4</td>\n",
       "      <td>191706.2</td>\n",
       "      <td>192888.5</td>\n",
       "      <td>191703.8</td>\n",
       "      <td>1464</td>\n",
       "    </tr>\n",
       "    <tr>\n",
       "      <th>4</th>\n",
       "      <td>199851.8</td>\n",
       "      <td>201772.1</td>\n",
       "      <td>190354.3</td>\n",
       "      <td>188882.1</td>\n",
       "      <td>194908.4</td>\n",
       "      <td>190037.7</td>\n",
       "      <td>197087.6</td>\n",
       "      <td>1465</td>\n",
       "    </tr>\n",
       "  </tbody>\n",
       "</table>\n",
       "</div>"
      ],
      "text/plain": [
       "      ridge     lasso    forest  gradient boost       svm   xgboost     blend  \\\n",
       "0  120729.6  123570.2  124643.1        126415.8  121680.6  124623.2  122447.3   \n",
       "1  150088.7  150096.6  155127.2        159370.4  156062.3  157529.2  153269.5   \n",
       "2  182375.6  182806.7  183197.3        190365.4  186474.1  186577.8  184568.5   \n",
       "3  190911.7  192372.7  183701.9        199120.4  191706.2  192888.5  191703.8   \n",
       "4  199851.8  201772.1  190354.3        188882.1  194908.4  190037.7  197087.6   \n",
       "\n",
       "     Id  \n",
       "0  1461  \n",
       "1  1462  \n",
       "2  1463  \n",
       "3  1464  \n",
       "4  1465  "
      ]
     },
     "execution_count": 97,
     "metadata": {},
     "output_type": "execute_result"
    }
   ],
   "source": [
    "submissions.head()"
   ]
  },
  {
   "cell_type": "code",
   "execution_count": 103,
   "metadata": {},
   "outputs": [],
   "source": [
    "for name in submissions.columns:\n",
    "    data=submissions[['Id', name]]\n",
    "    data.columns=['Id','SalePrice']\n",
    "    data.to_csv(name+\"_py7.csv\", index=False)\n"
   ]
  },
  {
   "cell_type": "markdown",
   "metadata": {},
   "source": [
    "### Kaggle Score vs Models"
   ]
  },
  {
   "cell_type": "code",
   "execution_count": 200,
   "metadata": {},
   "outputs": [
    {
     "data": {
      "text/plain": [
       "ridge             0.11884\n",
       "lasso             0.12067\n",
       "forest            0.12604\n",
       "gradient boost    0.12746\n",
       "svm               0.11952\n",
       "xgboost           0.12652\n",
       "blend             0.11809\n",
       "dtype: float64"
      ]
     },
     "execution_count": 200,
     "metadata": {},
     "output_type": "execute_result"
    }
   ],
   "source": [
    "kaggle_score=[.11884, .12067, .12604, .12746, .11849, .12652, .11781]\n",
    "pd.Series(dict(zip(models_name+['blend'], kaggle_score)))"
   ]
  },
  {
   "cell_type": "code",
   "execution_count": null,
   "metadata": {},
   "outputs": [],
   "source": [
    "kaggle_score={'ridge':, 'lasso':, 'forest':, 'gradient boost':, 'svm':, 'xgboost':}"
   ]
  }
 ],
 "metadata": {
  "kernelspec": {
   "display_name": "Python 3",
   "language": "python",
   "name": "python3"
  },
  "language_info": {
   "codemirror_mode": {
    "name": "ipython",
    "version": 3
   },
   "file_extension": ".py",
   "mimetype": "text/x-python",
   "name": "python",
   "nbconvert_exporter": "python",
   "pygments_lexer": "ipython3",
   "version": "3.7.1"
  }
 },
 "nbformat": 4,
 "nbformat_minor": 2
}
