{
 "cells": [
  {
   "cell_type": "markdown",
   "metadata": {},
   "source": [
    "### Load Modules"
   ]
  },
  {
   "cell_type": "code",
   "execution_count": 1,
   "metadata": {},
   "outputs": [],
   "source": [
    "# import ML models\n",
    "import numpy as np\n",
    "import pandas as pd\n",
    "from sklearn.linear_model import Ridge, Lasso, ElasticNet, LinearRegression, RidgeCV, LassoCV\n",
    "from scipy.special import boxcox1p\n",
    "from scipy.stats import boxcox_normmax\n",
    "\n",
    "%matplotlib inline\n",
    "import matplotlib.pyplot as plt\n",
    "from sklearn.metrics import r2_score, mean_squared_error\n",
    "import seaborn as sns\n",
    "\n",
    "import os\n",
    "from scipy.stats import skew, probplot\n",
    "import sklearn.model_selection as ms\n",
    "from sklearn.ensemble import RandomForestRegressor\n",
    "from pprint import pprint\n",
    "from sklearn.ensemble import GradientBoostingRegressor\n",
    "from sklearn.svm import SVR\n",
    "import xgboost\n",
    "import warnings"
   ]
  },
  {
   "cell_type": "markdown",
   "metadata": {},
   "source": [
    "### Load Data"
   ]
  },
  {
   "cell_type": "code",
   "execution_count": 2,
   "metadata": {},
   "outputs": [],
   "source": [
    "train = pd.read_csv(\"./train.csv\")\n",
    "test=pd.read_csv(\"./test.csv\")"
   ]
  },
  {
   "cell_type": "code",
   "execution_count": 3,
   "metadata": {},
   "outputs": [
    {
     "name": "stdout",
     "output_type": "stream",
     "text": [
      "(1460, 81)\n",
      "(1459, 80)\n"
     ]
    }
   ],
   "source": [
    "print(train.shape)\n",
    "print(test.shape)\n"
   ]
  },
  {
   "cell_type": "markdown",
   "metadata": {},
   "source": [
    "### Experiment Data Analysis"
   ]
  },
  {
   "cell_type": "code",
   "execution_count": 4,
   "metadata": {
    "scrolled": false
   },
   "outputs": [
    {
     "name": "stdout",
     "output_type": "stream",
     "text": [
      "Index(['Id', 'MSSubClass', 'MSZoning', 'LotFrontage', 'LotArea', 'Street',\n",
      "       'Alley', 'LotShape', 'LandContour', 'Utilities', 'LotConfig',\n",
      "       'LandSlope', 'Neighborhood', 'Condition1', 'Condition2', 'BldgType',\n",
      "       'HouseStyle', 'OverallQual', 'OverallCond', 'YearBuilt', 'YearRemodAdd',\n",
      "       'RoofStyle', 'RoofMatl', 'Exterior1st', 'Exterior2nd', 'MasVnrType',\n",
      "       'MasVnrArea', 'ExterQual', 'ExterCond', 'Foundation', 'BsmtQual',\n",
      "       'BsmtCond', 'BsmtExposure', 'BsmtFinType1', 'BsmtFinSF1',\n",
      "       'BsmtFinType2', 'BsmtFinSF2', 'BsmtUnfSF', 'TotalBsmtSF', 'Heating',\n",
      "       'HeatingQC', 'CentralAir', 'Electrical', '1stFlrSF', '2ndFlrSF',\n",
      "       'LowQualFinSF', 'GrLivArea', 'BsmtFullBath', 'BsmtHalfBath', 'FullBath',\n",
      "       'HalfBath', 'BedroomAbvGr', 'KitchenAbvGr', 'KitchenQual',\n",
      "       'TotRmsAbvGrd', 'Functional', 'Fireplaces', 'FireplaceQu', 'GarageType',\n",
      "       'GarageYrBlt', 'GarageFinish', 'GarageCars', 'GarageArea', 'GarageQual',\n",
      "       'GarageCond', 'PavedDrive', 'WoodDeckSF', 'OpenPorchSF',\n",
      "       'EnclosedPorch', '3SsnPorch', 'ScreenPorch', 'PoolArea', 'PoolQC',\n",
      "       'Fence', 'MiscFeature', 'MiscVal', 'MoSold', 'YrSold', 'SaleType',\n",
      "       'SaleCondition', 'SalePrice'],\n",
      "      dtype='object')\n"
     ]
    }
   ],
   "source": [
    "print(train.columns)"
   ]
  },
  {
   "cell_type": "code",
   "execution_count": 5,
   "metadata": {},
   "outputs": [],
   "source": [
    "pd.set_option('display.max_columns', 80)\n",
    "pd.set_option('display.max_rows', 100)\n",
    "plt.rcParams['figure.figsize']= [8.0, 4.0]\n",
    "#df.head(5)\n"
   ]
  },
  {
   "cell_type": "code",
   "execution_count": 3,
   "metadata": {},
   "outputs": [
    {
     "name": "stdout",
     "output_type": "stream",
     "text": [
      "categorical features:\n",
      "['Alley', 'BldgType', 'BsmtCond', 'BsmtExposure', 'BsmtFinType1', 'BsmtFinType2', 'BsmtQual', 'CentralAir', 'Condition1', 'Condition2', 'Electrical', 'ExterCond', 'ExterQual', 'Exterior1st', 'Exterior2nd', 'Fence', 'FireplaceQu', 'Foundation', 'Functional', 'GarageCond', 'GarageFinish', 'GarageQual', 'GarageType', 'Heating', 'HeatingQC', 'HouseStyle', 'KitchenQual', 'LandContour', 'LandSlope', 'LotConfig', 'LotShape', 'MSZoning', 'MasVnrType', 'MiscFeature', 'Neighborhood', 'PavedDrive', 'PoolQC', 'RoofMatl', 'RoofStyle', 'SaleCondition', 'SaleType', 'Street', 'Utilities']\n",
      "43\n",
      "\n",
      "numerical features:\n",
      "['1stFlrSF', '2ndFlrSF', '3SsnPorch', 'BedroomAbvGr', 'BsmtFinSF1', 'BsmtFinSF2', 'BsmtFullBath', 'BsmtHalfBath', 'BsmtUnfSF', 'EnclosedPorch', 'Fireplaces', 'FullBath', 'GarageArea', 'GarageCars', 'GarageYrBlt', 'GrLivArea', 'HalfBath', 'Id', 'KitchenAbvGr', 'LotArea', 'LotFrontage', 'LowQualFinSF', 'MSSubClass', 'MasVnrArea', 'MiscVal', 'MoSold', 'OpenPorchSF', 'OverallCond', 'OverallQual', 'PoolArea', 'ScreenPorch', 'TotRmsAbvGrd', 'TotalBsmtSF', 'WoodDeckSF', 'YearBuilt', 'YearRemodAdd', 'YrSold']\n",
      "37\n"
     ]
    }
   ],
   "source": [
    "# categorical features\n",
    "categorical_feat1 = train.columns[train.dtypes=='object'].tolist()\n",
    "\n",
    "# numerical features\n",
    "numeric_feat1 = train.columns[(train.dtypes=='int64')|(train.dtypes=='float64')].drop('SalePrice').tolist()\n",
    "\n",
    "print('categorical features:\\n{}\\n{}'.format(sorted(categorical_feat1), len(categorical_feat1)))\n",
    "print('\\nnumerical features:\\n{}\\n{}'.format(sorted(numeric_feat1), len(numeric_feat1)))"
   ]
  },
  {
   "cell_type": "code",
   "execution_count": 7,
   "metadata": {},
   "outputs": [],
   "source": [
    "def check_missingness(df):\n",
    "    missing_features = df.columns[df.isna().any()]\n",
    "\n",
    "    # how bad is the missing ?\n",
    "    missing = {}\n",
    "    for i in missing_features:\n",
    "        missing[i]= df[i].isna().sum()\n",
    "    missing = pd.Series(missing).sort_values(ascending=False)\n",
    "    return missing"
   ]
  },
  {
   "cell_type": "code",
   "execution_count": 8,
   "metadata": {},
   "outputs": [
    {
     "data": {
      "image/png": "[encoded data removed]",
      "text/plain": [
       "<Figure size 576x288 with 1 Axes>"
      ]
     },
     "metadata": {
      "needs_background": "light"
     },
     "output_type": "display_data"
    }
   ],
   "source": [
    "check_missingness(train)[:20].plot(kind='bar')\n",
    "plt.title('Missing Features in Train Set')\n",
    "plt.savefig('train_missing.png',bbox_inches='tight')\n"
   ]
  },
  {
   "cell_type": "code",
   "execution_count": 9,
   "metadata": {},
   "outputs": [
    {
     "data": {
      "image/png": "[encoded data removed]",
      "text/plain": [
       "<Figure size 576x288 with 1 Axes>"
      ]
     },
     "metadata": {
      "needs_background": "light"
     },
     "output_type": "display_data"
    }
   ],
   "source": [
    "check_missingness(test)[:20].plot(kind='bar')\n",
    "plt.title('Missing Features in Test Set')\n",
    "\n",
    "plt.savefig('test_missing.png',bbox_inches='tight')"
   ]
  },
  {
   "cell_type": "code",
   "execution_count": 10,
   "metadata": {},
   "outputs": [
    {
     "data": {
      "image/png": "[encoded data removed]",
      "text/plain": [
       "<Figure size 360x360 with 1 Axes>"
      ]
     },
     "metadata": {
      "needs_background": "light"
     },
     "output_type": "display_data"
    }
   ],
   "source": [
    "sns.lmplot(x='GrLivArea', y= 'SalePrice', data=train)\n",
    "plt.savefig('saleprice_grlivarea.png',bbox_inches='tight')\n"
   ]
  },
  {
   "cell_type": "code",
   "execution_count": 11,
   "metadata": {},
   "outputs": [
    {
     "data": {
      "image/png": "[encoded data removed]",
      "text/plain": [
       "<Figure size 720x288 with 1 Axes>"
      ]
     },
     "metadata": {
      "needs_background": "light"
     },
     "output_type": "display_data"
    }
   ],
   "source": [
    "plt.rcParams['figure.figsize']= [10.0, 4.0]\n",
    "sns.barplot(train.OverallQual, train.SalePrice)\n",
    "plt.savefig('overallqual.png',bbox_inches='tight')"
   ]
  },
  {
   "cell_type": "code",
   "execution_count": 12,
   "metadata": {},
   "outputs": [
    {
     "data": {
      "image/png": "[encoded data removed]",
      "text/plain": [
       "<Figure size 720x288 with 1 Axes>"
      ]
     },
     "metadata": {
      "needs_background": "light"
     },
     "output_type": "display_data"
    }
   ],
   "source": [
    "train.SalePrice.hist(bins=50)\n",
    "plt.savefig('saleprice.png',bbox_inches='tight')"
   ]
  },
  {
   "cell_type": "code",
   "execution_count": 13,
   "metadata": {
    "scrolled": true
   },
   "outputs": [
    {
     "data": {
      "image/png": "[encoded data removed]",
      "text/plain": [
       "<Figure size 720x720 with 2 Axes>"
      ]
     },
     "metadata": {
      "needs_background": "light"
     },
     "output_type": "display_data"
    }
   ],
   "source": [
    "plt.rcParams['figure.figsize']= [10.0, 10.0]\n",
    "corr=train.corr()\n",
    "sns.heatmap(train[corr[corr['SalePrice'].abs()>0.5].index].corr(),annot=True,cmap=\"RdYlGn\")\n",
    "plt.savefig('heatmap.png',bbox_inches='tight')\n"
   ]
  },
  {
   "cell_type": "markdown",
   "metadata": {},
   "source": [
    "### Data Processing\n",
    "\n",
    "#### missing garage data are not at random\n",
    "Peeking at the missing entries for garage related data, they are not at random, it is reasonable to them filled with \"None\" for categorical or 0 for numerical."
   ]
  },
  {
   "cell_type": "code",
   "execution_count": 4,
   "metadata": {},
   "outputs": [],
   "source": [
    "def process_missing(df):\n",
    "   \n",
    "    # fill LotFrontage missings with median value in the same neighborhood\n",
    "    df['LotFrontage'] = df[['Neighborhood','LotFrontage']].groupby('Neighborhood').transform(lambda x: x.fillna(x.median()))\n",
    "\n",
    "    # impute MSZoning missings as the most frequent value in the same MSSubClass\n",
    "    df['MSZoning'] = df[['MSSubClass', 'MSZoning']].groupby('MSSubClass').transform(lambda x: x.fillna(x.mode()[0]))\n",
    "\n",
    "    df['Utilities'] =df['Utilities'].fillna(df['Utilities'].mode()[0])\n",
    "\n",
    "    df['Exterior1st'] = df['Exterior1st'].fillna('Wd Sdng')\n",
    "    df['Exterior2nd'] = df['Exterior2nd'].fillna('Wd Sdng')\n",
    "\n",
    "    df['Electrical']=df.groupby('Neighborhood')['Electrical'].transform(lambda x: x.fillna(x.mode()[0]))\n",
    "\n",
    "    df['Functional'] = df['Functional'].fillna(df['Functional'].mode()[0])\n",
    "    df['KitchenQual'] = df.groupby('Neighborhood')['KitchenQual'].transform(lambda x: x.mode()[0])\n",
    "    df['SaleType'] = df['SaleType'].fillna(df['SaleType'].mode()[0])\n",
    "    \n",
    "    df[numeric_feat1] = df[numeric_feat1].fillna(0)\n",
    "    df[categorical_feat1] = df[categorical_feat1].fillna('None')\n",
    "\n",
    "    #print(df.head())\n",
    "    return df"
   ]
  },
  {
   "cell_type": "code",
   "execution_count": 5,
   "metadata": {},
   "outputs": [],
   "source": [
    "all_data = pd.concat([train.copy().drop(columns=['SalePrice']), test.copy()], axis=0)"
   ]
  },
  {
   "cell_type": "code",
   "execution_count": 6,
   "metadata": {},
   "outputs": [],
   "source": [
    "all_data = process_missing(all_data)"
   ]
  },
  {
   "cell_type": "code",
   "execution_count": 7,
   "metadata": {},
   "outputs": [
    {
     "data": {
      "text/plain": [
       "0"
      ]
     },
     "execution_count": 7,
     "metadata": {},
     "output_type": "execute_result"
    }
   ],
   "source": [
    "all_data.isnull().any().sum()\n",
    "\n",
    "# checking if there is any more missing entries"
   ]
  },
  {
   "cell_type": "markdown",
   "metadata": {},
   "source": [
    "### Feature Engineering"
   ]
  },
  {
   "cell_type": "code",
   "execution_count": 68,
   "metadata": {},
   "outputs": [],
   "source": [
    "def Feat_engineering1(data):\n",
    "    df = data.copy()\n",
    "    # drop 'Id', 'Street', 'Utilities','PoolQC'\n",
    "    to_remove=set(['Id', 'Street', 'Utilities','PoolQC', 'PoolArea', 'HalfBath', 'BsmtHalfBath', 'FullBath', 'BsmtFullBath',\\\n",
    "                 'OpenPorchSF', 'EnclosedPorch', '3SsnPorch', 'ScreenPorch', 'WoodDeckSF','TotalBsmtSF', '1stFlrSF',\\\n",
    "                  '2ndFlrSF', 'BsmtFinSF1', 'BsmtFinSF2', '1stFlrSF', '2ndFlrSF', 'YearBuilt', 'YearRemodAdd'])\n",
    "    # convert PoolArea to binary\n",
    "    df['HasPool'] = df['PoolArea'].apply(lambda x: 'Yes' if x>0 else 'No')\n",
    "\n",
    "    # convert to categorical\n",
    "    df[['KitchenAbvGr', 'TotRmsAbvGrd', 'BedroomAbvGr', 'GarageCars']] = df[['KitchenAbvGr', 'TotRmsAbvGrd', 'BedroomAbvGr', 'GarageCars']].astype(str)\n",
    "\n",
    "    # combine features of 'HalfBath', 'BsmtHalfBath', 'FullBath', 'BsmtFullBath'\n",
    "    df['TotalBath'] = df['HalfBath']/2 + df['BsmtHalfBath']/2 + df['FullBath'] + df['BsmtFullBath']\n",
    "    df['TotalBath'] = df['TotalBath'].astype('str')\n",
    "\n",
    "    # combine features of 'OpenPorchSF', 'EnclosedPorch', 'X3SsnPorch', 'ScreenPorch', 'WoodDeckSF'\n",
    "    df['Total_PorchSF'] = df['OpenPorchSF'] + df['EnclosedPorch'] + df['3SsnPorch'] + df['ScreenPorch'] + df['WoodDeckSF']\n",
    "\n",
    "    # combine features of TotalSF = TotalBsmtSF + X1stFlrSF + X2ndFlrSF\n",
    "    df['TotalSF'] = df['TotalBsmtSF'] + df['1stFlrSF'] + df['2ndFlrSF']\n",
    "\n",
    "    # combine features of 'BsmtFinSF1', 'BsmtFinSF2', 'X1stFlrSF', 'X2ndFlrSF'\n",
    "    df['TotalFinSF'] = df['BsmtFinSF1'] + df['BsmtFinSF2'] + df['1stFlrSF'] + df['2ndFlrSF']\n",
    "\n",
    "    # combine 'YearBuilt', 'YearRemodAdd'\n",
    "    df['YearBuildRemod'] = df['YearBuilt'] + df['YearRemodAdd']\n",
    "\n",
    "    # add new features\n",
    "    df['HasFireplace'] = df['Fireplaces'].apply(lambda x: 'Yes' if x>0 else 'No')\n",
    "\n",
    "    df['Has2ndFlr'] = df['2ndFlrSF'].apply(lambda x: 'Yes' if x>0 else 'No')\n",
    "\n",
    "    df['HasBasement'] = df['TotalBsmtSF'].apply(lambda x: 'Yes' if x>0 else 'No')\n",
    "\n",
    "    new_columns = list(set(df.columns).difference(to_remove))\n",
    "    \n",
    "\n",
    "    return df[new_columns]\n",
    "    "
   ]
  },
  {
   "cell_type": "code",
   "execution_count": 7,
   "metadata": {},
   "outputs": [],
   "source": [
    "def Feat_engineering(data):\n",
    "    df = data.copy()\n",
    "    \n",
    "     # convert to categorical\n",
    "    to_categorical = ['KitchenAbvGr', 'TotRmsAbvGrd', 'BedroomAbvGr', \n",
    "                      'GarageCars', 'HalfBath','BsmtHalfBath',\n",
    "                      'FullBath','BsmtFullBath','Fireplaces']\n",
    "    \n",
    "    df[to_categorical] = df[to_categorical].astype(str)\n",
    "\n",
    "    # drop features\n",
    "    to_remove=set(['Id', 'Street', 'Utilities','PoolQC'])\n",
    "    new_columns = list(set(df.columns).difference(to_remove))\n",
    "    \n",
    "    return df[new_columns]\n",
    "    "
   ]
  },
  {
   "cell_type": "code",
   "execution_count": 8,
   "metadata": {},
   "outputs": [],
   "source": [
    "all_data = Feat_engineering(all_data)"
   ]
  },
  {
   "cell_type": "code",
   "execution_count": 9,
   "metadata": {},
   "outputs": [],
   "source": [
    "categorical_feat = all_data.columns[all_data.dtypes=='object']\n",
    "numeric_feat = all_data.columns[all_data.dtypes!='object']"
   ]
  },
  {
   "cell_type": "code",
   "execution_count": 10,
   "metadata": {},
   "outputs": [
    {
     "name": "stdout",
     "output_type": "stream",
     "text": [
      "49\n",
      "27\n"
     ]
    }
   ],
   "source": [
    "print(len(categorical_feat))\n",
    "print(len(numeric_feat))"
   ]
  },
  {
   "cell_type": "markdown",
   "metadata": {},
   "source": [
    "### skew transform \n"
   ]
  },
  {
   "cell_type": "code",
   "execution_count": 11,
   "metadata": {},
   "outputs": [],
   "source": [
    "def skew_transform(data):\n",
    "    df = data.copy()\n",
    "    skew_features = df.apply(lambda x: skew(x)).sort_values(ascending=False)\n",
    "\n",
    "    high_skew = skew_features[skew_features > 0.75]\n",
    "    skew_index = high_skew.index\n",
    "    print(skew_index)\n",
    "\n",
    "    df[skew_index] = df[skew_index].apply(lambda x: boxcox1p(x, boxcox_normmax(x+1)))\n",
    "    return df"
   ]
  },
  {
   "cell_type": "code",
   "execution_count": 12,
   "metadata": {
    "scrolled": true
   },
   "outputs": [
    {
     "name": "stdout",
     "output_type": "stream",
     "text": [
      "Index(['MiscVal', 'PoolArea', 'LotArea', 'LowQualFinSF', '3SsnPorch',\n",
      "       'BsmtFinSF2', 'EnclosedPorch', 'ScreenPorch', 'MasVnrArea',\n",
      "       'OpenPorchSF', 'WoodDeckSF', 'LotFrontage', '1stFlrSF', 'BsmtFinSF1',\n",
      "       'MSSubClass', 'GrLivArea', 'TotalBsmtSF', 'BsmtUnfSF', '2ndFlrSF'],\n",
      "      dtype='object')\n"
     ]
    },
    {
     "name": "stderr",
     "output_type": "stream",
     "text": [
      "C:\\Users\\jtlqh\\Anaconda3\\lib\\site-packages\\scipy\\stats\\stats.py:3399: PearsonRConstantInputWarning: An input array is constant; the correlation coefficent is not defined.\n",
      "  warnings.warn(PearsonRConstantInputWarning())\n",
      "C:\\Users\\jtlqh\\Anaconda3\\lib\\site-packages\\scipy\\stats\\stats.py:3429: PearsonRNearConstantInputWarning: An input array is nearly constant; the computed correlation coefficent may be inaccurate.\n",
      "  warnings.warn(PearsonRNearConstantInputWarning())\n"
     ]
    }
   ],
   "source": [
    "all_data[numeric_feat] = skew_transform(all_data[numeric_feat])"
   ]
  },
  {
   "cell_type": "code",
   "execution_count": 17,
   "metadata": {},
   "outputs": [],
   "source": [
    "salePrice = np.log(train.SalePrice)"
   ]
  },
  {
   "cell_type": "code",
   "execution_count": 15,
   "metadata": {},
   "outputs": [],
   "source": [
    "plt.rcParams['figure.figsize']= [10.0, 4.0]"
   ]
  },
  {
   "cell_type": "code",
   "execution_count": 16,
   "metadata": {},
   "outputs": [
    {
     "data": {
      "image/png": "[encoded data removed]",
      "text/plain": [
       "<Figure size 720x288 with 1 Axes>"
      ]
     },
     "metadata": {
      "needs_background": "light"
     },
     "output_type": "display_data"
    }
   ],
   "source": [
    "salePrice.hist(bins=50)\n",
    "plt.title('SalePrice Historgram')\n",
    "plt.savefig('saleprice_log.png',bbox_inches='tight')\n"
   ]
  },
  {
   "cell_type": "code",
   "execution_count": 17,
   "metadata": {},
   "outputs": [
    {
     "data": {
      "text/plain": [
       "Index(['LotFrontage', 'MiscVal', '3SsnPorch', 'PoolArea', 'OverallQual',\n",
       "       'YearBuilt', 'LotArea', 'GarageArea', '2ndFlrSF', 'GarageYrBlt',\n",
       "       'TotalBsmtSF', '1stFlrSF', 'MoSold', 'MSSubClass', 'BsmtFinSF2',\n",
       "       'BsmtFinSF1', 'LowQualFinSF', 'ScreenPorch', 'EnclosedPorch',\n",
       "       'OpenPorchSF', 'GrLivArea', 'YearRemodAdd', 'WoodDeckSF', 'YrSold',\n",
       "       'OverallCond', 'MasVnrArea', 'BsmtUnfSF'],\n",
       "      dtype='object')"
      ]
     },
     "execution_count": 17,
     "metadata": {},
     "output_type": "execute_result"
    }
   ],
   "source": [
    "numeric_feat"
   ]
  },
  {
   "cell_type": "code",
   "execution_count": 17,
   "metadata": {},
   "outputs": [
    {
     "data": {
      "image/png": "[encoded data removed]",
      "text/plain": [
       "<Figure size 720x288 with 1 Axes>"
      ]
     },
     "metadata": {
      "needs_background": "light"
     },
     "output_type": "display_data"
    }
   ],
   "source": [
    "probplot(all_data['OverallQual'], plot=plt)\n",
    "plt.savefig('overallqual transformed.png',bbox_inches='tight')"
   ]
  },
  {
   "cell_type": "code",
   "execution_count": 18,
   "metadata": {},
   "outputs": [
    {
     "data": {
      "image/png": "[encoded data removed]",
      "text/plain": [
       "<Figure size 720x288 with 1 Axes>"
      ]
     },
     "metadata": {
      "needs_background": "light"
     },
     "output_type": "display_data"
    }
   ],
   "source": [
    "probplot(train['OverallQual'], plot=plt)\n",
    "plt.savefig('overallqual before.png',bbox_inches='tight')"
   ]
  },
  {
   "cell_type": "code",
   "execution_count": 18,
   "metadata": {},
   "outputs": [
    {
     "data": {
      "image/png": "[encoded data removed]",
      "text/plain": [
       "<Figure size 720x288 with 1 Axes>"
      ]
     },
     "metadata": {
      "needs_background": "light"
     },
     "output_type": "display_data"
    }
   ],
   "source": [
    "probplot(all_data['GrLivArea'], plot=plt)\n",
    "plt.savefig('GrLivArea transform.png',bbox_inches='tight')"
   ]
  },
  {
   "cell_type": "code",
   "execution_count": 20,
   "metadata": {},
   "outputs": [
    {
     "data": {
      "image/png": "[encoded data removed]",
      "text/plain": [
       "<Figure size 720x288 with 1 Axes>"
      ]
     },
     "metadata": {
      "needs_background": "light"
     },
     "output_type": "display_data"
    }
   ],
   "source": [
    "probplot(train['GrLivArea'], plot=plt)\n",
    "plt.savefig('GrLivArea before.png',bbox_inches='tight')"
   ]
  },
  {
   "cell_type": "code",
   "execution_count": 57,
   "metadata": {},
   "outputs": [
    {
     "name": "stdout",
     "output_type": "stream",
     "text": [
      "OverallQual\n",
      "          ZScore\n",
      "533   -3.688413\n",
      "375   -3.688413\n",
      "Name: OverallQual, dtype: float64\n",
      "GrLivArea\n",
      "          ZScore\n",
      "1298    4.090254\n",
      "523     3.532285\n",
      "1100   -3.568593\n",
      "533    -4.388380\n",
      "Name: GrLivArea, dtype: float64\n"
     ]
    }
   ],
   "source": [
    "from scipy.stats import zscore\n",
    "z_score = {}\n",
    "for i in numeric_feat:\n",
    "    z_score[i] = zscore(all_data[i].head(train.shape[0]))\n",
    "z_score = pd.DataFrame(z_score)\n",
    "\n",
    "for i in ['OverallQual','GrLivArea']:\n",
    "    print(\"{}\\n          ZScore\\n{}\".format(i,z_score[np.abs(z_score[i])>3.5][i].sort_values(ascending=False)))"
   ]
  },
  {
   "cell_type": "code",
   "execution_count": 17,
   "metadata": {},
   "outputs": [],
   "source": [
    "outliers = [1298, 533]"
   ]
  },
  {
   "cell_type": "code",
   "execution_count": 18,
   "metadata": {},
   "outputs": [],
   "source": [
    "\n",
    "to_drop = list(map(lambda x: x[0]+'_'+x[1],[(i, all_data[i].mode()[0]) for i in categorical_feat]))\n",
    "    "
   ]
  },
  {
   "cell_type": "code",
   "execution_count": 19,
   "metadata": {},
   "outputs": [
    {
     "data": {
      "text/plain": [
       "(2919, 309)"
      ]
     },
     "execution_count": 19,
     "metadata": {},
     "output_type": "execute_result"
    }
   ],
   "source": [
    "cat_dummy = pd.get_dummies(all_data[categorical_feat])\n",
    "cat_dummy.shape"
   ]
  },
  {
   "cell_type": "code",
   "execution_count": 20,
   "metadata": {},
   "outputs": [
    {
     "data": {
      "text/plain": [
       "(2919, 260)"
      ]
     },
     "execution_count": 20,
     "metadata": {},
     "output_type": "execute_result"
    }
   ],
   "source": [
    "cat_dummy = cat_dummy.drop(columns=to_drop)\n",
    "cat_dummy.shape"
   ]
  },
  {
   "cell_type": "code",
   "execution_count": 22,
   "metadata": {},
   "outputs": [],
   "source": [
    "from sklearn.preprocessing import LabelEncoder\n",
    "le=LabelEncoder()\n",
    "data_label = all_data.copy()\n",
    "for i in categorical_feat:\n",
    "    data_label[i] = le.fit_transform(data_label[i]) "
   ]
  },
  {
   "cell_type": "code",
   "execution_count": 23,
   "metadata": {},
   "outputs": [],
   "source": [
    "data_dummy = pd.concat([cat_dummy,all_data[numeric_feat]], axis=1)\n"
   ]
  },
  {
   "cell_type": "code",
   "execution_count": 24,
   "metadata": {},
   "outputs": [
    {
     "name": "stderr",
     "output_type": "stream",
     "text": [
      "C:\\Users\\jtlqh\\Anaconda3\\lib\\site-packages\\pandas\\core\\frame.py:3940: SettingWithCopyWarning: \n",
      "A value is trying to be set on a copy of a slice from a DataFrame\n",
      "\n",
      "See the caveats in the documentation: http://pandas.pydata.org/pandas-docs/stable/indexing.html#indexing-view-versus-copy\n",
      "  errors=errors)\n"
     ]
    }
   ],
   "source": [
    "X=data_dummy.head(train.shape[0])\n",
    "X.drop(outliers, inplace=True)\n",
    "y=salePrice.copy()\n",
    "y.drop(outliers, inplace=True)"
   ]
  },
  {
   "cell_type": "code",
   "execution_count": 25,
   "metadata": {},
   "outputs": [],
   "source": [
    "X_le=data_label.head(train.shape[0])\n",
    "X_le.drop(outliers, inplace=True)\n"
   ]
  },
  {
   "cell_type": "code",
   "execution_count": 27,
   "metadata": {},
   "outputs": [
    {
     "data": {
      "text/plain": [
       "(1458, 287)"
      ]
     },
     "execution_count": 27,
     "metadata": {},
     "output_type": "execute_result"
    }
   ],
   "source": [
    "X.shape"
   ]
  },
  {
   "cell_type": "code",
   "execution_count": 28,
   "metadata": {},
   "outputs": [
    {
     "data": {
      "text/plain": [
       "(1458, 76)"
      ]
     },
     "execution_count": 28,
     "metadata": {},
     "output_type": "execute_result"
    }
   ],
   "source": [
    "X_le.shape"
   ]
  },
  {
   "cell_type": "code",
   "execution_count": 29,
   "metadata": {},
   "outputs": [
    {
     "data": {
      "text/plain": [
       "(1458,)"
      ]
     },
     "execution_count": 29,
     "metadata": {},
     "output_type": "execute_result"
    }
   ],
   "source": [
    "y.shape"
   ]
  },
  {
   "cell_type": "code",
   "execution_count": 26,
   "metadata": {},
   "outputs": [],
   "source": [
    "def get_error(X_train,y_train,X_test,y_test, model, show = True, refit = True):\n",
    "    if refit: model.fit(X_train, y_train)\n",
    "    train_error = 1 - r2_score(y_train, model.predict(X_train))\n",
    "    test_error = 1 - r2_score(y_test,model.predict(X_test))\n",
    "    if show:\n",
    "        print(\"train error \", train_error)\n",
    "        print(\"test error\", test_error)\n",
    "    return [train_error, test_error]\n",
    "\n"
   ]
  },
  {
   "cell_type": "code",
   "execution_count": 27,
   "metadata": {},
   "outputs": [],
   "source": [
    "\n",
    "X_train, X_test, y_train, y_test = ms.train_test_split(X, y, test_size=0.2, random_state=108)\n",
    "train_idx = X_train.index\n",
    "test_idx = X_test.index"
   ]
  },
  {
   "cell_type": "code",
   "execution_count": 28,
   "metadata": {},
   "outputs": [],
   "source": [
    "plt.rcParams['figure.figsize']= [6.0, 5.0]"
   ]
  },
  {
   "cell_type": "markdown",
   "metadata": {},
   "source": [
    "### Modeling"
   ]
  },
  {
   "cell_type": "markdown",
   "metadata": {},
   "source": [
    "#### Ridge Regression"
   ]
  },
  {
   "cell_type": "code",
   "execution_count": 39,
   "metadata": {},
   "outputs": [],
   "source": [
    "X_train, X_test = X.loc[train_idx], X.loc[test_idx]"
   ]
  },
  {
   "cell_type": "code",
   "execution_count": 40,
   "metadata": {},
   "outputs": [
    {
     "name": "stdout",
     "output_type": "stream",
     "text": [
      "train error  0.05936266297706572\n",
      "test error 0.08868093545112687\n"
     ]
    },
    {
     "data": {
      "text/plain": [
       "[0.05936266297706572, 0.08868093545112687]"
      ]
     },
     "execution_count": 40,
     "metadata": {},
     "output_type": "execute_result"
    }
   ],
   "source": [
    "ridge = Ridge(alpha=6.666666666666667, copy_X=True, fit_intercept=True, max_iter=None,\n",
    "      normalize=False, random_state=108, solver='auto', tol=0.001)\n",
    "ridge.fit(X_train, y_train)\n",
    "get_error(X_train,y_train,X_test,y_test,ridge, True,False)"
   ]
  },
  {
   "cell_type": "code",
   "execution_count": 41,
   "metadata": {
    "scrolled": true
   },
   "outputs": [
    {
     "name": "stdout",
     "output_type": "stream",
     "text": [
      "Wall time: 2.9 s\n",
      "Ridge(alpha=6.666666666666667, copy_X=True, fit_intercept=True, max_iter=None,\n",
      "      normalize=False, random_state=108, solver='auto', tol=0.001)\n",
      "train error  0.05936266297706572\n",
      "test error 0.08868093545112676\n"
     ]
    },
    {
     "data": {
      "text/plain": [
       "[0.05936266297706572, 0.08868093545112676]"
      ]
     },
     "execution_count": 41,
     "metadata": {},
     "output_type": "execute_result"
    }
   ],
   "source": [
    "grid_para = dict(alpha = np.linspace(0,20,10))\n",
    "ridge.set_params(random_state=108, tol=0.001)\n",
    "grid_search_ridge = ms.GridSearchCV(ridge,  cv=5, param_grid=grid_para, n_jobs=-1, verbose=0)\n",
    "%time grid_search_ridge.fit(X_train,y_train)  # What to call to trigger the gridSearchCV\n",
    "ridge=grid_search_ridge.best_estimator_\n",
    "print(ridge)\n",
    "get_error(X_train,y_train,X_test,y_test,ridge, True,False) "
   ]
  },
  {
   "cell_type": "code",
   "execution_count": 42,
   "metadata": {},
   "outputs": [
    {
     "data": {
      "image/png": "[encoded data removed]",
      "text/plain": [
       "<Figure size 288x720 with 2 Axes>"
      ]
     },
     "metadata": {
      "needs_background": "light"
     },
     "output_type": "display_data"
    }
   ],
   "source": [
    "fig, axs = plt.subplots(nrows=2, ncols=1,  figsize=(4, 10*1))\n",
    "plt.plot\n",
    "coef = pd.Series(ridge.coef_,index=X_train.columns).sort_values()\n",
    "coef.tail(25).plot(kind='barh', ax=axs[0])\n",
    "coef.head(25).plot(kind='barh', ax=axs[1])\n",
    "axs[1].yaxis.set_label_position(\"right\")\n",
    "axs[1].yaxis.tick_right()\n",
    "plt.savefig('ridge coef.png',bbox_inches='tight')"
   ]
  },
  {
   "cell_type": "markdown",
   "metadata": {},
   "source": [
    "#### Lasso Regression"
   ]
  },
  {
   "cell_type": "code",
   "execution_count": 43,
   "metadata": {},
   "outputs": [
    {
     "name": "stdout",
     "output_type": "stream",
     "text": [
      "train error  0.06773661485746973\n",
      "test error 0.0946765240528421\n",
      "[0.06773661485746973, 0.0946765240528421]\n"
     ]
    },
    {
     "data": {
      "text/plain": [
       "0.014412958410070368"
      ]
     },
     "execution_count": 43,
     "metadata": {},
     "output_type": "execute_result"
    }
   ],
   "source": [
    "lasso = Lasso(alpha=0.0007199999999999999, copy_X=True, fit_intercept=True,\n",
    "      max_iter=1000, normalize=False, positive=False, precompute=False,\n",
    "      random_state=108, selection='cyclic', tol=0.0001, warm_start=False)\n",
    "lasso.fit(X_train, y_train)\n",
    "print(get_error(X_train, y_train, X_test, y_test, lasso))\n",
    "\n",
    "mean_squared_error(y_test, lasso.predict(X_test))"
   ]
  },
  {
   "cell_type": "code",
   "execution_count": 44,
   "metadata": {},
   "outputs": [
    {
     "name": "stdout",
     "output_type": "stream",
     "text": [
      "Wall time: 1.97 s\n",
      "Lasso(alpha=0.0007199999999999999, copy_X=True, fit_intercept=True,\n",
      "      max_iter=1000, normalize=False, positive=False, precompute=False,\n",
      "      random_state=108, selection='cyclic', tol=0.0001, warm_start=False)\n",
      "train error  0.06773661485746973\n",
      "test error 0.0946765240528421\n",
      "[0.06773661485746973, 0.0946765240528421]\n"
     ]
    },
    {
     "data": {
      "text/plain": [
       "0.014412958410070368"
      ]
     },
     "execution_count": 44,
     "metadata": {},
     "output_type": "execute_result"
    }
   ],
   "source": [
    "grid_para = dict(alpha = np.linspace(.0005,0.0009,21))\n",
    "grid_search_lasso = ms.GridSearchCV(lasso,  cv=5 ,param_grid=grid_para, n_jobs=-1)\n",
    "%time grid_search_lasso.fit(X_train,y_train)  # What to call to trigger the gridSearchCV\n",
    "lasso=grid_search_lasso.best_estimator_\n",
    "print(lasso)\n",
    "\n",
    "print(get_error(X_train, y_train, X_test, y_test, lasso))\n",
    "mean_squared_error(y_test, lasso.predict(X_test))"
   ]
  },
  {
   "cell_type": "code",
   "execution_count": 31,
   "metadata": {},
   "outputs": [
    {
     "name": "stdout",
     "output_type": "stream",
     "text": [
      "train error  0.06803100450421007\n",
      "test error 0.09478962175396544\n",
      "[0.06803100450421007, 0.09478962175396544]\n"
     ]
    },
    {
     "data": {
      "text/plain": [
       "0.014430175692589677"
      ]
     },
     "execution_count": 31,
     "metadata": {},
     "output_type": "execute_result"
    }
   ],
   "source": [
    "net = ElasticNet(alpha=0.00074, copy_X=True, fit_intercept=True, l1_ratio=0.99, max_iter=1000, normalize=False, positive=False,\n",
    "           precompute=False, random_state=108, selection='cyclic', tol=0.0001,\n",
    "           warm_start=False)\n",
    "net.fit(X_train, y_train)\n",
    "print(get_error(X_train, y_train, X_test, y_test, net))\n",
    "\n",
    "mean_squared_error(y_test, net.predict(X_test))"
   ]
  },
  {
   "cell_type": "code",
   "execution_count": 45,
   "metadata": {},
   "outputs": [
    {
     "name": "stdout",
     "output_type": "stream",
     "text": [
      "Wall time: 2.04 s\n",
      "ElasticNet(alpha=0.00074, copy_X=True, fit_intercept=True, l1_ratio=0.99,\n",
      "           max_iter=1000, normalize=False, positive=False, precompute=False,\n",
      "           random_state=108, selection='cyclic', tol=0.0001, warm_start=False)\n",
      "train error  0.06803100450421007\n",
      "test error 0.09478962175396544\n",
      "[0.06803100450421007, 0.09478962175396544]\n"
     ]
    },
    {
     "data": {
      "text/plain": [
       "0.014430175692589677"
      ]
     },
     "execution_count": 45,
     "metadata": {},
     "output_type": "execute_result"
    }
   ],
   "source": [
    "grid_para = dict(alpha = np.linspace(0.0005,0.0009,11), l1_ratio=np.linspace(0.99,.999,2))\n",
    "grid_search_net = ms.GridSearchCV(net,  cv=5, scoring = 'r2', param_grid=grid_para, n_jobs=-1)\n",
    "%time grid_search_net.fit(X_train,y_train)  # What to call to trigger the gridSearchCV\n",
    "net=grid_search_net.best_estimator_\n",
    "\n",
    "print(net)\n",
    "print(get_error(X_train, y_train, X_test, y_test, net))\n",
    "\n",
    "mean_squared_error(y_test, net.predict(X_test))"
   ]
  },
  {
   "cell_type": "code",
   "execution_count": 46,
   "metadata": {},
   "outputs": [
    {
     "data": {
      "text/plain": [
       "(1166, 76)"
      ]
     },
     "execution_count": 46,
     "metadata": {},
     "output_type": "execute_result"
    }
   ],
   "source": [
    "X_train, X_test = X_le.loc[train_idx], X_le.loc[test_idx] \n",
    "X_train.shape"
   ]
  },
  {
   "cell_type": "markdown",
   "metadata": {},
   "source": [
    "### Support Vector Machine"
   ]
  },
  {
   "cell_type": "code",
   "execution_count": 33,
   "metadata": {},
   "outputs": [
    {
     "name": "stdout",
     "output_type": "stream",
     "text": [
      "SVR(C=1000, cache_size=200, coef0=0.0, degree=3, epsilon=0.01, gamma=5e-07,\n",
      "    kernel='rbf', max_iter=-1, shrinking=True, tol=0.001, verbose=False)\n",
      "train error  0.06560297623623135\n",
      "test error 0.12825337716105045\n"
     ]
    },
    {
     "data": {
      "text/plain": [
       "[0.06560297623623135, 0.12825337716105045]"
      ]
     },
     "execution_count": 33,
     "metadata": {},
     "output_type": "execute_result"
    }
   ],
   "source": [
    "svm = SVR(C=1000, kernel='rbf', degree=3, epsilon=0.01, gamma=5e-7)\n",
    "print(svm)\n",
    "svm.fit(X_train, y_train)\n",
    "\n",
    "get_error(X_train,y_train, X_test,y_test,svm, True,False)"
   ]
  },
  {
   "cell_type": "code",
   "execution_count": 108,
   "metadata": {},
   "outputs": [
    {
     "name": "stdout",
     "output_type": "stream",
     "text": [
      "Wall time: 1min 22s\n",
      "SVR(C=1000.0, cache_size=200, coef0=0.0, degree=3, epsilon=0.01, gamma=5e-07,\n",
      "    kernel='rbf', max_iter=-1, shrinking=True, tol=0.001, verbose=False)\n",
      "train error  0.06560297623636202\n",
      "test error 0.12825337716090446\n",
      "[0.06560297623636202, 0.12825337716090446]\n"
     ]
    }
   ],
   "source": [
    "grid_para_svm = [\n",
    "    {'C': np.linspace(1000,10000,5),\n",
    "     'gamma': [5e-7],#np.linspace(1e-7,1e-6,5),\n",
    "     'epsilon': np.logspace(-2,0,6),\n",
    "     'degree': [3]\n",
    "     #'kernel': ['rbf']\n",
    "    }\n",
    "]\n",
    "#grid_search_svm =ms.RandomizedSearchCV(svm, grid_para_svm, cv = 5, n_jobs = -1, random_state=108)\n",
    "grid_search_svm = ms.GridSearchCV(svm, param_grid=grid_para_svm, cv=5, return_train_score=True,  n_jobs=-1)\n",
    "%time grid_search_svm.fit(X_train, y_train)\n",
    "\n",
    "svm =grid_search_svm.best_estimator_\n",
    "print(svm)\n",
    "\n",
    "print(get_error(X_train,y_train, X_test, y_test, svm))"
   ]
  },
  {
   "cell_type": "markdown",
   "metadata": {},
   "source": [
    "#### Random Forest"
   ]
  },
  {
   "cell_type": "code",
   "execution_count": 34,
   "metadata": {},
   "outputs": [
    {
     "name": "stdout",
     "output_type": "stream",
     "text": [
      "RandomForestRegressor(bootstrap=False, criterion='mse', max_depth=19,\n",
      "                      max_features=23, max_leaf_nodes=None,\n",
      "                      min_impurity_decrease=1e-06, min_impurity_split=None,\n",
      "                      min_samples_leaf=3, min_samples_split=2,\n",
      "                      min_weight_fraction_leaf=0.0001, n_estimators=58,\n",
      "                      n_jobs=None, oob_score=False, random_state=108, verbose=0,\n",
      "                      warm_start=False)\n",
      "train error  0.011808037837309215\n",
      "test error 0.1360888551552617\n",
      "[0.011808037837309215, 0.1360888551552617]\n"
     ]
    },
    {
     "data": {
      "text/plain": [
       "0.02071731117137475"
      ]
     },
     "execution_count": 34,
     "metadata": {},
     "output_type": "execute_result"
    }
   ],
   "source": [
    "\n",
    "rf = RandomForestRegressor(bootstrap=False, criterion='mse', max_depth=19,\n",
    "                      max_features=23, max_leaf_nodes=None,\n",
    "                      min_impurity_decrease=1e-06, min_impurity_split=None,\n",
    "                      min_samples_leaf=3, min_samples_split=2,\n",
    "                      min_weight_fraction_leaf=0.0001, n_estimators=58,\n",
    "                      n_jobs=None, oob_score=False, random_state=108, verbose=0,\n",
    "                      warm_start=False)\n",
    "\n",
    "print(rf)\n",
    "rf.fit(X_train,y_train)\n",
    "print(get_error(X_train, y_train, X_test, y_test, rf))\n",
    "mean_squared_error(y_test, rf.predict(X_test))\n"
   ]
  },
  {
   "cell_type": "code",
   "execution_count": 54,
   "metadata": {},
   "outputs": [
    {
     "name": "stdout",
     "output_type": "stream",
     "text": [
      "Wall time: 30 s\n",
      "RandomForestRegressor(bootstrap=False, criterion='mse', max_depth=19,\n",
      "                      max_features=21, max_leaf_nodes=None,\n",
      "                      min_impurity_decrease=1e-06, min_impurity_split=None,\n",
      "                      min_samples_leaf=3, min_samples_split=2,\n",
      "                      min_weight_fraction_leaf=0.0001, n_estimators=58,\n",
      "                      n_jobs=None, oob_score=False, random_state=108, verbose=0,\n",
      "                      warm_start=False)\n",
      "train error  0.012379288147262746\n",
      "test error 0.13791324266329164\n",
      "[0.012379288147262746, 0.13791324266329164]\n"
     ]
    },
    {
     "data": {
      "text/plain": [
       "0.020995044448342253"
      ]
     },
     "execution_count": 54,
     "metadata": {},
     "output_type": "execute_result"
    }
   ],
   "source": [
    "grid = {\n",
    "               'max_features': range(10,25),\n",
    "               'max_depth': range(10,25),\n",
    "               'min_samples_split': [2],\n",
    "               'min_samples_leaf': [3],\n",
    "                'n_estimators': [58],#range(30,60,2),\n",
    "              'min_weight_fraction_leaf':[0.0001],\n",
    "              'min_impurity_decrease':[0.000001]\n",
    "}\n",
    "grid_search_forest = ms.GridSearchCV(rf, grid, cv=5,  n_jobs=-1)\n",
    "#grid_search_forest = ms.RandomizedSearchCV(rf, random_grid, scoring ='r2', cv = 5, n_jobs = -1, random_state=108)\n",
    "%time grid_search_forest.fit(X_train, y_train)   # %time     is ipython magic command to measure the execution timebest_net=grid_search_net.best_estimator_\n",
    "\n",
    "rf = grid_search_forest.best_estimator_\n",
    "print(rf)\n",
    "\n",
    "print(get_error(X_train, y_train, X_test, y_test, rf))\n",
    "mean_squared_error(y_test, rf.predict(X_test))"
   ]
  },
  {
   "cell_type": "code",
   "execution_count": 100,
   "metadata": {},
   "outputs": [
    {
     "data": {
      "image/png": "[encoded data removed]",
      "text/plain": [
       "<Figure size 432x360 with 1 Axes>"
      ]
     },
     "metadata": {
      "needs_background": "light"
     },
     "output_type": "display_data"
    }
   ],
   "source": [
    "importance_rf = pd.Series(rf.feature_importances_, index=X_train.columns).sort_values(ascending=True)\n",
    "importance_rf.tail(20).plot(kind='barh', x=0, y=1)\n",
    "plt.title('Random Forest Feature Importance')\n",
    "plt.savefig('rf_features.png',bbox_inches='tight')"
   ]
  },
  {
   "cell_type": "markdown",
   "metadata": {},
   "source": [
    "#### Gradient Boosting Machine"
   ]
  },
  {
   "cell_type": "code",
   "execution_count": 35,
   "metadata": {},
   "outputs": [
    {
     "name": "stdout",
     "output_type": "stream",
     "text": [
      "GradientBoostingRegressor(alpha=0.9, criterion='friedman_mse', init=None,\n",
      "                          learning_rate=0.03, loss='ls', max_depth=3,\n",
      "                          max_features=2, max_leaf_nodes=None,\n",
      "                          min_impurity_decrease=0.0, min_impurity_split=None,\n",
      "                          min_samples_leaf=2, min_samples_split=2,\n",
      "                          min_weight_fraction_leaf=0.0, n_estimators=2800,\n",
      "                          n_iter_no_change=None, presort='auto',\n",
      "                          random_state=108, subsample=0.9, tol=0.0001,\n",
      "                          validation_fraction=0.1, verbose=0, warm_start=False)\n",
      "train error  0.011966997831517667\n",
      "test error 0.10033282572514368\n",
      "[0.011966997831517667, 0.10033282572514368]\n"
     ]
    },
    {
     "data": {
      "text/plain": [
       "0.015274038192764879"
      ]
     },
     "execution_count": 35,
     "metadata": {},
     "output_type": "execute_result"
    }
   ],
   "source": [
    "gbmr = GradientBoostingRegressor(alpha=0.9, criterion='friedman_mse', init=None,\n",
    "                          learning_rate=0.03, loss='ls', max_depth=3,\n",
    "                          max_features=2, max_leaf_nodes=None,\n",
    "                          min_impurity_decrease=0.0, min_impurity_split=None,\n",
    "                          min_samples_leaf=2, min_samples_split=2,\n",
    "                          min_weight_fraction_leaf=0.0, n_estimators=2800,\n",
    "                          n_iter_no_change=None, presort='auto',\n",
    "                          random_state=108, subsample=0.9, tol=0.0001,\n",
    "                          validation_fraction=0.1, verbose=0, warm_start=False)\n",
    "print(gbmr)\n",
    "gbmr.fit(X_train,y_train)\n",
    "print(get_error(X_train, y_train, X_test, y_test, gbmr))\n",
    "mean_squared_error(y_test, gbmr.predict(X_test))"
   ]
  },
  {
   "cell_type": "code",
   "execution_count": 61,
   "metadata": {},
   "outputs": [
    {
     "name": "stdout",
     "output_type": "stream",
     "text": [
      "Wall time: 3.58 s\n",
      "GradientBoostingRegressor(alpha=0.9, criterion='friedman_mse', init=None,\n",
      "                          learning_rate=0.03, loss='ls', max_depth=3,\n",
      "                          max_features=2, max_leaf_nodes=None,\n",
      "                          min_impurity_decrease=0.0, min_impurity_split=None,\n",
      "                          min_samples_leaf=2, min_samples_split=2,\n",
      "                          min_weight_fraction_leaf=0.0, n_estimators=2800,\n",
      "                          n_iter_no_change=None, presort='auto',\n",
      "                          random_state=108, subsample=0.9, tol=0.0001,\n",
      "                          validation_fraction=0.1, verbose=0, warm_start=False)\n",
      "train error  0.012297182518374083\n",
      "test error 0.10006703958783014\n",
      "[0.012297182518374083, 0.10006703958783014]\n"
     ]
    },
    {
     "data": {
      "text/plain": [
       "0.01523357658328569"
      ]
     },
     "execution_count": 61,
     "metadata": {},
     "output_type": "execute_result"
    }
   ],
   "source": [
    "param_grid = {'n_estimators': [2800],#range(3000,5000,100),\n",
    "               'max_features': [2],#range(2,4),\n",
    "               'max_depth': [3],#range(2,4),\n",
    "               'min_samples_split': [2],\n",
    "               'min_samples_leaf': [2],\n",
    "               'learning_rate': [0.03],#np.linspace(0.02,0.03,11),\n",
    "                'subsample':[0.9]}\n",
    "grid_search_gbmr =ms.GridSearchCV(gbmr, param_grid=param_grid, cv=5, #scoring='neg_mean_squared_error', \\\n",
    "                                  return_train_score=True,n_jobs=-1)\n",
    "%time grid_search_gbmr.fit(X_train,y_train)\n",
    "\n",
    "gbmr=grid_search_gbmr.best_estimator_\n",
    "print(gbmr)\n",
    "\n",
    "print(get_error(X_train, y_train, X_test, y_test, gbmr))\n",
    "mean_squared_error(y_test, gbmr.predict(X_test))"
   ]
  },
  {
   "cell_type": "code",
   "execution_count": 99,
   "metadata": {},
   "outputs": [
    {
     "data": {
      "image/png": "[encoded data removed]",
      "text/plain": [
       "<Figure size 432x360 with 1 Axes>"
      ]
     },
     "metadata": {
      "needs_background": "light"
     },
     "output_type": "display_data"
    }
   ],
   "source": [
    "importance_gbmr = pd.Series(gbmr.feature_importances_, index=X_train.columns).sort_values(ascending=True)\n",
    "importance_gbmr.tail(20).plot(kind='barh', x=0, y=1)\n",
    "plt.title('Gradient Boosting Feature Importance')\n",
    "plt.savefig('gbm_features.png',bbox_inches='tight')"
   ]
  },
  {
   "cell_type": "markdown",
   "metadata": {},
   "source": [
    "#### Xgboost Regression"
   ]
  },
  {
   "cell_type": "code",
   "execution_count": 47,
   "metadata": {
    "scrolled": true
   },
   "outputs": [
    {
     "name": "stdout",
     "output_type": "stream",
     "text": [
      "XGBRegressor(base_score=0.5, booster='gbtree', colsample_bylevel=1,\n",
      "             colsample_bynode=0.7, colsample_bytree=0.4, gamma=0.0,\n",
      "             importance_type='gain', learning_rate=0.02, max_delta_step=0,\n",
      "             max_depth=3, min_child_weight=1, missing=None, n_estimators=800,\n",
      "             n_jobs=-1, nthread=-1, objective='reg:linear', random_state=108,\n",
      "             reg_alpha=0.4, reg_lambda=0.5, scale_pos_weight=1, seed=0,\n",
      "             silent=None, subsample=1, verbosity=1)\n",
      "[08:17:44] WARNING: d:\\build\\xgboost\\xgboost-0.90.git\\src\\objective\\regression_obj.cu:152: reg:linear is now deprecated in favor of reg:squarederror.\n",
      "Wall time: 453 ms\n",
      "[08:17:45] WARNING: d:\\build\\xgboost\\xgboost-0.90.git\\src\\objective\\regression_obj.cu:152: reg:linear is now deprecated in favor of reg:squarederror.\n",
      "train error  0.03786393083464401\n",
      "test error 0.10513172435108775\n",
      "[0.03786393083464401, 0.10513172435108775]\n"
     ]
    },
    {
     "data": {
      "text/plain": [
       "0.01600459232962009"
      ]
     },
     "execution_count": 47,
     "metadata": {},
     "output_type": "execute_result"
    }
   ],
   "source": [
    "warnings.filterwarnings('ignore')\n",
    "xgb = xgboost.XGBRegressor(base_score=0.5, booster='gbtree', colsample_bylevel=1,\n",
    "             colsample_bynode=0.7, colsample_bytree=0.4, gamma=0.0,\n",
    "             importance_type='gain', learning_rate=0.02, max_delta_step=0,\n",
    "             max_depth=3, min_child_weight=1, missing=None, n_estimators=800,\n",
    "             n_jobs=-1, nthread=-1, objective='reg:linear', random_state=108,\n",
    "             reg_alpha=0.4, reg_lambda=0.5, scale_pos_weight=1, seed=0,\n",
    "             silent=None, subsample=1, verbosity=1 \n",
    "            )\n",
    "print(xgb)\n",
    "\n",
    "%time xgb.fit(X_train, y_train, eval_metric='rmse', eval_set=[(X_test, y_test)], early_stopping_rounds=100,verbose=False)\n",
    "print(get_error(X_train, y_train, X_test, y_test, xgb))\n",
    "mean_squared_error(y_test, xgb.predict(X_test))\n"
   ]
  },
  {
   "cell_type": "code",
   "execution_count": 48,
   "metadata": {},
   "outputs": [
    {
     "name": "stdout",
     "output_type": "stream",
     "text": [
      "[08:19:43] WARNING: d:\\build\\xgboost\\xgboost-0.90.git\\src\\objective\\regression_obj.cu:152: reg:linear is now deprecated in favor of reg:squarederror.\n",
      "Wall time: 49.6 s\n",
      "XGBRegressor(base_score=0.5, booster='gbtree', colsample_bylevel=1,\n",
      "             colsample_bynode=0.7, colsample_bytree=0.4, gamma=0.0,\n",
      "             importance_type='gain', learning_rate=0.01, max_delta_step=0,\n",
      "             max_depth=4, min_child_weight=1, missing=None, n_estimators=1400,\n",
      "             n_jobs=-1, nthread=-1, objective='reg:linear', random_state=108,\n",
      "             reg_alpha=0.4, reg_lambda=0.5, scale_pos_weight=1, seed=0,\n",
      "             silent=None, subsample=1, verbosity=1)\n",
      "[08:19:44] WARNING: d:\\build\\xgboost\\xgboost-0.90.git\\src\\objective\\regression_obj.cu:152: reg:linear is now deprecated in favor of reg:squarederror.\n",
      "train error  0.028729300435259675\n",
      "test error 0.10456154205342627\n",
      "[0.028729300435259675, 0.10456154205342627]\n"
     ]
    },
    {
     "data": {
      "text/plain": [
       "0.015917791363651318"
      ]
     },
     "execution_count": 48,
     "metadata": {},
     "output_type": "execute_result"
    }
   ],
   "source": [
    "params = {'n_estimators': range(500,1500,100),# \n",
    "          'max_depth': range(3,5),\n",
    "          'min_child_weight':[1],#range(1,6),#[1], \n",
    "          'gamma': [0.0],#np.linspace(0,.4,5),#[0],\n",
    "          'subsample':[1],\n",
    "          'colsample_bytree':[0.4],\n",
    "          'scale_pos_weight':[1],\n",
    "          'learning_rate': np.linspace(0.01,0.3,11),\n",
    "          'reg_alpha':[0.4],#np.linspace(0,.5,6),\n",
    "          'reg_lambda':[0.5],#np.linspace(1,.1,11)\n",
    "         }\n",
    "\n",
    "grid_search_xgb = ms.GridSearchCV(xgb, params, cv=5, #scoring='neg_mean_squared_error',\\\n",
    "                                  return_train_score=True, n_jobs=-1)\n",
    "%time grid_search_xgb.fit(X_train, y_train, eval_metric='rmse', eval_set=[(X_test, y_test)], \\\n",
    "                          early_stopping_rounds=11, verbose =0)\n",
    "\n",
    "xgb=grid_search_xgb.best_estimator_\n",
    "\n",
    "print(xgb)\n",
    "\n",
    "print(get_error(X_train, y_train, X_test, y_test, xgb))\n",
    "mean_squared_error(y_test, xgb.predict(X_test))"
   ]
  },
  {
   "cell_type": "code",
   "execution_count": 98,
   "metadata": {
    "scrolled": true
   },
   "outputs": [
    {
     "data": {
      "image/png": "[encoded data removed]",
      "text/plain": [
       "<Figure size 432x360 with 1 Axes>"
      ]
     },
     "metadata": {
      "needs_background": "light"
     },
     "output_type": "display_data"
    }
   ],
   "source": [
    "importance_xgb = pd.Series(xgb.feature_importances_, index=X_train.columns).sort_values()\n",
    "importance_xgb.tail(20).plot(kind='barh', x=0, y=1)\n",
    "\n",
    "plt.title('XGBoost Feature Importance')\n",
    "plt.savefig('XGBoost_features.png',bbox_inches='tight')"
   ]
  },
  {
   "cell_type": "markdown",
   "metadata": {},
   "source": [
    "\n",
    "### Asemble all models"
   ]
  },
  {
   "cell_type": "code",
   "execution_count": 49,
   "metadata": {},
   "outputs": [],
   "source": [
    "models = {'ridge':ridge, 'lasso':lasso,'ElasticNet':net, 'svm':svm,'forest':rf, 'gradient boost':gbmr, 'xgboost':xgb}\n",
    "models = pd.Series(models)"
   ]
  },
  {
   "cell_type": "code",
   "execution_count": 50,
   "metadata": {},
   "outputs": [
    {
     "data": {
      "text/plain": [
       "ridge             0.088681\n",
       "lasso             0.094677\n",
       "ElasticNet        0.094790\n",
       "gradient boost    0.100333\n",
       "xgboost           0.104562\n",
       "svm               0.128253\n",
       "forest            0.136089\n",
       "dtype: float64"
      ]
     },
     "execution_count": 50,
     "metadata": {},
     "output_type": "execute_result"
    }
   ],
   "source": [
    "mse = {}\n",
    "for i,model in models.items():\n",
    "    if model in [ridge, lasso, net]:\n",
    "        mse[i] = 1-r2_score(y_test, model.predict(X.loc[test_idx])) \n",
    "    else:\n",
    "        mse[i]= 1- r2_score(y_test, model.predict(X_le.loc[test_idx]))\n",
    "pd.Series(mse).sort_values()"
   ]
  },
  {
   "cell_type": "markdown",
   "metadata": {},
   "source": [
    "### Fit Models"
   ]
  },
  {
   "cell_type": "code",
   "execution_count": 113,
   "metadata": {},
   "outputs": [
    {
     "name": "stdout",
     "output_type": "stream",
     "text": [
      "[21:54:30] WARNING: d:\\build\\xgboost\\xgboost-0.90.git\\src\\objective\\regression_obj.cu:152: reg:linear is now deprecated in favor of reg:squarederror.\n"
     ]
    }
   ],
   "source": [
    "for model in models:\n",
    "    if model in [ridge, lasso, net]:\n",
    "        model.fit(X, y)\n",
    "    else:\n",
    "        model.fit(X_le,y)"
   ]
  },
  {
   "cell_type": "code",
   "execution_count": 114,
   "metadata": {},
   "outputs": [
    {
     "data": {
      "text/plain": [
       "ridge             0.009719\n",
       "lasso             0.011488\n",
       "ElasticNet        0.011541\n",
       "svm               0.011450\n",
       "forest            0.001953\n",
       "gradient boost    0.002711\n",
       "xgboost           0.007089\n",
       "dtype: float64"
      ]
     },
     "execution_count": 114,
     "metadata": {},
     "output_type": "execute_result"
    }
   ],
   "source": [
    "mse = pd.Series(index=models.index)\n",
    "for i,model in models.items():\n",
    "    if model in [ridge, lasso, net]:\n",
    "        mse[i] = mean_squared_error(y, model.predict(X))\n",
    "    else:\n",
    "        mse[i] = mean_squared_error(y, model.predict(X_le))\n",
    "mse"
   ]
  },
  {
   "cell_type": "markdown",
   "metadata": {},
   "source": [
    "### SalePrice Prediction"
   ]
  },
  {
   "cell_type": "code",
   "execution_count": 115,
   "metadata": {},
   "outputs": [
    {
     "name": "stdout",
     "output_type": "stream",
     "text": [
      "(1459, 80)\n"
     ]
    }
   ],
   "source": [
    "print(test.shape)\n",
    "submissions = pd.DataFrame(index=test.index)\n",
    "submissions['Id'] =test['Id']\n"
   ]
  },
  {
   "cell_type": "code",
   "execution_count": 117,
   "metadata": {},
   "outputs": [],
   "source": [
    "data_dummy_test = data_dummy.tail(test.shape[0])\n",
    "data_le_test = data_label.tail(test.shape[0])\n"
   ]
  },
  {
   "cell_type": "code",
   "execution_count": 118,
   "metadata": {},
   "outputs": [
    {
     "name": "stdout",
     "output_type": "stream",
     "text": [
      "(1459, 1) (1459, 287) (1459, 76)\n"
     ]
    }
   ],
   "source": [
    "print(submissions.shape, data_dummy_test.shape, data_le_test.shape)"
   ]
  },
  {
   "cell_type": "code",
   "execution_count": 119,
   "metadata": {},
   "outputs": [],
   "source": [
    "# y prediction\n",
    "for i in models.index:\n",
    "    if models[i] in [ridge, lasso, net]:\n",
    "        submissions[i] = models[i].predict(data_dummy_test)\n",
    "    else:\n",
    "        submissions[i] = models[i].predict(data_le_test)\n"
   ]
  },
  {
   "cell_type": "code",
   "execution_count": 120,
   "metadata": {},
   "outputs": [
    {
     "data": {
      "text/html": [
       "<div>\n",
       "<style scoped>\n",
       "    .dataframe tbody tr th:only-of-type {\n",
       "        vertical-align: middle;\n",
       "    }\n",
       "\n",
       "    .dataframe tbody tr th {\n",
       "        vertical-align: top;\n",
       "    }\n",
       "\n",
       "    .dataframe thead th {\n",
       "        text-align: right;\n",
       "    }\n",
       "</style>\n",
       "<table border=\"1\" class=\"dataframe\">\n",
       "  <thead>\n",
       "    <tr style=\"text-align: right;\">\n",
       "      <th></th>\n",
       "      <th>Id</th>\n",
       "      <th>ridge</th>\n",
       "      <th>lasso</th>\n",
       "      <th>ElasticNet</th>\n",
       "      <th>svm</th>\n",
       "      <th>forest</th>\n",
       "      <th>gradient boost</th>\n",
       "      <th>xgboost</th>\n",
       "    </tr>\n",
       "  </thead>\n",
       "  <tbody>\n",
       "    <tr>\n",
       "      <th>0</th>\n",
       "      <td>1461</td>\n",
       "      <td>124986.1</td>\n",
       "      <td>128426.0</td>\n",
       "      <td>128493.2</td>\n",
       "      <td>122650.2</td>\n",
       "      <td>125022.0</td>\n",
       "      <td>127721.7</td>\n",
       "      <td>126120.9</td>\n",
       "    </tr>\n",
       "    <tr>\n",
       "      <th>1</th>\n",
       "      <td>1462</td>\n",
       "      <td>155424.6</td>\n",
       "      <td>156056.1</td>\n",
       "      <td>155990.8</td>\n",
       "      <td>162322.2</td>\n",
       "      <td>150892.2</td>\n",
       "      <td>162710.0</td>\n",
       "      <td>154662.3</td>\n",
       "    </tr>\n",
       "    <tr>\n",
       "      <th>2</th>\n",
       "      <td>1463</td>\n",
       "      <td>187146.6</td>\n",
       "      <td>186741.4</td>\n",
       "      <td>186770.8</td>\n",
       "      <td>183461.5</td>\n",
       "      <td>183013.7</td>\n",
       "      <td>197146.1</td>\n",
       "      <td>181668.1</td>\n",
       "    </tr>\n",
       "    <tr>\n",
       "      <th>3</th>\n",
       "      <td>1464</td>\n",
       "      <td>201548.4</td>\n",
       "      <td>205061.8</td>\n",
       "      <td>205137.8</td>\n",
       "      <td>193071.1</td>\n",
       "      <td>186024.4</td>\n",
       "      <td>201804.8</td>\n",
       "      <td>188533.6</td>\n",
       "    </tr>\n",
       "    <tr>\n",
       "      <th>4</th>\n",
       "      <td>1465</td>\n",
       "      <td>197769.1</td>\n",
       "      <td>196524.6</td>\n",
       "      <td>196455.4</td>\n",
       "      <td>184629.1</td>\n",
       "      <td>192871.5</td>\n",
       "      <td>189588.0</td>\n",
       "      <td>195218.4</td>\n",
       "    </tr>\n",
       "    <tr>\n",
       "      <th>5</th>\n",
       "      <td>1466</td>\n",
       "      <td>170534.8</td>\n",
       "      <td>171702.8</td>\n",
       "      <td>171770.7</td>\n",
       "      <td>175385.4</td>\n",
       "      <td>180334.9</td>\n",
       "      <td>183791.1</td>\n",
       "      <td>172002.0</td>\n",
       "    </tr>\n",
       "    <tr>\n",
       "      <th>6</th>\n",
       "      <td>1467</td>\n",
       "      <td>177032.7</td>\n",
       "      <td>182070.2</td>\n",
       "      <td>182145.5</td>\n",
       "      <td>182337.2</td>\n",
       "      <td>174977.3</td>\n",
       "      <td>178865.9</td>\n",
       "      <td>173506.2</td>\n",
       "    </tr>\n",
       "    <tr>\n",
       "      <th>7</th>\n",
       "      <td>1468</td>\n",
       "      <td>160065.8</td>\n",
       "      <td>162130.7</td>\n",
       "      <td>162214.6</td>\n",
       "      <td>155304.8</td>\n",
       "      <td>177060.8</td>\n",
       "      <td>171707.4</td>\n",
       "      <td>163051.7</td>\n",
       "    </tr>\n",
       "    <tr>\n",
       "      <th>8</th>\n",
       "      <td>1469</td>\n",
       "      <td>189106.3</td>\n",
       "      <td>196391.2</td>\n",
       "      <td>196376.2</td>\n",
       "      <td>179567.7</td>\n",
       "      <td>178917.8</td>\n",
       "      <td>170064.3</td>\n",
       "      <td>180654.5</td>\n",
       "    </tr>\n",
       "    <tr>\n",
       "      <th>9</th>\n",
       "      <td>1470</td>\n",
       "      <td>120799.2</td>\n",
       "      <td>118218.0</td>\n",
       "      <td>118142.6</td>\n",
       "      <td>120483.7</td>\n",
       "      <td>127223.8</td>\n",
       "      <td>123254.2</td>\n",
       "      <td>122058.7</td>\n",
       "    </tr>\n",
       "  </tbody>\n",
       "</table>\n",
       "</div>"
      ],
      "text/plain": [
       "     Id     ridge     lasso  ElasticNet       svm    forest  gradient boost  \\\n",
       "0  1461  124986.1  128426.0    128493.2  122650.2  125022.0        127721.7   \n",
       "1  1462  155424.6  156056.1    155990.8  162322.2  150892.2        162710.0   \n",
       "2  1463  187146.6  186741.4    186770.8  183461.5  183013.7        197146.1   \n",
       "3  1464  201548.4  205061.8    205137.8  193071.1  186024.4        201804.8   \n",
       "4  1465  197769.1  196524.6    196455.4  184629.1  192871.5        189588.0   \n",
       "5  1466  170534.8  171702.8    171770.7  175385.4  180334.9        183791.1   \n",
       "6  1467  177032.7  182070.2    182145.5  182337.2  174977.3        178865.9   \n",
       "7  1468  160065.8  162130.7    162214.6  155304.8  177060.8        171707.4   \n",
       "8  1469  189106.3  196391.2    196376.2  179567.7  178917.8        170064.3   \n",
       "9  1470  120799.2  118218.0    118142.6  120483.7  127223.8        123254.2   \n",
       "\n",
       "    xgboost  \n",
       "0  126120.9  \n",
       "1  154662.3  \n",
       "2  181668.1  \n",
       "3  188533.6  \n",
       "4  195218.4  \n",
       "5  172002.0  \n",
       "6  173506.2  \n",
       "7  163051.7  \n",
       "8  180654.5  \n",
       "9  122058.7  "
      ]
     },
     "execution_count": 120,
     "metadata": {},
     "output_type": "execute_result"
    }
   ],
   "source": [
    "submissions.iloc[:,1:] = submissions.iloc[:,1:].apply(lambda x: np.round(np.exp(x),1), axis=1)\n",
    "\n",
    "submissions.head(10)"
   ]
  },
  {
   "cell_type": "code",
   "execution_count": 121,
   "metadata": {},
   "outputs": [],
   "source": [
    "comp = pd.read_csv('top 1 sample.csv')"
   ]
  },
  {
   "cell_type": "code",
   "execution_count": 122,
   "metadata": {},
   "outputs": [
    {
     "name": "stdout",
     "output_type": "stream",
     "text": [
      "ridge             5842.583262508573\n",
      "lasso               5759.1404249486\n",
      "ElasticNet             5780.451254283762\n",
      "svm            10373.131103495558\n",
      "forest            10651.868594928055\n",
      "gradient boost             7574.239328307051\n",
      "xgboost             7501.513283070597\n"
     ]
    }
   ],
   "source": [
    "# comparing predictions with top 1 submission in the competition, ridge, lasso, elasticnet are the closest\n",
    "for i in models.index:\n",
    "    print('{}{:>30}'.format(i, np.sqrt((submissions[i]- comp['SalePrice'])**2).mean()))"
   ]
  },
  {
   "cell_type": "markdown",
   "metadata": {},
   "source": [
    "### Blending Models"
   ]
  },
  {
   "cell_type": "code",
   "execution_count": 123,
   "metadata": {},
   "outputs": [
    {
     "name": "stdout",
     "output_type": "stream",
     "text": [
      "1.0\n"
     ]
    },
    {
     "data": {
      "text/plain": [
       "10208.906963035659"
      ]
     },
     "execution_count": 123,
     "metadata": {},
     "output_type": "execute_result"
    }
   ],
   "source": [
    "# msre 10208, this is the best combination kaggle socre 11752\n",
    "weights = pd.Series({'ridge':0.39, 'lasso':0.23, 'ElasticNet':0.23, 'svm':0.0,'forest':0.01, 'gradient boost':0.07, 'xgboost':0.07})\n",
    "print(weights.sum())\n",
    "\n",
    "# checking mean square error root with top 1 submission\n",
    "np.sqrt((((submissions.drop('Id', 1)*weights).sum(axis=1)-comp['SalePrice'])**2).mean())\n"
   ]
  },
  {
   "cell_type": "code",
   "execution_count": 96,
   "metadata": {},
   "outputs": [],
   "source": [
    "submissions['blend']=np.round((submissions*weights).sum(axis=1), 1)"
   ]
  },
  {
   "cell_type": "code",
   "execution_count": 124,
   "metadata": {},
   "outputs": [],
   "source": [
    "for name in submissions.columns[1:]:\n",
    "    data=submissions[['Id', name]]\n",
    "    data.columns=['Id','SalePrice']\n",
    "    data.to_csv(name+\"_py3.csv\", index=False)\n"
   ]
  },
  {
   "cell_type": "markdown",
   "metadata": {},
   "source": [
    "### Kaggle Score for Models"
   ]
  },
  {
   "cell_type": "code",
   "execution_count": 126,
   "metadata": {},
   "outputs": [
    {
     "name": "stdout",
     "output_type": "stream",
     "text": [
      "Kaggle Score for Each Model\n",
      "ridge             0.11926\n",
      "lasso             0.11910\n",
      "ElasticNet        0.11912\n",
      "svm               0.13582\n",
      "random forest     0.14278\n",
      "gradient boost    0.12790\n",
      "xgboost           0.12734\n",
      "blend             0.11752\n",
      "dtype: float64\n"
     ]
    }
   ],
   "source": [
    "kaggle_score={'ridge':.11926, 'lasso':.11910, 'ElasticNet':.11912,'svm':.13582,'random forest':.14278, 'gradient boost':.12790, 'xgboost':.12734, 'blend':.11752}\n",
    "print('Kaggle Score for Each Model\\n{}'.format(pd.Series(kaggle_score)))"
   ]
  },
  {
   "cell_type": "markdown",
   "metadata": {},
   "source": [
    "The blended model puts my position at 18% at the time of submission"
   ]
  }
 ],
 "metadata": {
  "kernelspec": {
   "display_name": "Python 3",
   "language": "python",
   "name": "python3"
  },
  "language_info": {
   "codemirror_mode": {
    "name": "ipython",
    "version": 3
   },
   "file_extension": ".py",
   "mimetype": "text/x-python",
   "name": "python",
   "nbconvert_exporter": "python",
   "pygments_lexer": "ipython3",
   "version": "3.7.3"
  }
 },
 "nbformat": 4,
 "nbformat_minor": 2
}
