{
 "cells": [
  {
   "cell_type": "code",
   "execution_count": 16,
   "metadata": {},
   "outputs": [
    {
     "name": "stdout",
     "output_type": "stream",
     "text": [
      "3 : fizz\n",
      "5 : booz\n",
      "6 : fizz\n",
      "9 : fizz\n",
      "10 : booz\n",
      "12 : fizz\n",
      "15 : fizzbooz\n",
      "18 : fizz\n",
      "20 : booz\n",
      "21 : fizz\n",
      "24 : fizz\n",
      "25 : booz\n",
      "27 : fizz\n",
      "30 : fizzbooz\n",
      "33 : fizz\n",
      "35 : booz\n",
      "36 : fizz\n",
      "39 : fizz\n",
      "40 : booz\n",
      "42 : fizz\n",
      "45 : fizzbooz\n",
      "48 : fizz\n",
      "50 : booz\n",
      "51 : fizz\n",
      "54 : fizz\n",
      "55 : booz\n",
      "57 : fizz\n",
      "60 : fizzbooz\n",
      "63 : fizz\n",
      "65 : booz\n",
      "66 : fizz\n",
      "69 : fizz\n",
      "70 : booz\n",
      "72 : fizz\n",
      "75 : fizzbooz\n",
      "78 : fizz\n",
      "80 : booz\n",
      "81 : fizz\n",
      "84 : fizz\n",
      "85 : booz\n",
      "87 : fizz\n",
      "90 : fizzbooz\n",
      "93 : fizz\n",
      "95 : booz\n",
      "96 : fizz\n",
      "99 : fizz\n",
      "100 : booz\n"
     ]
    }
   ],
   "source": [
    "for i in range(1,101):\n",
    "    if i%3==0 and i%5==0: print(i, ': fizzbooz')\n",
    "    elif i % 3 ==0: print(i, ': fizz'  )\n",
    "    elif i % 5 == 0: print(i, ': booz')\n",
    "    "
   ]
  },
  {
   "cell_type": "code",
   "execution_count": 41,
   "metadata": {},
   "outputs": [
    {
     "data": {
      "text/plain": [
       "[2, 3, 5, 7, 11, 13]"
      ]
     },
     "execution_count": 41,
     "metadata": {},
     "output_type": "execute_result"
    }
   ],
   "source": [
    "lower = 2\n",
    "upper = 13\n",
    "\n",
    "# Initialize a list\n",
    "primes = []\n",
    "for possiblePrime in range(2, upper+1):\n",
    "    \n",
    "    # Assume number is prime until shown it is not. \n",
    "    isPrime = True\n",
    "    for num in range(2, possiblePrime):\n",
    "        if possiblePrime % num == 0:\n",
    "            isPrime = False\n",
    "      \n",
    "    if isPrime:\n",
    "        primes.append(possiblePrime)\n",
    "primes"
   ]
  }
 ],
 "metadata": {
  "kernelspec": {
   "display_name": "Python 3",
   "language": "python",
   "name": "python3"
  },
  "language_info": {
   "codemirror_mode": {
    "name": "ipython",
    "version": 3
   },
   "file_extension": ".py",
   "mimetype": "text/x-python",
   "name": "python",
   "nbconvert_exporter": "python",
   "pygments_lexer": "ipython3",
   "version": "3.7.1"
  }
 },
 "nbformat": 4,
 "nbformat_minor": 2
}
